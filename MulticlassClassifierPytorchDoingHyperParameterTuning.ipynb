{
 "cells": [
  {
   "cell_type": "code",
   "execution_count": 1,
   "id": "65d27285",
   "metadata": {},
   "outputs": [],
   "source": [
    "import torch #main frame work we used to perform high dimension tensor calculation\n",
    "import torch.nn as nn #this class we used to define Custom Neural Network Architecture\n",
    "from torch.utils.data import Dataset,DataLoader #this Dataset class we used split the entire data into chunks based on Batch_sizes\n",
    "#where as DataLoader class we used to load data and perform action over it.\n",
    "\n",
    "from sklearn.model_selection import train_test_split #this class we used to split the data into train or test sets\n",
    "from sklearn.preprocessing import StandardScaler,MinMaxScaler \n",
    "#above this class used to do input scaling so that variance of all field would be same for models\n",
    "\n",
    "import pandas as pd\n",
    "from cloudpickle import pickle #this class we used to convert datastructure into bytes stream\n",
    "import seaborn as sb #to see the visualization.\n",
    "import optuna"
   ]
  },
  {
   "cell_type": "code",
   "execution_count": 2,
   "id": "51dd95b6",
   "metadata": {},
   "outputs": [
    {
     "data": {
      "text/plain": [
       "device(type='cuda')"
      ]
     },
     "execution_count": 2,
     "metadata": {},
     "output_type": "execute_result"
    }
   ],
   "source": [
    "#if i want to show gpu is avilable or not in system.\n",
    "device = torch.device(\"cuda\" if torch.cuda.is_available() else \"cpu\")\n",
    "device"
   ]
  },
  {
   "cell_type": "markdown",
   "id": "5fe3f295",
   "metadata": {},
   "source": [
    "### Now Loading Dataset and doing EDA over it"
   ]
  },
  {
   "cell_type": "code",
   "execution_count": 3,
   "id": "0344507e",
   "metadata": {},
   "outputs": [
    {
     "name": "stdout",
     "output_type": "stream",
     "text": [
      "<class 'pandas.core.frame.DataFrame'>\n",
      "RangeIndex: 1338 entries, 0 to 1337\n",
      "Data columns (total 8 columns):\n",
      " #   Column          Non-Null Count  Dtype  \n",
      "---  ------          --------------  -----  \n",
      " 0   age             1338 non-null   int64  \n",
      " 1   sex             1338 non-null   int64  \n",
      " 2   bmi             1338 non-null   float64\n",
      " 3   children        1338 non-null   int64  \n",
      " 4   smoker          1338 non-null   int64  \n",
      " 5   region          1338 non-null   int64  \n",
      " 6   charges         1338 non-null   float64\n",
      " 7   insuranceclaim  1338 non-null   int64  \n",
      "dtypes: float64(2), int64(6)\n",
      "memory usage: 83.8 KB\n"
     ]
    }
   ],
   "source": [
    "data = pd.read_csv(filepath_or_buffer=\"insurance.csv\",encoding=\"utf-8\")\n",
    "data.info()"
   ]
  },
  {
   "cell_type": "markdown",
   "id": "5689c879",
   "metadata": {},
   "source": [
    "### step:1 checking for Null value"
   ]
  },
  {
   "cell_type": "code",
   "execution_count": null,
   "id": "e07b9ef3",
   "metadata": {},
   "outputs": [],
   "source": []
  },
  {
   "cell_type": "code",
   "execution_count": null,
   "id": "692f745c",
   "metadata": {},
   "outputs": [],
   "source": []
  }
 ],
 "metadata": {
  "kernelspec": {
   "display_name": "hf-gpu",
   "language": "python",
   "name": "python3"
  },
  "language_info": {
   "codemirror_mode": {
    "name": "ipython",
    "version": 3
   },
   "file_extension": ".py",
   "mimetype": "text/x-python",
   "name": "python",
   "nbconvert_exporter": "python",
   "pygments_lexer": "ipython3",
   "version": "3.10.18"
  }
 },
 "nbformat": 4,
 "nbformat_minor": 5
}
