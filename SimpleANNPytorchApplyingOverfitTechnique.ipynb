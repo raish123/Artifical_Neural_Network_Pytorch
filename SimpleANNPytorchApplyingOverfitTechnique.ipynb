{
 "cells": [
  {
   "cell_type": "code",
   "execution_count": 1,
   "id": "65d27285",
   "metadata": {},
   "outputs": [],
   "source": [
    "import torch #main frame work we used to perform high dimension tensor calculation\n",
    "import torch.nn as nn #this class we used to define Custom Neural Network Architecture\n",
    "from torch.utils.data import Dataset,DataLoader #this Dataset class we used split the entire data into chunks based on Batch_sizes\n",
    "#where as DataLoader class we used to load data and perform action over it.\n",
    "\n",
    "from sklearn.model_selection import train_test_split #this class we used to split the data into train or test sets\n",
    "from sklearn.preprocessing import StandardScaler,MinMaxScaler \n",
    "#above this class used to do input scaling so that variance of all field would be same for models\n",
    "\n",
    "import pandas as pd\n",
    "from cloudpickle import pickle #this class we used to convert datastructure into bytes stream\n",
    "import seaborn as sb #to see the visualization."
   ]
  },
  {
   "cell_type": "code",
   "execution_count": 2,
   "id": "51dd95b6",
   "metadata": {},
   "outputs": [
    {
     "data": {
      "text/plain": [
       "device(type='cuda')"
      ]
     },
     "execution_count": 2,
     "metadata": {},
     "output_type": "execute_result"
    }
   ],
   "source": [
    "#if i want to show gpu is avilable or not in system.\n",
    "device = torch.device(\"cuda\" if torch.cuda.is_available() else \"cpu\")\n",
    "device"
   ]
  },
  {
   "cell_type": "markdown",
   "id": "5fe3f295",
   "metadata": {},
   "source": [
    "### Now Loading Dataset and doing EDA over it"
   ]
  },
  {
   "cell_type": "code",
   "execution_count": 3,
   "id": "0344507e",
   "metadata": {},
   "outputs": [
    {
     "name": "stdout",
     "output_type": "stream",
     "text": [
      "<class 'pandas.core.frame.DataFrame'>\n",
      "RangeIndex: 1338 entries, 0 to 1337\n",
      "Data columns (total 8 columns):\n",
      " #   Column          Non-Null Count  Dtype  \n",
      "---  ------          --------------  -----  \n",
      " 0   age             1338 non-null   int64  \n",
      " 1   sex             1338 non-null   int64  \n",
      " 2   bmi             1338 non-null   float64\n",
      " 3   children        1338 non-null   int64  \n",
      " 4   smoker          1338 non-null   int64  \n",
      " 5   region          1338 non-null   int64  \n",
      " 6   charges         1338 non-null   float64\n",
      " 7   insuranceclaim  1338 non-null   int64  \n",
      "dtypes: float64(2), int64(6)\n",
      "memory usage: 83.8 KB\n"
     ]
    }
   ],
   "source": [
    "data = pd.read_csv(filepath_or_buffer=\"insurance.csv\",encoding=\"utf-8\")\n",
    "data.info()"
   ]
  },
  {
   "cell_type": "markdown",
   "id": "5689c879",
   "metadata": {},
   "source": [
    "### step:1 checking for Null value"
   ]
  },
  {
   "cell_type": "code",
   "execution_count": 4,
   "id": "80f38134",
   "metadata": {},
   "outputs": [
    {
     "data": {
      "text/plain": [
       "age               0.0\n",
       "sex               0.0\n",
       "bmi               0.0\n",
       "children          0.0\n",
       "smoker            0.0\n",
       "region            0.0\n",
       "charges           0.0\n",
       "insuranceclaim    0.0\n",
       "dtype: float64"
      ]
     },
     "execution_count": 4,
     "metadata": {},
     "output_type": "execute_result"
    }
   ],
   "source": [
    "100 * data.isnull().sum()/data.shape[0] "
   ]
  },
  {
   "cell_type": "markdown",
   "id": "e0a41dfd",
   "metadata": {},
   "source": [
    "### step:2 checking for duplicated record"
   ]
  },
  {
   "cell_type": "code",
   "execution_count": 5,
   "id": "cc94ecdc",
   "metadata": {},
   "outputs": [
    {
     "data": {
      "text/plain": [
       "1"
      ]
     },
     "execution_count": 5,
     "metadata": {},
     "output_type": "execute_result"
    }
   ],
   "source": [
    "data.duplicated().sum()"
   ]
  },
  {
   "cell_type": "code",
   "execution_count": 6,
   "id": "392bef2d",
   "metadata": {},
   "outputs": [
    {
     "data": {
      "text/html": [
       "<div>\n",
       "<style scoped>\n",
       "    .dataframe tbody tr th:only-of-type {\n",
       "        vertical-align: middle;\n",
       "    }\n",
       "\n",
       "    .dataframe tbody tr th {\n",
       "        vertical-align: top;\n",
       "    }\n",
       "\n",
       "    .dataframe thead th {\n",
       "        text-align: right;\n",
       "    }\n",
       "</style>\n",
       "<table border=\"1\" class=\"dataframe\">\n",
       "  <thead>\n",
       "    <tr style=\"text-align: right;\">\n",
       "      <th></th>\n",
       "      <th>age</th>\n",
       "      <th>sex</th>\n",
       "      <th>bmi</th>\n",
       "      <th>children</th>\n",
       "      <th>smoker</th>\n",
       "      <th>region</th>\n",
       "      <th>charges</th>\n",
       "      <th>insuranceclaim</th>\n",
       "    </tr>\n",
       "  </thead>\n",
       "  <tbody>\n",
       "    <tr>\n",
       "      <th>581</th>\n",
       "      <td>19</td>\n",
       "      <td>1</td>\n",
       "      <td>30.59</td>\n",
       "      <td>0</td>\n",
       "      <td>0</td>\n",
       "      <td>1</td>\n",
       "      <td>1639.5631</td>\n",
       "      <td>1</td>\n",
       "    </tr>\n",
       "  </tbody>\n",
       "</table>\n",
       "</div>"
      ],
      "text/plain": [
       "     age  sex    bmi  children  smoker  region    charges  insuranceclaim\n",
       "581   19    1  30.59         0       0       1  1639.5631               1"
      ]
     },
     "execution_count": 6,
     "metadata": {},
     "output_type": "execute_result"
    }
   ],
   "source": [
    "#to see which records showing duplicacy\n",
    "data[data.duplicated()]"
   ]
  },
  {
   "cell_type": "code",
   "execution_count": 7,
   "id": "a2ba9c54",
   "metadata": {},
   "outputs": [],
   "source": [
    "#dropping those duplocate records from data.\n",
    "data.drop_duplicates(keep=\"first\",inplace=True,ignore_index=True)"
   ]
  },
  {
   "cell_type": "code",
   "execution_count": 8,
   "id": "37d43739",
   "metadata": {},
   "outputs": [
    {
     "data": {
      "text/plain": [
       "0"
      ]
     },
     "execution_count": 8,
     "metadata": {},
     "output_type": "execute_result"
    }
   ],
   "source": [
    "#again checking duplicated record deleted or not.\n",
    "data.duplicated().sum()"
   ]
  },
  {
   "cell_type": "markdown",
   "id": "7c9ae36f",
   "metadata": {},
   "source": [
    "### step:3 checking for target variable"
   ]
  },
  {
   "cell_type": "code",
   "execution_count": 9,
   "id": "5da4d896",
   "metadata": {},
   "outputs": [
    {
     "data": {
      "text/plain": [
       "insuranceclaim\n",
       "1    0.584892\n",
       "0    0.415108\n",
       "Name: proportion, dtype: float64"
      ]
     },
     "execution_count": 9,
     "metadata": {},
     "output_type": "execute_result"
    }
   ],
   "source": [
    "data.insuranceclaim.value_counts(normalize=True,ascending=False,dropna=False) #both the classes are balanced in data."
   ]
  },
  {
   "cell_type": "markdown",
   "id": "1cc2fefd",
   "metadata": {},
   "source": [
    "### step:4 splitting the data into training set or testing set"
   ]
  },
  {
   "cell_type": "code",
   "execution_count": 10,
   "id": "6bc19223",
   "metadata": {},
   "outputs": [],
   "source": [
    "#selecting input and output variable\n",
    "x = data.drop(labels=\"insuranceclaim\",axis=1)\n",
    "y = data[\"insuranceclaim\"]"
   ]
  },
  {
   "cell_type": "code",
   "execution_count": 11,
   "id": "b1d00516",
   "metadata": {},
   "outputs": [
    {
     "data": {
      "text/plain": [
       "((1069, 7), (268, 7), (1069,), (268,))"
      ]
     },
     "execution_count": 11,
     "metadata": {},
     "output_type": "execute_result"
    }
   ],
   "source": [
    "x_train,x_test,y_train,y_test = train_test_split(x,y,test_size=0.2,random_state=42,stratify=y) \n",
    "#stratify ensure both class distribution goes same to both sets(train or test)\n",
    "x_train.shape,x_test.shape,y_train.shape,y_test.shape"
   ]
  },
  {
   "cell_type": "code",
   "execution_count": 12,
   "id": "d6feb8dd",
   "metadata": {},
   "outputs": [
    {
     "name": "stdout",
     "output_type": "stream",
     "text": [
      "Training set dimension: 2 and Testing set dimension: 2\n",
      "Training set dtype:   age           int64\n",
      "sex           int64\n",
      "bmi         float64\n",
      "children      int64\n",
      "smoker        int64\n",
      "region        int64\n",
      "charges     float64\n",
      "dtype: object and Testing set dtype: age           int64\n",
      "sex           int64\n",
      "bmi         float64\n",
      "children      int64\n",
      "smoker        int64\n",
      "region        int64\n",
      "charges     float64\n",
      "dtype: object\n",
      "Training set type:   <class 'pandas.core.frame.DataFrame'> and Testing set type: <class 'pandas.core.frame.DataFrame'>\n"
     ]
    }
   ],
   "source": [
    "#to show the dtype and dimension of train test split data\n",
    "print(f\"Training set dimension: {x_train.ndim} and Testing set dimension: {x_test.ndim}\")\n",
    "print(f\"Training set dtype:   {x_train.dtypes} and Testing set dtype: {x_test.dtypes}\")\n",
    "print(f\"Training set type:   {type(x_train)} and Testing set type: {type(x_test)}\")"
   ]
  },
  {
   "cell_type": "markdown",
   "id": "ead2ac28",
   "metadata": {},
   "source": [
    "```\n",
    "| Task Type                                | Input dtype     | Target dtype    | Loss Function          |\n",
    "| ---------------------------------------- | --------------- | --------------- | ---------------------- |\n",
    "| **Binary Classification (Sigmoid)**      | `torch.float32` | `torch.float32` | `nn.BCEWithLogitsLoss` |\n",
    "| **Multi-class Classification (Softmax)** | `torch.float32` | `torch.long`    | `nn.CrossEntropyLoss`  |\n",
    "\n",
    "\n",
    "```"
   ]
  },
  {
   "cell_type": "code",
   "execution_count": 13,
   "id": "a0b3500e",
   "metadata": {},
   "outputs": [
    {
     "data": {
      "text/html": [
       "<div>\n",
       "<style scoped>\n",
       "    .dataframe tbody tr th:only-of-type {\n",
       "        vertical-align: middle;\n",
       "    }\n",
       "\n",
       "    .dataframe tbody tr th {\n",
       "        vertical-align: top;\n",
       "    }\n",
       "\n",
       "    .dataframe thead th {\n",
       "        text-align: right;\n",
       "    }\n",
       "</style>\n",
       "<table border=\"1\" class=\"dataframe\">\n",
       "  <thead>\n",
       "    <tr style=\"text-align: right;\">\n",
       "      <th></th>\n",
       "      <th>age</th>\n",
       "      <th>sex</th>\n",
       "      <th>bmi</th>\n",
       "      <th>children</th>\n",
       "      <th>smoker</th>\n",
       "      <th>region</th>\n",
       "      <th>charges</th>\n",
       "    </tr>\n",
       "  </thead>\n",
       "  <tbody>\n",
       "    <tr>\n",
       "      <th>1290</th>\n",
       "      <td>19</td>\n",
       "      <td>1</td>\n",
       "      <td>34.900</td>\n",
       "      <td>0</td>\n",
       "      <td>1</td>\n",
       "      <td>3</td>\n",
       "      <td>34828.65400</td>\n",
       "    </tr>\n",
       "    <tr>\n",
       "      <th>359</th>\n",
       "      <td>18</td>\n",
       "      <td>0</td>\n",
       "      <td>20.790</td>\n",
       "      <td>0</td>\n",
       "      <td>0</td>\n",
       "      <td>2</td>\n",
       "      <td>1607.51010</td>\n",
       "    </tr>\n",
       "    <tr>\n",
       "      <th>579</th>\n",
       "      <td>25</td>\n",
       "      <td>0</td>\n",
       "      <td>23.465</td>\n",
       "      <td>0</td>\n",
       "      <td>0</td>\n",
       "      <td>0</td>\n",
       "      <td>3206.49135</td>\n",
       "    </tr>\n",
       "    <tr>\n",
       "      <th>662</th>\n",
       "      <td>18</td>\n",
       "      <td>1</td>\n",
       "      <td>33.660</td>\n",
       "      <td>0</td>\n",
       "      <td>0</td>\n",
       "      <td>2</td>\n",
       "      <td>1136.39940</td>\n",
       "    </tr>\n",
       "    <tr>\n",
       "      <th>1167</th>\n",
       "      <td>32</td>\n",
       "      <td>1</td>\n",
       "      <td>35.200</td>\n",
       "      <td>2</td>\n",
       "      <td>0</td>\n",
       "      <td>3</td>\n",
       "      <td>4670.64000</td>\n",
       "    </tr>\n",
       "  </tbody>\n",
       "</table>\n",
       "</div>"
      ],
      "text/plain": [
       "      age  sex     bmi  children  smoker  region      charges\n",
       "1290   19    1  34.900         0       1       3  34828.65400\n",
       "359    18    0  20.790         0       0       2   1607.51010\n",
       "579    25    0  23.465         0       0       0   3206.49135\n",
       "662    18    1  33.660         0       0       2   1136.39940\n",
       "1167   32    1  35.200         2       0       3   4670.64000"
      ]
     },
     "execution_count": 13,
     "metadata": {},
     "output_type": "execute_result"
    }
   ],
   "source": [
    "x_train.head()"
   ]
  },
  {
   "cell_type": "code",
   "execution_count": 14,
   "id": "f0213174",
   "metadata": {},
   "outputs": [
    {
     "data": {
      "text/plain": [
       "1290    1\n",
       "359     0\n",
       "579     0\n",
       "662     1\n",
       "1167    0\n",
       "Name: insuranceclaim, dtype: int64"
      ]
     },
     "execution_count": 14,
     "metadata": {},
     "output_type": "execute_result"
    }
   ],
   "source": [
    "y_train.head()"
   ]
  },
  {
   "cell_type": "markdown",
   "id": "6892bb57",
   "metadata": {},
   "source": [
    "### step:5 now doing input scaling converting into numpy object"
   ]
  },
  {
   "cell_type": "code",
   "execution_count": 15,
   "id": "e8a32a69",
   "metadata": {},
   "outputs": [
    {
     "name": "stdout",
     "output_type": "stream",
     "text": [
      "Training set dimension: 2  and Testing set dimension: 2\n",
      "Training set dtype:     float32 and Testing set dtype: float32\n",
      "Training set type:      <class 'numpy.ndarray'> and Testing set type: <class 'numpy.ndarray'>\n"
     ]
    }
   ],
   "source": [
    "#creating an object of standardscaler class.\n",
    "ss = StandardScaler()\n",
    "\n",
    "#now applying scaling on input data.\n",
    "x_train_ss = ss.fit_transform(x_train.astype(\"float32\")) #converting dataframe 2d object to 2d numpy object\n",
    "x_test_ss  = ss.transform(x_test.astype(\"float32\"))      #Transforming testing dataframe 2d object to 2d numpy object\n",
    "print(f\"Training set dimension: {x_train_ss.ndim}  and Testing set dimension: {x_test_ss.ndim}\")\n",
    "print(f\"Training set dtype:     {x_train_ss.dtype} and Testing set dtype: {x_test_ss.dtype}\")\n",
    "print(f\"Training set type:      {type(x_train_ss)} and Testing set type: {type(x_test_ss)}\")"
   ]
  },
  {
   "cell_type": "code",
   "execution_count": 16,
   "id": "1a19c775",
   "metadata": {},
   "outputs": [
    {
     "name": "stdout",
     "output_type": "stream",
     "text": [
      "Training set dimension: 1 and Testing set dimension: 1\n",
      "Training set type:   <class 'numpy.ndarray'> and Testing set type: <class 'numpy.ndarray'>\n"
     ]
    }
   ],
   "source": [
    "#converting target variable set to numpy object.\n",
    "import numpy as np\n",
    "y_train_np = np.array(object=y_train,dtype=np.float32)\n",
    "y_test_np = np.array(object=y_test,dtype=np.float32)\n",
    "print(f\"Training set dimension: {y_train_np.ndim} and Testing set dimension: {y_test_np.ndim}\")\n",
    "print(f\"Training set type:   {type(y_train_np)} and Testing set type: {type(y_test_np)}\")"
   ]
  },
  {
   "cell_type": "markdown",
   "id": "e2ada41e",
   "metadata": {},
   "source": [
    "### step:6 converting numpy object to tensor object"
   ]
  },
  {
   "cell_type": "code",
   "execution_count": 17,
   "id": "6165d727",
   "metadata": {},
   "outputs": [
    {
     "name": "stdout",
     "output_type": "stream",
     "text": [
      "Training set tensor: <class 'torch.Tensor'> and Testing set tensor: <class 'torch.Tensor'>\n"
     ]
    }
   ],
   "source": [
    "x_train_tensor = torch.from_numpy(x_train_ss)\n",
    "x_test_tensor = torch.from_numpy(x_test_ss)\n",
    "y_train_tensor = torch.from_numpy(y_train_np)\n",
    "y_test_tensor = torch.from_numpy(y_test_np)\n",
    "print(f\"Training set tensor: {type(x_train_tensor)} and Testing set tensor: {type(x_test_tensor)}\")"
   ]
  },
  {
   "cell_type": "code",
   "execution_count": 18,
   "id": "f5da2d95",
   "metadata": {},
   "outputs": [
    {
     "data": {
      "text/plain": [
       "(tensor([[-1.4381,  0.9879,  0.7013,  ...,  2.0106,  1.3720,  1.8369],\n",
       "         [-1.5094, -1.0122, -1.6309,  ..., -0.4974,  0.4717, -0.9687],\n",
       "         [-1.0101, -1.0122, -1.1888,  ..., -0.4974, -1.3291, -0.8337],\n",
       "         ...,\n",
       "         [-0.8675,  0.9879, -0.2491,  ...,  2.0106,  0.4717,  0.4365],\n",
       "         [ 1.0582, -1.0122,  0.3343,  ..., -0.4974, -1.3291, -0.1819],\n",
       "         [ 0.3450, -1.0122,  0.2781,  ..., -0.4974,  0.4717, -0.4598]]),\n",
       " tensor([1., 0., 0.,  ..., 1., 1., 1.]))"
      ]
     },
     "execution_count": 18,
     "metadata": {},
     "output_type": "execute_result"
    }
   ],
   "source": [
    "x_train_tensor,y_train_tensor"
   ]
  },
  {
   "cell_type": "markdown",
   "id": "2984e86c",
   "metadata": {},
   "source": [
    "### step:7 using custom dataset class to split into chuks based on batch_size"
   ]
  },
  {
   "cell_type": "code",
   "execution_count": 19,
   "id": "f88fc4b0",
   "metadata": {},
   "outputs": [],
   "source": [
    "class CustomDataset(Dataset):\n",
    "    #defining the constructor method to initialize instance variable\n",
    "    def __init__(self,input_data,output_data):\n",
    "        self.input_data  = input_data\n",
    "        self.output_data = output_data\n",
    "        \n",
    "    #to see the shape of input data we used special method\n",
    "    def __len__(self):\n",
    "        return len(self.input_data)\n",
    "    \n",
    "    #to split the data into chunks based on batch_size\n",
    "    def __getitem__(self, index):\n",
    "        return self.input_data[index],self.output_data[index]"
   ]
  },
  {
   "cell_type": "markdown",
   "id": "006b749e",
   "metadata": {},
   "source": [
    "### step:8 getting training dataset or tesing dataset"
   ]
  },
  {
   "cell_type": "code",
   "execution_count": 20,
   "id": "e53f4571",
   "metadata": {},
   "outputs": [],
   "source": [
    "#creating an object of CustomDataset class.\n",
    "training_dataset = CustomDataset(input_data=x_train_tensor,output_data=y_train_tensor)\n",
    "testing_dataset  = CustomDataset(input_data=x_test_tensor,output_data=y_test_tensor)\n"
   ]
  },
  {
   "cell_type": "markdown",
   "id": "400e81a0",
   "metadata": {},
   "source": [
    "### step:9 converting training or testing dataset into dataloader object that split chunks based on batch_size"
   ]
  },
  {
   "cell_type": "code",
   "execution_count": 21,
   "id": "7976a2e9",
   "metadata": {},
   "outputs": [],
   "source": [
    "training_dataloader   = DataLoader(dataset=training_dataset,batch_size=16,shuffle=True,pin_memory=True)\n",
    "testing_dataloader = DataLoader(dataset=testing_dataset,batch_size=16,shuffle=True,pin_memory=True)"
   ]
  },
  {
   "cell_type": "code",
   "execution_count": 22,
   "id": "3d062d09",
   "metadata": {},
   "outputs": [
    {
     "name": "stdout",
     "output_type": "stream",
     "text": [
      "tensor([[-1.4381, -1.0122, -1.3458, -0.9008, -0.4974, -0.4287, -0.9257],\n",
      "        [ 0.9869, -1.0122, -0.6706, -0.9008, -0.4974, -0.4287, -0.2299],\n",
      "        [ 0.5590, -1.0122, -1.0838, -0.0707, -0.4974,  1.3720,  1.1113],\n",
      "        [ 1.0582,  0.9879,  1.6376,  1.5896,  2.0106, -1.3291,  2.9957],\n",
      "        [-1.2954,  0.9879,  0.0732, -0.9008, -0.4974,  1.3720, -0.9756],\n",
      "        [-0.4395,  0.9879,  0.7583, -0.9008, -0.4974, -1.3291, -0.0568],\n",
      "        [ 0.2737,  0.9879, -0.0896,  1.5896, -0.4974, -0.4287, -0.3942],\n",
      "        [ 1.2009, -1.0122,  1.5145, -0.9008, -0.4974,  0.4717, -0.1678],\n",
      "        [-1.2241, -1.0122,  0.6484,  0.7595, -0.4974, -1.3291, -0.7729],\n",
      "        [ 0.1310,  0.9879,  1.5872, -0.9008, -0.4974,  0.4717, -0.6223],\n",
      "        [-0.4395,  0.9879, -0.5293,  0.7595, -0.4974, -0.4287, -0.6601],\n",
      "        [-0.4395,  0.9879, -1.3144, -0.9008, -0.4974, -0.4287,  0.7522],\n",
      "        [ 1.5575,  0.9879, -1.1574, -0.9008, -0.4974, -1.3291,  0.0044],\n",
      "        [ 0.9869, -1.0122, -0.4227,  1.5896, -0.4974,  1.3720, -0.1129],\n",
      "        [ 1.3435, -1.0122,  1.3872, -0.9008, -0.4974,  0.4717, -0.1032],\n",
      "        [-0.3682,  0.9879, -1.3615,  0.7595, -0.4974, -1.3291,  1.2075]])\n",
      "tensor([0., 1., 0., 1., 1., 1., 0., 1., 0., 1., 0., 0., 0., 1., 1., 0.])\n"
     ]
    }
   ],
   "source": [
    "for feature,label in testing_dataloader:\n",
    "    print(feature)\n",
    "    print(label)\n",
    "    break"
   ]
  },
  {
   "cell_type": "code",
   "execution_count": 23,
   "id": "7b2e4af4",
   "metadata": {},
   "outputs": [
    {
     "name": "stdout",
     "output_type": "stream",
     "text": [
      "tensor([[ 0.5590,  0.9879,  0.9145, -0.9008,  2.0106,  0.4717,  2.4152],\n",
      "        [-0.2256, -1.0122, -0.1219, -0.0707, -0.4974,  0.4717, -0.6418],\n",
      "        [ 0.0597,  0.9879,  0.5699, -0.0707, -0.4974, -1.3291, -0.5471],\n",
      "        [-0.9388,  0.9879, -2.1466, -0.9008, -0.4974, -0.4287, -0.8781],\n",
      "        [ 0.7016,  0.9879,  1.1327,  0.7595, -0.4974,  0.4717, -0.3187],\n",
      "        [-1.0101,  0.9879, -0.7334, -0.9008, -0.4974, -1.3291, -0.8747],\n",
      "        [ 0.4876,  0.9879, -1.3813, -0.9008, -0.4974,  1.3720, -0.5009],\n",
      "        [-0.8675, -1.0122, -0.0425,  1.5896, -0.4974, -0.4287,  0.4837],\n",
      "        [-1.2954,  0.9879,  1.0236, -0.9008, -0.4974,  0.4717, -0.9749],\n",
      "        [-1.1528, -1.0122, -0.4194, -0.9008, -0.4974, -0.4287, -0.8773],\n",
      "        [ 0.2024, -1.0122,  1.7632, -0.0707, -0.4974, -1.3291, -0.4583],\n",
      "        [ 1.2009,  0.9879, -1.7698, -0.9008,  2.0106, -1.3291,  0.7884],\n",
      "        [-0.2256, -1.0122, -1.4086,  1.5896, -0.4974, -1.3291, -0.4940],\n",
      "        [-1.5094,  0.9879,  0.7508, -0.0707, -0.4974,  0.4717, -0.9586],\n",
      "        [ 0.0597, -1.0122, -0.3252,  1.5896, -0.4974, -0.4287, -0.4238],\n",
      "        [-1.3667, -1.0122,  0.4368, -0.9008, -0.4974,  1.3720, -0.9457]])\n",
      "tensor([1., 0., 1., 0., 1., 1., 0., 0., 1., 1., 1., 1., 0., 0., 0., 1.])\n"
     ]
    }
   ],
   "source": [
    "for feature,label in training_dataloader:\n",
    "    print(feature)\n",
    "    print(label)\n",
    "    break"
   ]
  },
  {
   "cell_type": "markdown",
   "id": "72effd74",
   "metadata": {},
   "source": [
    "### step:10 now defining deep neural network Architecture"
   ]
  },
  {
   "cell_type": "code",
   "execution_count": 24,
   "id": "46bb3928",
   "metadata": {},
   "outputs": [],
   "source": [
    "import torch.nn.init as init\n",
    "class SimpleNeuralNetworkArchitecture(nn.Module):\n",
    "    #defining the instance variable \n",
    "    def __init__(self,input_size,output_size):\n",
    "        \n",
    "        #using super method to all inherit property from parent class.\n",
    "        super().__init__()\n",
    "        \n",
    "        #defining linear and non linear layer in Hidden layer.\n",
    "        self.linear1 = nn.Linear(in_features=input_size,out_features=128)  #first hidden layer\n",
    "        self.batchnorm1 = nn.BatchNorm1d(num_features=128) #batch normalization we apply only over hiddens layer\n",
    "        self.relu1 =  nn.ReLU()\n",
    "        self.dropout1 = nn.Dropout(p=0.3)\n",
    "        \n",
    "        \n",
    "        self.linear2 = nn.Linear(in_features=128,out_features=64)          #second hidden layer\n",
    "        self.batchnorm2 = nn.BatchNorm1d(num_features=64) #batch normalization we apply only over hiddens layer\n",
    "        self.relu2 =  nn.ReLU()\n",
    "        self.dropout2 = nn.Dropout(p=0.3)\n",
    "        \n",
    "        self.linear3 = nn.Linear(in_features=64,out_features=16)           #third hidden layer\n",
    "        self.batchnorm3 = nn.BatchNorm1d(num_features=16) #batch normalization we apply only over hiddens layer\n",
    "        self.relu3 =  nn.ReLU()\n",
    "        self.dropout3 = nn.Dropout(p=0.3)\n",
    "        \n",
    "        self.linear4 = nn.Linear(in_features=16,out_features=output_size)  # output layer\n",
    "        \n",
    "        #calling the Initialize weights and biases method\n",
    "        self._init_weights()\n",
    "        \n",
    "        \n",
    "        \n",
    "    #now initializing the weight and bias before starting the training using xavier and glorat or he maining\n",
    "    #i will used relu in hidden layer or sigmoid output layer\n",
    "    \n",
    "    def _init_weights(self):\n",
    "        #Hidden layers → ReLU → He Normal.\n",
    "        init.kaiming_normal_(self.linear1.weight,nonlinearity=\"relu\") #inplace operation updating directly\n",
    "        init.zeros_(self.linear1.bias)\n",
    "        \n",
    "        #Hidden layers2 → ReLU → He Normal.\n",
    "        init.kaiming_normal_(self.linear2.weight,nonlinearity=\"relu\")\n",
    "        init.zeros_(self.linear2.bias)\n",
    "        \n",
    "        #Hidden layers3 → ReLU → He Normal.\n",
    "        init.kaiming_normal_(self.linear3.weight,nonlinearity=\"relu\")\n",
    "        init.zeros_(self.linear3.bias)\n",
    "        \n",
    "        #output layers → sigmoid → xavier or glorat uniform.\n",
    "        init.xavier_uniform_(self.linear4.weight)\n",
    "        init.zeros_(self.linear4.bias)\n",
    "        \n",
    "    #whenever we started training first algortithm work in neural network forward pass\n",
    "    def forward(self, x): #where x is input feature data\n",
    "        #first hidden layer\n",
    "        x = self.linear1(x)    #passing the batch input data to neural network \n",
    "        x = self.batchnorm1(x) #after getting linear out we do batch normalization so that variance will be comparable\n",
    "        x = self.relu1(x)      #applying nonlinearity by Activation function\n",
    "        x = self.dropout1(x)   #randomly selected node making deactivate at time of training\n",
    "        \n",
    "        #second hidden layer\n",
    "        x = self.linear2(x)    #passing the batch input data to neural network \n",
    "        x = self.batchnorm2(x) #after getting linear out we do batch normalization so that variance will be comparable\n",
    "        x = self.relu2(x)      #applying nonlinearity by Activation function\n",
    "        x = self.dropout2(x)   #randomly selected node making deactivate at time of training\n",
    "        \n",
    "        \n",
    "        #third hidden layer\n",
    "        x = self.linear3(x)    #passing the batch input data to neural network \n",
    "        x = self.batchnorm3(x) #after getting linear out we do batch normalization so that variance will be comparable\n",
    "        x = self.relu3(x)      #applying nonlinearity by Activation function\n",
    "        x = self.dropout3(x)   #randomly selected node making deactivate at time of training\n",
    "        \n",
    "        #output layer\n",
    "        x = torch.sigmoid(self.linear4(x))\n",
    "        return x"
   ]
  },
  {
   "cell_type": "code",
   "execution_count": 25,
   "id": "f42d8958",
   "metadata": {},
   "outputs": [
    {
     "data": {
      "text/plain": [
       "(torch.Size([1069, 7]), 7)"
      ]
     },
     "execution_count": 25,
     "metadata": {},
     "output_type": "execute_result"
    }
   ],
   "source": [
    "x_train_tensor.shape,x_train_tensor.shape[1]"
   ]
  },
  {
   "cell_type": "markdown",
   "id": "4041296a",
   "metadata": {},
   "source": [
    "### calling the neural network architecture class"
   ]
  },
  {
   "cell_type": "code",
   "execution_count": 26,
   "id": "a94833cb",
   "metadata": {},
   "outputs": [
    {
     "data": {
      "text/plain": [
       "SimpleNeuralNetworkArchitecture(\n",
       "  (linear1): Linear(in_features=7, out_features=128, bias=True)\n",
       "  (batchnorm1): BatchNorm1d(128, eps=1e-05, momentum=0.1, affine=True, track_running_stats=True)\n",
       "  (relu1): ReLU()\n",
       "  (dropout1): Dropout(p=0.3, inplace=False)\n",
       "  (linear2): Linear(in_features=128, out_features=64, bias=True)\n",
       "  (batchnorm2): BatchNorm1d(64, eps=1e-05, momentum=0.1, affine=True, track_running_stats=True)\n",
       "  (relu2): ReLU()\n",
       "  (dropout2): Dropout(p=0.3, inplace=False)\n",
       "  (linear3): Linear(in_features=64, out_features=16, bias=True)\n",
       "  (batchnorm3): BatchNorm1d(16, eps=1e-05, momentum=0.1, affine=True, track_running_stats=True)\n",
       "  (relu3): ReLU()\n",
       "  (dropout3): Dropout(p=0.3, inplace=False)\n",
       "  (linear4): Linear(in_features=16, out_features=1, bias=True)\n",
       ")"
      ]
     },
     "execution_count": 26,
     "metadata": {},
     "output_type": "execute_result"
    }
   ],
   "source": [
    "#now creating an object of Custom neural network class\n",
    "model = SimpleNeuralNetworkArchitecture(input_size=x_train_tensor.shape[1],output_size=1).to(device=device)\n",
    "model"
   ]
  },
  {
   "cell_type": "markdown",
   "id": "ad76123d",
   "metadata": {},
   "source": [
    "### to show the summary of model how many trainiable parameter need to be trained"
   ]
  },
  {
   "cell_type": "code",
   "execution_count": 27,
   "id": "35547793",
   "metadata": {},
   "outputs": [
    {
     "data": {
      "text/plain": [
       "=================================================================\n",
       "Layer (type:depth-idx)                   Param #\n",
       "=================================================================\n",
       "SimpleNeuralNetworkArchitecture          --\n",
       "├─Linear: 1-1                            1,024\n",
       "├─BatchNorm1d: 1-2                       256\n",
       "├─ReLU: 1-3                              --\n",
       "├─Dropout: 1-4                           --\n",
       "├─Linear: 1-5                            8,256\n",
       "├─BatchNorm1d: 1-6                       128\n",
       "├─ReLU: 1-7                              --\n",
       "├─Dropout: 1-8                           --\n",
       "├─Linear: 1-9                            1,040\n",
       "├─BatchNorm1d: 1-10                      32\n",
       "├─ReLU: 1-11                             --\n",
       "├─Dropout: 1-12                          --\n",
       "├─Linear: 1-13                           17\n",
       "=================================================================\n",
       "Total params: 10,753\n",
       "Trainable params: 10,753\n",
       "Non-trainable params: 0\n",
       "================================================================="
      ]
     },
     "execution_count": 27,
     "metadata": {},
     "output_type": "execute_result"
    }
   ],
   "source": [
    "#if i want to see how many trainable parameter need to be trained by this model\n",
    "from torchinfo import summary\n",
    "summary(model)"
   ]
  },
  {
   "cell_type": "markdown",
   "id": "136e3ad3",
   "metadata": {},
   "source": [
    "#### step:11) defining the loss function and type of optimizer will used at time of training"
   ]
  },
  {
   "cell_type": "code",
   "execution_count": 28,
   "id": "4f50907d",
   "metadata": {},
   "outputs": [],
   "source": [
    "#target are binary classifier so loss function binary cross entropy.\n",
    "loss_fxn = nn.BCELoss() #calculate loss value\n",
    "\n",
    "#optimizers i am using Adam they will updates the trainable parameter effectively in each layer.\n",
    "optimizer = torch.optim.Adam(params=model.parameters(),lr=0.0001,weight_decay=0.001) \n",
    "#weight_decay means l2 regularization we apply is technique to prevent the model from overfitting\n",
    "#and reducing weight to zero"
   ]
  },
  {
   "cell_type": "markdown",
   "id": "987e58d6",
   "metadata": {},
   "source": [
    "### applying early stopping to stop the iteration whenever model get overfitted"
   ]
  },
  {
   "cell_type": "code",
   "execution_count": 29,
   "id": "1ed553b4",
   "metadata": {},
   "outputs": [],
   "source": [
    "# EarlyStopping variables\n",
    "best_loss = np.inf         # abhi tak ka sabse best (minimum) test loss\n",
    "patience_counter = 0       # kitne epochs ho gaye bina improvement ke\n",
    "patience = 5               # agar 5 epoch tak test loss improve nahi hota to stop"
   ]
  },
  {
   "cell_type": "markdown",
   "id": "42775c26",
   "metadata": {},
   "source": [
    "### step:12) Now starting the models"
   ]
  },
  {
   "cell_type": "code",
   "execution_count": 30,
   "id": "66a481d2",
   "metadata": {},
   "outputs": [
    {
     "name": "stdout",
     "output_type": "stream",
     "text": [
      "Epoch [1/100], Train Loss: 0.7334, Test Loss: 0.5749, \n",
      "✅ Model improved. Saved at epoch 1 with Test Loss 0.5749\n",
      "Epoch [2/100], Train Loss: 0.6523, Test Loss: 0.5532, \n",
      "✅ Model improved. Saved at epoch 2 with Test Loss 0.5532\n",
      "Epoch [3/100], Train Loss: 0.6391, Test Loss: 0.5226, \n",
      "✅ Model improved. Saved at epoch 3 with Test Loss 0.5226\n",
      "Epoch [4/100], Train Loss: 0.6004, Test Loss: 0.5120, \n",
      "✅ Model improved. Saved at epoch 4 with Test Loss 0.5120\n",
      "Epoch [5/100], Train Loss: 0.5815, Test Loss: 0.4870, \n",
      "✅ Model improved. Saved at epoch 5 with Test Loss 0.4870\n",
      "Epoch [6/100], Train Loss: 0.5729, Test Loss: 0.4886, \n",
      "⚠️ No improvement. Patience counter = 1/5\n",
      "Epoch [7/100], Train Loss: 0.5500, Test Loss: 0.4697, \n",
      "✅ Model improved. Saved at epoch 7 with Test Loss 0.4697\n",
      "Epoch [8/100], Train Loss: 0.5394, Test Loss: 0.4717, \n",
      "⚠️ No improvement. Patience counter = 1/5\n",
      "Epoch [9/100], Train Loss: 0.5225, Test Loss: 0.4416, \n",
      "✅ Model improved. Saved at epoch 9 with Test Loss 0.4416\n",
      "Epoch [10/100], Train Loss: 0.5521, Test Loss: 0.4363, \n",
      "✅ Model improved. Saved at epoch 10 with Test Loss 0.4363\n",
      "Epoch [11/100], Train Loss: 0.5048, Test Loss: 0.4345, \n",
      "✅ Model improved. Saved at epoch 11 with Test Loss 0.4345\n",
      "Epoch [12/100], Train Loss: 0.5056, Test Loss: 0.4322, \n",
      "✅ Model improved. Saved at epoch 12 with Test Loss 0.4322\n",
      "Epoch [13/100], Train Loss: 0.4884, Test Loss: 0.4199, \n",
      "✅ Model improved. Saved at epoch 13 with Test Loss 0.4199\n",
      "Epoch [14/100], Train Loss: 0.4922, Test Loss: 0.4287, \n",
      "⚠️ No improvement. Patience counter = 1/5\n",
      "Epoch [15/100], Train Loss: 0.4739, Test Loss: 0.4093, \n",
      "✅ Model improved. Saved at epoch 15 with Test Loss 0.4093\n",
      "Epoch [16/100], Train Loss: 0.5037, Test Loss: 0.4124, \n",
      "⚠️ No improvement. Patience counter = 1/5\n",
      "Epoch [17/100], Train Loss: 0.4797, Test Loss: 0.4103, \n",
      "⚠️ No improvement. Patience counter = 2/5\n",
      "Epoch [18/100], Train Loss: 0.4930, Test Loss: 0.4391, \n",
      "⚠️ No improvement. Patience counter = 3/5\n",
      "Epoch [19/100], Train Loss: 0.4531, Test Loss: 0.4184, \n",
      "⚠️ No improvement. Patience counter = 4/5\n",
      "Epoch [20/100], Train Loss: 0.4551, Test Loss: 0.4078, \n",
      "✅ Model improved. Saved at epoch 20 with Test Loss 0.4078\n",
      "Epoch [21/100], Train Loss: 0.4627, Test Loss: 0.3988, \n",
      "✅ Model improved. Saved at epoch 21 with Test Loss 0.3988\n",
      "Epoch [22/100], Train Loss: 0.4951, Test Loss: 0.4086, \n",
      "⚠️ No improvement. Patience counter = 1/5\n",
      "Epoch [23/100], Train Loss: 0.4666, Test Loss: 0.3823, \n",
      "✅ Model improved. Saved at epoch 23 with Test Loss 0.3823\n",
      "Epoch [24/100], Train Loss: 0.4341, Test Loss: 0.3933, \n",
      "⚠️ No improvement. Patience counter = 1/5\n",
      "Epoch [25/100], Train Loss: 0.4483, Test Loss: 0.4062, \n",
      "⚠️ No improvement. Patience counter = 2/5\n",
      "Epoch [26/100], Train Loss: 0.4672, Test Loss: 0.3966, \n",
      "⚠️ No improvement. Patience counter = 3/5\n",
      "Epoch [27/100], Train Loss: 0.4354, Test Loss: 0.3852, \n",
      "⚠️ No improvement. Patience counter = 4/5\n",
      "Epoch [28/100], Train Loss: 0.4539, Test Loss: 0.3986, \n",
      "⚠️ No improvement. Patience counter = 5/5\n",
      "⏹ Early stopping at epoch 28 (best loss = 0.3823)\n",
      "Training Finished ✅\n"
     ]
    }
   ],
   "source": [
    "epochs=100\n",
    "training_loss_lst = []\n",
    "testing_loss_lst = []\n",
    "for i in range(epochs):\n",
    "    #performing model training\n",
    "    model.train()\n",
    "    training_running_loss_count = 0\n",
    "    \n",
    "    #based on batchsize data record we are passing to neural network architecture.\n",
    "    for feature,label in training_dataloader:\n",
    "        feature = feature.to(device)\n",
    "        label   = label.to(device)\n",
    "        \n",
    "        #whenever we start training the model first algorithm work is forward propogation\n",
    "        pred_output = model.forward(feature)\n",
    "        #print(f\"actual output shape: {label.shape}\")\n",
    "        #print(f\"predicted output shape: {pred_output.shape}\")\n",
    "        \n",
    "        #calculating the loss value by using Loss fxns or evaluating the performance of model at time of training.\n",
    "        loss_value = loss_fxn(pred_output.squeeze(1),label)\n",
    "        \n",
    "        #now updating the training_running_loss_count variable\n",
    "        training_running_loss_count = training_running_loss_count+loss_value.item() \n",
    "        #this item method we used to get value from shape of tensor\n",
    "        \n",
    "        #before applying backpropogation to the loss value first we have to clear the gradient inside optimizers\n",
    "        optimizer.zero_grad()\n",
    "        \n",
    "        #reducing the loss value by using backpropogation algorithm and calcualting gradient of loss wrt to trainable parameter\n",
    "        loss_value.backward()\n",
    "        \n",
    "        #using optimizers updating the tainable parameters\n",
    "        optimizer.step()\n",
    "        \n",
    "    avg_training_loss = (training_running_loss_count)/(len(training_dataloader))\n",
    "    training_loss_lst.append(avg_training_loss)\n",
    "\n",
    "    \n",
    "    #performing model testing(on testing we dont apply any backpropogation,overfitting technique,early stopping)\n",
    "    model.eval()\n",
    "    testing_running_loss_count = 0\n",
    "    \n",
    "    with torch.no_grad(): #at time of testing or inferencing gradient tracking is off\n",
    "        #based on batchsize data record we are passing to neural network architecture.\n",
    "        for feature,label in testing_dataloader:\n",
    "            feature = feature.to(device)\n",
    "            label   = label.to(device)\n",
    "            \n",
    "            #whenever we start training the model first algorithm work is forward propogation\n",
    "            pred_output = model.forward(feature)\n",
    "            \n",
    "            #calculating the loss value by using Loss fxns or evaluating the performance of model at time of training.\n",
    "            loss_value = loss_fxn(pred_output.squeeze(1),label)\n",
    "            \n",
    "            #updating the count of loss in testing_running_loss_count\n",
    "            testing_running_loss_count = testing_running_loss_count+loss_value.item()\n",
    "            \n",
    "        avg_testing_loss = (testing_running_loss_count)/(len(testing_dataloader))\n",
    "        testing_loss_lst.append(avg_testing_loss)\n",
    "            \n",
    "    print(f\"Epoch [{i+1}/{epochs}], \"\n",
    "          f\"Train Loss: {avg_training_loss:.4f}, \"\n",
    "          f\"Test Loss: {avg_testing_loss:.4f}, \"\n",
    "          )\n",
    "    \n",
    "    \n",
    "    # ---------------- EARLY STOPPING + CHECKPOINT ----------------\n",
    "    if avg_testing_loss < best_loss:\n",
    "        # Agar test loss improve ho gaya hai\n",
    "        best_loss = avg_testing_loss\n",
    "        patience_counter = 0  # reset patience\n",
    "        torch.save(model.state_dict(), \"best_model.pth\")  # ModelCheckpoint\n",
    "        print(f\"✅ Model improved. Saved at epoch {i+1} with Test Loss {best_loss:.4f}\")\n",
    "        \n",
    "    else:\n",
    "        # Agar test loss improve nahi hua\n",
    "        patience_counter += 1\n",
    "        print(f\"⚠️ No improvement. Patience counter = {patience_counter}/{patience}\")\n",
    "\n",
    "        if patience_counter >= patience:\n",
    "            print(f\"⏹ Early stopping at epoch {i+1} (best loss = {best_loss:.4f})\")\n",
    "            break\n",
    "\n",
    "print(\"Training Finished ✅\")   "
   ]
  },
  {
   "cell_type": "markdown",
   "id": "252f8e43",
   "metadata": {},
   "source": [
    "### to visualize the training and testing loss"
   ]
  },
  {
   "cell_type": "code",
   "execution_count": 31,
   "id": "71730e6b",
   "metadata": {},
   "outputs": [
    {
     "data": {
      "image/png": "[encoded data removed]",
      "text/plain": [
       "<Figure size 640x480 with 1 Axes>"
      ]
     },
     "metadata": {},
     "output_type": "display_data"
    }
   ],
   "source": [
    "import matplotlib.pyplot as plt\n",
    "plt.plot(training_loss_lst,label=\"Training_loss\")\n",
    "plt.plot(testing_loss_lst,label=\"Testing_loss\")\n",
    "plt.xlabel(\"epochs\")\n",
    "plt.ylabel(\"average losses per epochs\")\n",
    "plt.title('Training vs Test Loss')\n",
    "plt.legend()\n",
    "plt.show()"
   ]
  },
  {
   "cell_type": "markdown",
   "id": "500041ae",
   "metadata": {},
   "source": [
    "### if i want to see what will be save in model"
   ]
  },
  {
   "cell_type": "code",
   "execution_count": 32,
   "id": "7ac2b098",
   "metadata": {},
   "outputs": [
    {
     "name": "stdout",
     "output_type": "stream",
     "text": [
      "odict_keys(['linear1.weight', 'linear1.bias', 'batchnorm1.weight', 'batchnorm1.bias', 'batchnorm1.running_mean', 'batchnorm1.running_var', 'batchnorm1.num_batches_tracked', 'linear2.weight', 'linear2.bias', 'batchnorm2.weight', 'batchnorm2.bias', 'batchnorm2.running_mean', 'batchnorm2.running_var', 'batchnorm2.num_batches_tracked', 'linear3.weight', 'linear3.bias', 'batchnorm3.weight', 'batchnorm3.bias', 'batchnorm3.running_mean', 'batchnorm3.running_var', 'batchnorm3.num_batches_tracked', 'linear4.weight', 'linear4.bias'])\n"
     ]
    }
   ],
   "source": [
    "checkpoint = torch.load(\"best_model.pth\")\n",
    "print(checkpoint.keys())   # layer names"
   ]
  },
  {
   "cell_type": "code",
   "execution_count": 33,
   "id": "83ee7a45",
   "metadata": {},
   "outputs": [
    {
     "name": "stdout",
     "output_type": "stream",
     "text": [
      "tensor([[-3.5003e-01, -3.8427e-01, -1.6181e-01,  1.3925e+00, -2.9157e-01,\n",
      "         -8.1563e-02, -2.3218e-01],\n",
      "        [ 9.1328e-02, -3.7139e-01, -4.1142e-01, -8.4188e-01, -8.2869e-01,\n",
      "         -1.1477e-01, -3.7510e-01],\n",
      "        [-9.2468e-02,  7.1538e-01,  7.6905e-01, -1.5396e+00,  4.7654e-01,\n",
      "          1.6069e-02, -4.0391e-01],\n",
      "        [-7.3427e-01, -2.3726e-01, -1.1010e+00, -1.9972e-01, -9.2848e-01,\n",
      "         -3.3184e-01, -1.8412e-02],\n",
      "        [-6.6225e-01, -4.7277e-01, -5.1456e-01,  5.6472e-01, -2.8127e-01,\n",
      "          5.6925e-02, -7.7634e-01],\n",
      "        [ 2.6421e-01, -3.3714e-01,  1.0529e-01, -2.5670e-01,  4.0379e-02,\n",
      "          9.5140e-02, -1.0561e+00],\n",
      "        [ 5.2794e-02, -4.0599e-01,  4.8563e-01,  7.5942e-02,  1.7572e-01,\n",
      "         -1.4268e-01, -3.1529e-02],\n",
      "        [-6.5320e-01,  9.0576e-01,  1.0353e+00, -6.6573e-01,  1.0905e+00,\n",
      "         -1.1901e+00, -1.0086e-01],\n",
      "        [ 6.7071e-01,  1.0666e+00, -4.3182e-01, -1.7746e-01, -8.9104e-01,\n",
      "          3.7303e-01, -3.9277e-01],\n",
      "        [ 1.9201e-01,  2.1390e-01,  6.1607e-01,  9.0763e-01,  3.4782e-02,\n",
      "         -7.0503e-01,  5.5459e-02],\n",
      "        [ 5.2766e-01, -6.2929e-01, -8.1798e-01, -2.8107e-01, -2.4593e-01,\n",
      "          8.9117e-01,  5.6545e-01],\n",
      "        [-9.6297e-01, -3.8536e-01, -4.4138e-01, -8.2397e-02,  1.3944e-01,\n",
      "          1.6251e-01,  3.9262e-01],\n",
      "        [ 9.4911e-02,  4.9177e-01, -3.5360e-01,  3.3559e-01, -1.3339e-01,\n",
      "          2.1583e-01,  3.7060e-01],\n",
      "        [ 4.5532e-01,  1.1063e-01, -2.1246e-01, -1.6051e-01,  5.5170e-01,\n",
      "          1.9896e-01,  1.1426e+00],\n",
      "        [-5.5049e-01,  1.6268e-01,  1.2332e+00,  3.2579e-01,  1.5686e-01,\n",
      "          4.6914e-01,  9.9999e-01],\n",
      "        [-1.8831e-01, -5.9066e-01, -2.2984e-01, -9.9349e-01, -8.9629e-02,\n",
      "          8.4409e-01, -4.3916e-01],\n",
      "        [ 1.2691e-01,  7.9442e-01,  3.6631e-01,  5.6916e-01,  6.5357e-03,\n",
      "         -1.6685e-01,  2.4459e-02],\n",
      "        [-1.8491e-01,  3.8766e-01, -3.8560e-01,  8.8110e-02,  4.7007e-02,\n",
      "         -8.5923e-01,  3.6817e-01],\n",
      "        [ 4.0631e-01, -2.0738e-01,  7.1945e-02,  6.5180e-01,  4.4405e-01,\n",
      "          1.5371e-01, -6.6007e-02],\n",
      "        [-7.4180e-01, -3.6047e-01, -1.7751e-01,  3.3529e-01,  9.0036e-01,\n",
      "          3.8789e-01,  5.6028e-01],\n",
      "        [ 2.9702e-01, -4.4971e-01, -3.5034e-01, -1.0427e-01, -1.4332e-01,\n",
      "         -2.4188e-02,  1.5343e-01],\n",
      "        [ 3.8806e-01,  6.9405e-01, -3.0127e-01, -3.3733e-01,  1.1631e+00,\n",
      "          1.1221e+00, -4.4793e-02],\n",
      "        [-1.0051e-01,  4.3829e-01,  2.4617e-01,  4.4332e-01,  3.7840e-02,\n",
      "         -5.1808e-01, -2.7436e-01],\n",
      "        [ 8.7361e-02, -5.6329e-01,  1.8902e-01,  2.9199e-02,  2.2350e-01,\n",
      "          7.1251e-01, -3.0554e-01],\n",
      "        [-2.1805e-01,  1.9529e-01, -4.3129e-01, -6.3817e-01,  5.5531e-01,\n",
      "          6.3858e-01,  3.6873e-01],\n",
      "        [ 4.6471e-01,  5.7754e-02,  6.0963e-01,  7.9096e-01,  3.0601e-01,\n",
      "          5.8053e-01,  4.1482e-01],\n",
      "        [ 3.0668e-01, -7.6054e-01,  8.1519e-02,  1.5539e-01, -6.4183e-02,\n",
      "          2.5409e-01, -2.3594e-01],\n",
      "        [-2.4597e-01, -5.0385e-01,  7.4829e-01, -1.8818e-01,  8.5798e-01,\n",
      "         -2.2480e-01,  1.0112e-01],\n",
      "        [ 4.9635e-01, -2.6520e-01,  7.6770e-01, -3.1040e-01, -8.7044e-02,\n",
      "          5.8676e-01, -5.5636e-01],\n",
      "        [-8.8654e-02, -3.8451e-01,  5.3959e-01, -1.2011e+00,  5.8526e-02,\n",
      "          9.1385e-02,  2.2229e-01],\n",
      "        [ 8.0490e-02, -3.2491e-01, -3.7596e-01,  6.3266e-01, -1.0093e+00,\n",
      "          4.0367e-02, -1.3097e-01],\n",
      "        [ 8.0687e-01, -4.3696e-01,  4.4578e-02, -5.4323e-01, -1.1522e+00,\n",
      "          6.9837e-01, -5.6962e-02],\n",
      "        [-1.0154e+00, -2.6630e-01, -5.5550e-01,  4.7444e-01, -6.9875e-01,\n",
      "          3.2136e-02, -6.8055e-02],\n",
      "        [ 8.5822e-02, -1.4019e-01,  5.7236e-01,  9.8622e-02,  5.2641e-01,\n",
      "          2.2516e-01,  6.4444e-01],\n",
      "        [ 6.6673e-01, -1.3921e-01,  9.5016e-01,  7.5767e-01,  4.2191e-02,\n",
      "          5.6015e-01,  5.7082e-02],\n",
      "        [ 6.0614e-01, -5.8362e-01, -9.0457e-01, -1.9020e-01,  3.3167e-01,\n",
      "          6.8407e-01,  1.0297e-01],\n",
      "        [-4.8799e-01,  6.3751e-01,  4.4676e-01,  2.4380e-01, -2.8864e-01,\n",
      "          6.0401e-01,  6.4974e-01],\n",
      "        [ 4.8424e-01, -7.0771e-01, -7.2627e-01, -3.6880e-01,  1.8714e-01,\n",
      "         -2.2964e-01,  8.4484e-01],\n",
      "        [ 4.1222e-01,  6.3520e-01,  3.1646e-01, -1.5782e-01,  6.5073e-01,\n",
      "          8.7310e-02, -2.0644e-01],\n",
      "        [ 1.5559e+00, -1.4908e-01, -7.8534e-01, -3.6382e-01,  3.4694e-01,\n",
      "         -4.5478e-01,  7.5974e-01],\n",
      "        [-7.5239e-02, -1.4604e-01, -1.0401e+00, -6.3806e-01, -5.3156e-01,\n",
      "          1.9219e-01, -5.0542e-01],\n",
      "        [-1.0593e-01, -3.4130e-01,  4.1947e-01, -4.1431e-01,  2.8248e-01,\n",
      "         -7.0983e-01,  1.0275e+00],\n",
      "        [ 4.0847e-01,  6.7970e-01,  6.8176e-01, -9.3836e-01,  2.5186e-01,\n",
      "         -1.7216e-01, -3.2987e-01],\n",
      "        [-4.8533e-01, -5.4652e-01,  8.9435e-02,  6.6506e-01, -1.4768e-01,\n",
      "          1.6199e-01,  2.2475e-01],\n",
      "        [ 1.0089e+00,  7.4498e-01, -4.8198e-01, -1.3820e-01, -2.8617e-01,\n",
      "          5.2393e-01,  1.8471e-01],\n",
      "        [-7.2094e-01,  6.4858e-02, -6.7880e-02, -2.2698e-01, -3.9480e-02,\n",
      "         -7.9823e-01,  9.2821e-01],\n",
      "        [ 7.8892e-01, -2.4214e-01, -4.5683e-01,  5.6009e-02, -7.9733e-01,\n",
      "         -2.7246e-01,  3.9757e-01],\n",
      "        [-1.2575e+00, -2.9480e-02,  1.0395e-01, -1.3884e-01,  3.6707e-01,\n",
      "          4.2460e-01, -7.6146e-01],\n",
      "        [-6.9534e-01, -8.9235e-01,  4.9253e-02,  2.2118e-01, -8.0527e-01,\n",
      "          1.5211e-01,  5.1532e-02],\n",
      "        [-5.4003e-02, -2.7555e-01, -1.3021e-01,  3.6955e-01,  1.9922e-01,\n",
      "         -1.3482e+00,  5.9301e-02],\n",
      "        [-5.3728e-01,  7.7249e-01,  8.4823e-02,  5.6108e-02, -7.8172e-01,\n",
      "         -4.7318e-01,  3.1623e-01],\n",
      "        [-5.8276e-01,  6.6431e-01, -9.1256e-01, -8.0781e-01,  1.6330e+00,\n",
      "          3.1149e-01, -6.2802e-01],\n",
      "        [-2.5588e-01, -2.5069e-01,  7.3066e-01, -1.7618e-01,  2.5173e-01,\n",
      "         -4.7871e-01,  4.7081e-02],\n",
      "        [ 7.8590e-01, -8.6240e-01,  4.9377e-02,  1.0233e-01,  8.5519e-01,\n",
      "         -4.6524e-01,  2.9520e-01],\n",
      "        [ 9.5758e-02, -8.5050e-01,  3.7192e-01, -3.0473e-01,  9.8238e-01,\n",
      "         -8.5904e-01,  1.0302e-01],\n",
      "        [-9.5279e-02,  8.3078e-01, -5.7385e-01, -3.1258e-01, -8.1083e-01,\n",
      "          6.5259e-01,  4.4744e-03],\n",
      "        [ 5.6209e-01,  1.6391e-01, -9.2590e-02,  1.1137e+00, -1.4613e-02,\n",
      "         -1.3984e-01, -3.1825e-01],\n",
      "        [-1.0752e+00, -8.4436e-01, -8.7216e-01,  4.6178e-01,  9.4184e-01,\n",
      "         -4.6799e-01, -2.9902e-01],\n",
      "        [-1.2903e+00,  1.6626e-01, -5.0158e-01, -8.8474e-01,  1.1305e-01,\n",
      "         -1.7163e-01,  2.4399e-02],\n",
      "        [ 4.6133e-01, -7.4755e-01,  4.9694e-01,  7.4672e-01, -1.8401e-01,\n",
      "          2.5149e-02, -3.8168e-01],\n",
      "        [ 1.1000e+00,  5.6226e-01,  6.4368e-02,  3.1165e-02, -3.9944e-01,\n",
      "         -9.2005e-01, -7.3077e-01],\n",
      "        [-3.8489e-01, -2.2248e-01, -5.4402e-01, -7.7268e-01, -4.7782e-01,\n",
      "          2.3463e-02, -7.4056e-02],\n",
      "        [-3.6742e-02,  1.3494e-01,  3.4940e-01, -7.3544e-01,  1.1453e-01,\n",
      "          4.8402e-01,  2.6282e-01],\n",
      "        [ 7.4962e-01,  3.2709e-01, -2.8831e-03, -9.9708e-01,  3.3602e-01,\n",
      "         -8.9691e-01,  9.3355e-04],\n",
      "        [ 2.0375e-01,  1.1184e-01,  5.1097e-01,  3.6970e-01,  5.7312e-01,\n",
      "         -3.6410e-01,  4.0713e-01],\n",
      "        [-1.1217e-01, -8.2485e-01,  1.3450e-01, -2.8203e-01,  5.2501e-01,\n",
      "         -1.8658e-01, -8.9208e-01],\n",
      "        [ 2.8158e-01, -5.2092e-02,  9.3436e-01,  1.1799e+00, -2.3209e-02,\n",
      "          1.3621e-01, -4.0058e-01],\n",
      "        [-1.1340e-01, -1.0977e-02,  4.3729e-01, -1.3101e-01,  1.0564e+00,\n",
      "         -1.2314e-01, -2.6884e-02],\n",
      "        [-4.5085e-01, -1.2204e-01, -4.4079e-01,  9.6290e-01, -2.0627e-01,\n",
      "          3.1617e-02,  6.3250e-01],\n",
      "        [-1.0385e-01, -1.0186e+00,  6.0896e-01, -1.3984e-02, -3.2197e-01,\n",
      "          7.2577e-01,  2.8049e-01],\n",
      "        [-3.1257e-01, -6.9710e-01, -3.2182e-01, -3.7410e-01,  3.2354e-01,\n",
      "         -6.8974e-01,  5.6523e-01],\n",
      "        [ 2.1124e-01, -1.9120e-03,  2.8225e-01,  4.9539e-01,  2.4566e-02,\n",
      "         -2.7277e-01, -5.7167e-02],\n",
      "        [ 1.1562e+00, -6.9077e-01, -3.8302e-01, -1.8814e-01, -2.0057e-01,\n",
      "          4.4849e-01, -2.8272e-01],\n",
      "        [ 1.6126e-02, -1.2516e+00,  6.8827e-01, -4.1269e-01,  2.2076e-01,\n",
      "          2.2991e-02,  4.7360e-01],\n",
      "        [ 1.2898e-02,  7.6292e-01, -7.5875e-01,  4.6023e-01,  1.2463e-01,\n",
      "          1.7538e-02,  9.4926e-01],\n",
      "        [ 7.2357e-01,  1.7881e-01,  6.9925e-01, -7.3021e-01, -5.0733e-01,\n",
      "          6.3672e-03, -4.6366e-01],\n",
      "        [ 9.8952e-01,  3.9538e-01, -6.4865e-01, -2.7275e-01,  9.6073e-02,\n",
      "          1.1558e-01,  3.0223e-01],\n",
      "        [-1.4389e-01,  2.6149e-01, -7.9222e-01,  5.0076e-01, -1.0864e+00,\n",
      "         -3.2485e-01, -1.3881e+00],\n",
      "        [ 2.2608e-01, -2.2247e-01,  6.2828e-01, -6.4197e-01, -7.7816e-01,\n",
      "         -2.2692e-01, -1.1958e-01],\n",
      "        [-1.9566e-02, -2.5538e-01, -1.1466e-01,  7.0185e-01, -1.2386e+00,\n",
      "         -3.7575e-01,  4.8416e-01],\n",
      "        [ 1.1651e-01, -8.8477e-02,  3.6603e-01, -1.8249e-01,  2.8200e-01,\n",
      "          3.6751e-01, -8.3691e-01],\n",
      "        [-9.1593e-01,  1.6171e-01, -9.6071e-01, -1.4326e+00,  4.4645e-01,\n",
      "          1.4739e-01, -7.2244e-02],\n",
      "        [-1.0922e-01, -6.2268e-01,  7.7057e-02, -4.0438e-01,  6.1276e-01,\n",
      "         -6.6535e-01, -4.9333e-01],\n",
      "        [ 2.8313e-01,  1.3906e-01,  9.5571e-02, -3.0227e-01, -7.2284e-01,\n",
      "         -1.9593e-01, -4.6039e-02],\n",
      "        [-4.5153e-01, -5.4754e-02,  1.7242e-01,  5.2725e-01,  5.3118e-01,\n",
      "          6.5986e-01, -8.6065e-02],\n",
      "        [ 1.6688e-01,  8.0611e-02,  1.0749e+00, -1.6121e-01, -9.9856e-01,\n",
      "          3.5409e-01,  5.9049e-01],\n",
      "        [ 5.0894e-01,  9.5203e-01,  3.1918e-01,  2.7374e-02, -5.4769e-02,\n",
      "         -7.5554e-01,  5.3337e-01],\n",
      "        [ 5.6954e-01, -8.0908e-01, -9.0553e-01,  7.7089e-01,  2.9126e-01,\n",
      "         -2.6543e-01, -2.2113e-01],\n",
      "        [ 2.0140e-01,  4.1569e-01,  1.2431e-01,  4.7735e-01,  3.2144e-01,\n",
      "          5.7169e-01, -6.8720e-01],\n",
      "        [ 1.1856e+00, -3.6067e-01, -2.9156e-01, -3.1902e-01, -3.5238e-01,\n",
      "         -1.2202e+00, -8.9759e-01],\n",
      "        [-2.5932e-01,  1.3296e-01,  6.2516e-01,  4.9547e-01,  5.2443e-01,\n",
      "          4.2447e-01,  3.1177e-01],\n",
      "        [ 6.7618e-01, -4.1009e-02,  1.2983e-01,  7.6946e-01, -4.8198e-01,\n",
      "          7.2521e-01,  2.1350e-01],\n",
      "        [-6.3679e-01,  2.0090e-01, -4.3749e-01,  6.3973e-01,  4.2759e-01,\n",
      "          2.7517e-01,  4.9464e-01],\n",
      "        [-1.3354e+00, -2.9190e-02,  5.0969e-01, -3.8740e-01, -8.0041e-02,\n",
      "          4.4263e-01,  9.7843e-02],\n",
      "        [ 4.8832e-01,  1.2334e-01, -7.2749e-02,  9.6462e-02, -6.3000e-01,\n",
      "          8.1709e-01,  4.3802e-01],\n",
      "        [ 3.8276e-01,  5.6465e-01,  2.1105e-01, -9.3490e-01,  6.7726e-01,\n",
      "         -4.5716e-02,  5.2037e-01],\n",
      "        [-1.0861e+00,  1.0622e-02,  1.1397e-01, -4.2722e-01,  2.9554e-01,\n",
      "         -5.4757e-01, -4.0441e-01],\n",
      "        [ 6.0143e-01, -1.3167e-01,  3.5685e-01, -1.3830e+00, -3.5153e-03,\n",
      "          2.9359e-01,  1.8356e-01],\n",
      "        [-1.2189e-01, -1.3891e-01, -3.5499e-01, -1.2194e+00,  2.6658e-01,\n",
      "          3.6267e-01,  6.9787e-01],\n",
      "        [ 6.8396e-02, -1.5597e-01,  9.1793e-01,  2.9173e-01, -5.9652e-01,\n",
      "         -5.6458e-01,  8.5137e-01],\n",
      "        [-1.6031e-03, -3.9020e-01, -1.4293e-01, -1.5545e-01,  5.6440e-01,\n",
      "         -2.2047e-01, -6.0310e-02],\n",
      "        [ 5.6422e-01,  4.4032e-01,  2.5675e-01,  1.7297e-01, -4.5371e-01,\n",
      "         -6.2606e-01,  9.0643e-01],\n",
      "        [-4.7001e-01, -9.0724e-01, -5.5242e-01, -1.0665e-01,  1.4415e-01,\n",
      "          2.2258e-01, -1.5623e-01],\n",
      "        [ 5.9027e-02,  5.2701e-01,  2.8463e-01, -7.5729e-01, -6.6464e-01,\n",
      "         -2.4597e-01, -2.5288e-01],\n",
      "        [ 1.0504e+00, -8.2777e-02, -3.6751e-01,  1.8595e-01, -9.2921e-02,\n",
      "          1.9981e-01, -4.5307e-02],\n",
      "        [ 7.2008e-01, -1.2558e-01,  2.2734e-01, -1.0536e+00,  2.0519e-01,\n",
      "          3.5226e-01, -2.0049e-01],\n",
      "        [-5.4481e-01,  2.2475e-01,  8.6809e-01,  5.1196e-01, -2.1239e-01,\n",
      "         -6.1665e-01, -1.1569e-01],\n",
      "        [-3.0352e-01, -5.4068e-01, -1.8109e+00,  6.8590e-01,  1.4753e-01,\n",
      "         -2.9729e-01, -1.5931e-01],\n",
      "        [-7.0005e-01,  3.6291e-01, -3.9243e-02,  1.3587e-01, -5.4310e-02,\n",
      "          8.0194e-01, -6.4009e-02],\n",
      "        [-5.5299e-03, -6.2119e-01, -3.0125e-01,  1.0562e-01,  3.8456e-01,\n",
      "          3.1846e-01, -4.7049e-01],\n",
      "        [-6.5616e-01, -1.3426e-02,  1.5190e-01, -5.6020e-01,  7.3407e-02,\n",
      "          6.7853e-01,  2.9006e-01],\n",
      "        [ 2.5681e-01,  8.6746e-02, -3.8164e-01, -1.3176e-01, -6.9926e-03,\n",
      "         -1.2203e-01,  1.1554e+00],\n",
      "        [-8.1499e-02, -2.2906e-01, -3.9301e-01, -1.9588e-01, -8.1933e-01,\n",
      "         -1.0592e+00, -5.1147e-01],\n",
      "        [ 4.6607e-01, -1.2105e-01,  5.5412e-01, -6.8928e-01, -3.8068e-01,\n",
      "          7.3720e-01,  4.5003e-01],\n",
      "        [ 2.4696e-01,  2.1965e-01,  3.1915e-01, -3.0446e-01, -1.3966e-01,\n",
      "         -2.4296e-01, -4.0909e-02],\n",
      "        [-1.4577e-01, -1.1699e+00,  4.1682e-01,  1.8350e-01,  3.9670e-01,\n",
      "          1.1604e+00, -1.6779e-01],\n",
      "        [ 9.2389e-01,  2.9456e-01,  3.4413e-01,  5.7934e-01,  6.9083e-01,\n",
      "         -9.5743e-01, -8.8940e-01],\n",
      "        [ 3.4089e-02,  4.9244e-01,  6.0736e-01, -6.6468e-01, -7.1483e-02,\n",
      "          7.1771e-02,  6.4859e-01],\n",
      "        [-2.1384e-01, -1.6656e-01, -1.7799e+00,  2.4131e-02, -4.3516e-01,\n",
      "         -7.6641e-02,  1.9341e-02],\n",
      "        [ 1.7635e-01,  1.4622e-01,  1.8988e-01,  2.3716e-01, -4.8434e-02,\n",
      "         -8.2584e-01,  1.2900e+00],\n",
      "        [ 5.2917e-01,  7.5381e-01,  5.7624e-01, -1.3123e-01, -8.7318e-01,\n",
      "         -2.1891e-01,  5.1303e-01],\n",
      "        [ 4.0137e-01, -2.0191e-01,  3.4400e-01, -1.1412e-01, -4.7238e-01,\n",
      "          2.3950e-01,  1.6737e-01],\n",
      "        [-5.9461e-01,  3.4603e-01,  2.7878e-01, -3.7520e-02,  5.7370e-02,\n",
      "         -6.1868e-01,  5.1633e-01],\n",
      "        [-6.0053e-01,  8.3099e-03, -8.9430e-02, -1.0198e+00, -4.5578e-01,\n",
      "         -1.6927e-02,  8.4739e-01],\n",
      "        [-6.2747e-01,  9.4579e-01,  2.7952e-01,  4.9978e-02, -3.8548e-01,\n",
      "          1.2088e-02,  9.0104e-01],\n",
      "        [-3.2085e-01, -4.2028e-01, -3.2430e-01,  2.4716e-02,  2.2434e-01,\n",
      "         -1.7141e-01,  4.7132e-02],\n",
      "        [ 2.4114e-01,  8.8809e-01,  6.9323e-01,  2.6576e-01, -3.6742e-01,\n",
      "         -7.0383e-01,  1.3766e-01],\n",
      "        [ 4.7392e-01, -4.8561e-01,  7.8663e-01,  7.5593e-01,  6.1681e-01,\n",
      "         -3.5724e-02,  1.0398e+00]], device='cuda:0')\n",
      "tensor([-8.6724e-07, -1.1554e-06, -2.1883e-06,  1.5172e-06, -5.5860e-07,\n",
      "        -4.4756e-06, -3.4548e-06,  2.5029e-06,  6.4229e-07, -6.7819e-07,\n",
      "        -3.1187e-06, -3.4734e-07, -6.0408e-07, -2.2086e-06,  1.8514e-06,\n",
      "         2.6146e-06,  4.4864e-07, -4.3513e-07,  2.0966e-06, -1.0996e-06,\n",
      "         8.6395e-06, -2.9381e-06,  5.3562e-06,  3.8272e-06,  1.2954e-07,\n",
      "         2.3243e-06, -3.2780e-07, -6.6959e-06, -3.6627e-06,  7.7703e-07,\n",
      "        -5.3234e-06,  5.6952e-06, -1.8683e-06,  3.5792e-06, -1.0047e-06,\n",
      "        -1.3583e-06, -3.4933e-06,  2.9848e-07, -3.5588e-06, -1.8322e-07,\n",
      "         4.5317e-07, -7.7026e-07,  3.5500e-06,  2.6205e-06,  8.9970e-08,\n",
      "        -2.9933e-07, -1.5489e-06,  2.4806e-07,  1.6530e-06,  8.3988e-07,\n",
      "        -8.5301e-07, -1.4243e-06,  1.3815e-06,  4.1659e-06,  5.5093e-06,\n",
      "        -1.0566e-06, -4.1188e-06, -1.5100e-06,  2.6578e-06,  9.7084e-07,\n",
      "         4.0742e-07, -2.4173e-06, -3.2829e-06,  2.5607e-07,  2.1867e-07,\n",
      "         7.3360e-07,  1.3078e-06,  4.4054e-07,  5.3034e-06, -1.9037e-06,\n",
      "         2.4886e-06,  2.6415e-07, -1.0762e-06,  4.1572e-07,  1.0504e-06,\n",
      "         6.8148e-07,  2.3081e-06,  5.6856e-07, -8.5644e-07,  8.5160e-07,\n",
      "         1.3843e-06, -2.4854e-06, -1.5337e-07, -3.2128e-06, -2.5704e-07,\n",
      "         2.5447e-06, -6.3223e-07,  3.1388e-06,  3.0489e-06,  8.6044e-07,\n",
      "        -3.6921e-06, -6.1128e-09, -3.9878e-06, -1.6665e-06,  1.0891e-06,\n",
      "         9.7909e-07, -2.1209e-06,  9.7647e-06, -1.8092e-06, -2.2158e-08,\n",
      "         4.9179e-06,  2.2152e-06,  1.7481e-06,  3.3374e-07, -3.8759e-07,\n",
      "        -3.1532e-07,  2.9037e-06, -5.0969e-06,  9.0822e-07, -4.9019e-06,\n",
      "        -1.9095e-06, -4.7135e-07, -5.9490e-07,  2.8329e-06, -2.9531e-06,\n",
      "        -2.4279e-06,  4.3176e-07,  3.1043e-06, -2.6565e-06, -1.9391e-06,\n",
      "         1.6874e-06, -8.8608e-07, -1.0955e-06,  1.7966e-06, -2.6011e-06,\n",
      "         2.7087e-06,  1.6334e-06, -1.4456e-06], device='cuda:0')\n"
     ]
    }
   ],
   "source": [
    "print(checkpoint[\"linear1.weight\"])   # example linear layer1 ke weights\n",
    "print(checkpoint[\"linear1.bias\"])     # example linear layer1 ke bias"
   ]
  },
  {
   "cell_type": "code",
   "execution_count": 34,
   "id": "8a4fcd1f",
   "metadata": {},
   "outputs": [],
   "source": [
    "# ✅ To perform inferencing ka flow hamesha yeh hota hai:\n",
    "# Define model → load weights → eval() mode → input tensor → forward pass → postprocess (sigmoid/softmax)."
   ]
  },
  {
   "cell_type": "markdown",
   "id": "f504cd59",
   "metadata": {},
   "source": [
    "## Inferencing Prediction"
   ]
  },
  {
   "cell_type": "code",
   "execution_count": 35,
   "id": "ce0ecac3",
   "metadata": {},
   "outputs": [
    {
     "name": "stdout",
     "output_type": "stream",
     "text": [
      "Raw Prediction: tensor([[0.9994]], device='cuda:0')\n"
     ]
    }
   ],
   "source": [
    "#loading model weights and bias\n",
    "model.load_state_dict(torch.load(\"best_model.pth\", map_location=device))\n",
    "model.to(device)   # model GPU/CPU pe\n",
    "\n",
    "# Ek sample input (7 features)\n",
    "sample_input = torch.tensor([[0.5, -1.2, 3.4, 0.0, 1.1, -0.7, 2.2]], dtype=torch.float32).to(device)\n",
    "\n",
    "# Prediction\n",
    "model.eval()\n",
    "with torch.no_grad():\n",
    "    prediction = model(sample_input)\n",
    "    print(\"Raw Prediction:\", prediction)"
   ]
  }
 ],
 "metadata": {
  "kernelspec": {
   "display_name": "hf-gpu",
   "language": "python",
   "name": "python3"
  },
  "language_info": {
   "codemirror_mode": {
    "name": "ipython",
    "version": 3
   },
   "file_extension": ".py",
   "mimetype": "text/x-python",
   "name": "python",
   "nbconvert_exporter": "python",
   "pygments_lexer": "ipython3",
   "version": "3.10.18"
  }
 },
 "nbformat": 4,
 "nbformat_minor": 5
}
