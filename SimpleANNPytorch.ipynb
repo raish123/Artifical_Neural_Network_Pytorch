{
 "cells": [
  {
   "cell_type": "code",
   "execution_count": 1,
   "id": "65d27285",
   "metadata": {},
   "outputs": [],
   "source": [
    "import torch #main frame work we used to perform high dimension tensor calculation\n",
    "import torch.nn as nn #this class we used to define Custom Neural Network Architecture\n",
    "from torch.utils.data import Dataset,DataLoader #this Dataset class we used split the entire data into chunks based on Batch_sizes\n",
    "#where as DataLoader class we used to load data and perform action over it.\n",
    "\n",
    "from sklearn.model_selection import train_test_split #this class we used to split the data into train or test sets\n",
    "from sklearn.preprocessing import StandardScaler,MinMaxScaler \n",
    "#above this class used to do input scaling so that variance of all field would be same for models\n",
    "\n",
    "import pandas as pd\n",
    "from cloudpickle import pickle #this class we used to convert datastructure into bytes stream\n",
    "import seaborn as sb #to see the visualization."
   ]
  },
  {
   "cell_type": "code",
   "execution_count": 2,
   "id": "51dd95b6",
   "metadata": {},
   "outputs": [
    {
     "data": {
      "text/plain": [
       "device(type='cuda')"
      ]
     },
     "execution_count": 2,
     "metadata": {},
     "output_type": "execute_result"
    }
   ],
   "source": [
    "#if i want to show gpu is avilable or not in system.\n",
    "device = torch.device(\"cuda\" if torch.cuda.is_available() else \"cpu\")\n",
    "device"
   ]
  },
  {
   "cell_type": "markdown",
   "id": "5fe3f295",
   "metadata": {},
   "source": [
    "### Now Loading Dataset and doing EDA over it"
   ]
  },
  {
   "cell_type": "code",
   "execution_count": 3,
   "id": "0344507e",
   "metadata": {},
   "outputs": [
    {
     "name": "stdout",
     "output_type": "stream",
     "text": [
      "<class 'pandas.core.frame.DataFrame'>\n",
      "RangeIndex: 1338 entries, 0 to 1337\n",
      "Data columns (total 8 columns):\n",
      " #   Column          Non-Null Count  Dtype  \n",
      "---  ------          --------------  -----  \n",
      " 0   age             1338 non-null   int64  \n",
      " 1   sex             1338 non-null   int64  \n",
      " 2   bmi             1338 non-null   float64\n",
      " 3   children        1338 non-null   int64  \n",
      " 4   smoker          1338 non-null   int64  \n",
      " 5   region          1338 non-null   int64  \n",
      " 6   charges         1338 non-null   float64\n",
      " 7   insuranceclaim  1338 non-null   int64  \n",
      "dtypes: float64(2), int64(6)\n",
      "memory usage: 83.8 KB\n"
     ]
    }
   ],
   "source": [
    "data = pd.read_csv(filepath_or_buffer=\"insurance.csv\",encoding=\"utf-8\")\n",
    "data.info()"
   ]
  },
  {
   "cell_type": "markdown",
   "id": "5689c879",
   "metadata": {},
   "source": [
    "### step:1 checking for Null value"
   ]
  },
  {
   "cell_type": "code",
   "execution_count": 4,
   "id": "80f38134",
   "metadata": {},
   "outputs": [
    {
     "data": {
      "text/plain": [
       "age               0.0\n",
       "sex               0.0\n",
       "bmi               0.0\n",
       "children          0.0\n",
       "smoker            0.0\n",
       "region            0.0\n",
       "charges           0.0\n",
       "insuranceclaim    0.0\n",
       "dtype: float64"
      ]
     },
     "execution_count": 4,
     "metadata": {},
     "output_type": "execute_result"
    }
   ],
   "source": [
    "100 * data.isnull().sum()/data.shape[0] "
   ]
  },
  {
   "cell_type": "markdown",
   "id": "e0a41dfd",
   "metadata": {},
   "source": [
    "### step:2 checking for duplicated record"
   ]
  },
  {
   "cell_type": "code",
   "execution_count": 5,
   "id": "cc94ecdc",
   "metadata": {},
   "outputs": [
    {
     "data": {
      "text/plain": [
       "1"
      ]
     },
     "execution_count": 5,
     "metadata": {},
     "output_type": "execute_result"
    }
   ],
   "source": [
    "data.duplicated().sum()"
   ]
  },
  {
   "cell_type": "code",
   "execution_count": 6,
   "id": "392bef2d",
   "metadata": {},
   "outputs": [
    {
     "data": {
      "text/html": [
       "<div>\n",
       "<style scoped>\n",
       "    .dataframe tbody tr th:only-of-type {\n",
       "        vertical-align: middle;\n",
       "    }\n",
       "\n",
       "    .dataframe tbody tr th {\n",
       "        vertical-align: top;\n",
       "    }\n",
       "\n",
       "    .dataframe thead th {\n",
       "        text-align: right;\n",
       "    }\n",
       "</style>\n",
       "<table border=\"1\" class=\"dataframe\">\n",
       "  <thead>\n",
       "    <tr style=\"text-align: right;\">\n",
       "      <th></th>\n",
       "      <th>age</th>\n",
       "      <th>sex</th>\n",
       "      <th>bmi</th>\n",
       "      <th>children</th>\n",
       "      <th>smoker</th>\n",
       "      <th>region</th>\n",
       "      <th>charges</th>\n",
       "      <th>insuranceclaim</th>\n",
       "    </tr>\n",
       "  </thead>\n",
       "  <tbody>\n",
       "    <tr>\n",
       "      <th>581</th>\n",
       "      <td>19</td>\n",
       "      <td>1</td>\n",
       "      <td>30.59</td>\n",
       "      <td>0</td>\n",
       "      <td>0</td>\n",
       "      <td>1</td>\n",
       "      <td>1639.5631</td>\n",
       "      <td>1</td>\n",
       "    </tr>\n",
       "  </tbody>\n",
       "</table>\n",
       "</div>"
      ],
      "text/plain": [
       "     age  sex    bmi  children  smoker  region    charges  insuranceclaim\n",
       "581   19    1  30.59         0       0       1  1639.5631               1"
      ]
     },
     "execution_count": 6,
     "metadata": {},
     "output_type": "execute_result"
    }
   ],
   "source": [
    "#to see which records showing duplicacy\n",
    "data[data.duplicated()]"
   ]
  },
  {
   "cell_type": "code",
   "execution_count": 7,
   "id": "a2ba9c54",
   "metadata": {},
   "outputs": [],
   "source": [
    "#dropping those duplocate records from data.\n",
    "data.drop_duplicates(keep=\"first\",inplace=True,ignore_index=True)"
   ]
  },
  {
   "cell_type": "code",
   "execution_count": 8,
   "id": "37d43739",
   "metadata": {},
   "outputs": [
    {
     "data": {
      "text/plain": [
       "0"
      ]
     },
     "execution_count": 8,
     "metadata": {},
     "output_type": "execute_result"
    }
   ],
   "source": [
    "#again checking duplicated record deleted or not.\n",
    "data.duplicated().sum()"
   ]
  },
  {
   "cell_type": "markdown",
   "id": "7c9ae36f",
   "metadata": {},
   "source": [
    "### step:3 checking for target variable"
   ]
  },
  {
   "cell_type": "code",
   "execution_count": 9,
   "id": "5da4d896",
   "metadata": {},
   "outputs": [
    {
     "data": {
      "text/plain": [
       "insuranceclaim\n",
       "1    0.584892\n",
       "0    0.415108\n",
       "Name: proportion, dtype: float64"
      ]
     },
     "execution_count": 9,
     "metadata": {},
     "output_type": "execute_result"
    }
   ],
   "source": [
    "data.insuranceclaim.value_counts(normalize=True,ascending=False,dropna=False) #both the classes are balanced in data."
   ]
  },
  {
   "cell_type": "markdown",
   "id": "1cc2fefd",
   "metadata": {},
   "source": [
    "### step:4 splitting the data into training set or testing set"
   ]
  },
  {
   "cell_type": "code",
   "execution_count": 10,
   "id": "6bc19223",
   "metadata": {},
   "outputs": [],
   "source": [
    "#selecting input and output variable\n",
    "x = data.drop(labels=\"insuranceclaim\",axis=1)\n",
    "y = data[\"insuranceclaim\"]"
   ]
  },
  {
   "cell_type": "code",
   "execution_count": 11,
   "id": "b1d00516",
   "metadata": {},
   "outputs": [
    {
     "data": {
      "text/plain": [
       "((1069, 7), (268, 7), (1069,), (268,))"
      ]
     },
     "execution_count": 11,
     "metadata": {},
     "output_type": "execute_result"
    }
   ],
   "source": [
    "x_train,x_test,y_train,y_test = train_test_split(x,y,test_size=0.2,random_state=42,stratify=y) \n",
    "#stratify ensure both class distribution goes same to both sets(train or test)\n",
    "x_train.shape,x_test.shape,y_train.shape,y_test.shape"
   ]
  },
  {
   "cell_type": "code",
   "execution_count": 12,
   "id": "d6feb8dd",
   "metadata": {},
   "outputs": [
    {
     "name": "stdout",
     "output_type": "stream",
     "text": [
      "Training set dimension: 2 and Testing set dimension: 2\n",
      "Training set dtype:   age           int64\n",
      "sex           int64\n",
      "bmi         float64\n",
      "children      int64\n",
      "smoker        int64\n",
      "region        int64\n",
      "charges     float64\n",
      "dtype: object and Testing set dtype: age           int64\n",
      "sex           int64\n",
      "bmi         float64\n",
      "children      int64\n",
      "smoker        int64\n",
      "region        int64\n",
      "charges     float64\n",
      "dtype: object\n",
      "Training set type:   <class 'pandas.core.frame.DataFrame'> and Testing set type: <class 'pandas.core.frame.DataFrame'>\n"
     ]
    }
   ],
   "source": [
    "#to show the dtype and dimension of train test split data\n",
    "print(f\"Training set dimension: {x_train.ndim} and Testing set dimension: {x_test.ndim}\")\n",
    "print(f\"Training set dtype:   {x_train.dtypes} and Testing set dtype: {x_test.dtypes}\")\n",
    "print(f\"Training set type:   {type(x_train)} and Testing set type: {type(x_test)}\")"
   ]
  },
  {
   "cell_type": "markdown",
   "id": "ead2ac28",
   "metadata": {},
   "source": [
    "```\n",
    "| Task Type                                | Input dtype     | Target dtype    | Loss Function          |\n",
    "| ---------------------------------------- | --------------- | --------------- | ---------------------- |\n",
    "| **Binary Classification (Sigmoid)**      | `torch.float32` | `torch.float32` | `nn.BCEWithLogitsLoss` |\n",
    "| **Multi-class Classification (Softmax)** | `torch.float32` | `torch.long`    | `nn.CrossEntropyLoss`  |\n",
    "\n",
    "\n",
    "```"
   ]
  },
  {
   "cell_type": "code",
   "execution_count": 13,
   "id": "a0b3500e",
   "metadata": {},
   "outputs": [
    {
     "data": {
      "text/html": [
       "<div>\n",
       "<style scoped>\n",
       "    .dataframe tbody tr th:only-of-type {\n",
       "        vertical-align: middle;\n",
       "    }\n",
       "\n",
       "    .dataframe tbody tr th {\n",
       "        vertical-align: top;\n",
       "    }\n",
       "\n",
       "    .dataframe thead th {\n",
       "        text-align: right;\n",
       "    }\n",
       "</style>\n",
       "<table border=\"1\" class=\"dataframe\">\n",
       "  <thead>\n",
       "    <tr style=\"text-align: right;\">\n",
       "      <th></th>\n",
       "      <th>age</th>\n",
       "      <th>sex</th>\n",
       "      <th>bmi</th>\n",
       "      <th>children</th>\n",
       "      <th>smoker</th>\n",
       "      <th>region</th>\n",
       "      <th>charges</th>\n",
       "    </tr>\n",
       "  </thead>\n",
       "  <tbody>\n",
       "    <tr>\n",
       "      <th>1290</th>\n",
       "      <td>19</td>\n",
       "      <td>1</td>\n",
       "      <td>34.900</td>\n",
       "      <td>0</td>\n",
       "      <td>1</td>\n",
       "      <td>3</td>\n",
       "      <td>34828.65400</td>\n",
       "    </tr>\n",
       "    <tr>\n",
       "      <th>359</th>\n",
       "      <td>18</td>\n",
       "      <td>0</td>\n",
       "      <td>20.790</td>\n",
       "      <td>0</td>\n",
       "      <td>0</td>\n",
       "      <td>2</td>\n",
       "      <td>1607.51010</td>\n",
       "    </tr>\n",
       "    <tr>\n",
       "      <th>579</th>\n",
       "      <td>25</td>\n",
       "      <td>0</td>\n",
       "      <td>23.465</td>\n",
       "      <td>0</td>\n",
       "      <td>0</td>\n",
       "      <td>0</td>\n",
       "      <td>3206.49135</td>\n",
       "    </tr>\n",
       "    <tr>\n",
       "      <th>662</th>\n",
       "      <td>18</td>\n",
       "      <td>1</td>\n",
       "      <td>33.660</td>\n",
       "      <td>0</td>\n",
       "      <td>0</td>\n",
       "      <td>2</td>\n",
       "      <td>1136.39940</td>\n",
       "    </tr>\n",
       "    <tr>\n",
       "      <th>1167</th>\n",
       "      <td>32</td>\n",
       "      <td>1</td>\n",
       "      <td>35.200</td>\n",
       "      <td>2</td>\n",
       "      <td>0</td>\n",
       "      <td>3</td>\n",
       "      <td>4670.64000</td>\n",
       "    </tr>\n",
       "  </tbody>\n",
       "</table>\n",
       "</div>"
      ],
      "text/plain": [
       "      age  sex     bmi  children  smoker  region      charges\n",
       "1290   19    1  34.900         0       1       3  34828.65400\n",
       "359    18    0  20.790         0       0       2   1607.51010\n",
       "579    25    0  23.465         0       0       0   3206.49135\n",
       "662    18    1  33.660         0       0       2   1136.39940\n",
       "1167   32    1  35.200         2       0       3   4670.64000"
      ]
     },
     "execution_count": 13,
     "metadata": {},
     "output_type": "execute_result"
    }
   ],
   "source": [
    "x_train.head()"
   ]
  },
  {
   "cell_type": "code",
   "execution_count": 14,
   "id": "f0213174",
   "metadata": {},
   "outputs": [
    {
     "data": {
      "text/plain": [
       "1290    1\n",
       "359     0\n",
       "579     0\n",
       "662     1\n",
       "1167    0\n",
       "Name: insuranceclaim, dtype: int64"
      ]
     },
     "execution_count": 14,
     "metadata": {},
     "output_type": "execute_result"
    }
   ],
   "source": [
    "y_train.head()"
   ]
  },
  {
   "cell_type": "markdown",
   "id": "6892bb57",
   "metadata": {},
   "source": [
    "### step:5 now doing input scaling converting into numpy object"
   ]
  },
  {
   "cell_type": "code",
   "execution_count": 15,
   "id": "e8a32a69",
   "metadata": {},
   "outputs": [
    {
     "name": "stdout",
     "output_type": "stream",
     "text": [
      "Training set dimension: 2  and Testing set dimension: 2\n",
      "Training set dtype:     float32 and Testing set dtype: float32\n",
      "Training set type:      <class 'numpy.ndarray'> and Testing set type: <class 'numpy.ndarray'>\n"
     ]
    }
   ],
   "source": [
    "#creating an object of standardscaler class.\n",
    "ss = StandardScaler()\n",
    "\n",
    "#now applying scaling on input data.\n",
    "x_train_ss = ss.fit_transform(x_train.astype(\"float32\")) #converting dataframe 2d object to 2d numpy object\n",
    "x_test_ss  = ss.transform(x_test.astype(\"float32\"))      #Transforming testing dataframe 2d object to 2d numpy object\n",
    "print(f\"Training set dimension: {x_train_ss.ndim}  and Testing set dimension: {x_test_ss.ndim}\")\n",
    "print(f\"Training set dtype:     {x_train_ss.dtype} and Testing set dtype: {x_test_ss.dtype}\")\n",
    "print(f\"Training set type:      {type(x_train_ss)} and Testing set type: {type(x_test_ss)}\")"
   ]
  },
  {
   "cell_type": "code",
   "execution_count": 16,
   "id": "1a19c775",
   "metadata": {},
   "outputs": [
    {
     "name": "stdout",
     "output_type": "stream",
     "text": [
      "Training set dimension: 1 and Testing set dimension: 1\n",
      "Training set type:   <class 'numpy.ndarray'> and Testing set type: <class 'numpy.ndarray'>\n"
     ]
    }
   ],
   "source": [
    "#converting target variable set to numpy object.\n",
    "import numpy as np\n",
    "y_train_np = np.array(object=y_train,dtype=np.float32)\n",
    "y_test_np = np.array(object=y_test,dtype=np.float32)\n",
    "print(f\"Training set dimension: {y_train_np.ndim} and Testing set dimension: {y_test_np.ndim}\")\n",
    "print(f\"Training set type:   {type(y_train_np)} and Testing set type: {type(y_test_np)}\")"
   ]
  },
  {
   "cell_type": "markdown",
   "id": "e2ada41e",
   "metadata": {},
   "source": [
    "### step:6 converting numpy object to tensor object"
   ]
  },
  {
   "cell_type": "code",
   "execution_count": 17,
   "id": "6165d727",
   "metadata": {},
   "outputs": [
    {
     "name": "stdout",
     "output_type": "stream",
     "text": [
      "Training set tensor: <class 'torch.Tensor'> and Testing set tensor: <class 'torch.Tensor'>\n"
     ]
    }
   ],
   "source": [
    "x_train_tensor = torch.from_numpy(x_train_ss)\n",
    "x_test_tensor = torch.from_numpy(x_test_ss)\n",
    "y_train_tensor = torch.from_numpy(y_train_np)\n",
    "y_test_tensor = torch.from_numpy(y_test_np)\n",
    "print(f\"Training set tensor: {type(x_train_tensor)} and Testing set tensor: {type(x_test_tensor)}\")"
   ]
  },
  {
   "cell_type": "code",
   "execution_count": 18,
   "id": "f5da2d95",
   "metadata": {},
   "outputs": [
    {
     "data": {
      "text/plain": [
       "(tensor([[-1.4381,  0.9879,  0.7013,  ...,  2.0106,  1.3720,  1.8369],\n",
       "         [-1.5094, -1.0122, -1.6309,  ..., -0.4974,  0.4717, -0.9687],\n",
       "         [-1.0101, -1.0122, -1.1888,  ..., -0.4974, -1.3291, -0.8337],\n",
       "         ...,\n",
       "         [-0.8675,  0.9879, -0.2491,  ...,  2.0106,  0.4717,  0.4365],\n",
       "         [ 1.0582, -1.0122,  0.3343,  ..., -0.4974, -1.3291, -0.1819],\n",
       "         [ 0.3450, -1.0122,  0.2781,  ..., -0.4974,  0.4717, -0.4598]]),\n",
       " tensor([1., 0., 0.,  ..., 1., 1., 1.]))"
      ]
     },
     "execution_count": 18,
     "metadata": {},
     "output_type": "execute_result"
    }
   ],
   "source": [
    "x_train_tensor,y_train_tensor"
   ]
  },
  {
   "cell_type": "markdown",
   "id": "2984e86c",
   "metadata": {},
   "source": [
    "### step:7 using custom dataset class to split into chuks based on batch_size"
   ]
  },
  {
   "cell_type": "code",
   "execution_count": 19,
   "id": "f88fc4b0",
   "metadata": {},
   "outputs": [],
   "source": [
    "class CustomDataset(Dataset):\n",
    "    #defining the constructor method to initialize instance variable\n",
    "    def __init__(self,input_data,output_data):\n",
    "        self.input_data  = input_data\n",
    "        self.output_data = output_data\n",
    "        \n",
    "    #to see the shape of input data we used special method\n",
    "    def __len__(self):\n",
    "        return len(self.input_data)\n",
    "    \n",
    "    #to split the data into chunks based on batch_size\n",
    "    def __getitem__(self, index):\n",
    "        return self.input_data[index],self.output_data[index]"
   ]
  },
  {
   "cell_type": "markdown",
   "id": "006b749e",
   "metadata": {},
   "source": [
    "### step:8 getting training dataset or tesing dataset"
   ]
  },
  {
   "cell_type": "code",
   "execution_count": 20,
   "id": "e53f4571",
   "metadata": {},
   "outputs": [],
   "source": [
    "#creating an object of CustomDataset class.\n",
    "training_dataset = CustomDataset(input_data=x_train_tensor,output_data=y_train_tensor)\n",
    "testing_dataset  = CustomDataset(input_data=x_test_tensor,output_data=y_test_tensor)\n"
   ]
  },
  {
   "cell_type": "markdown",
   "id": "400e81a0",
   "metadata": {},
   "source": [
    "### step:9 converting training or testing dataset into dataloader object that split chunks based on batch_size"
   ]
  },
  {
   "cell_type": "code",
   "execution_count": 21,
   "id": "7976a2e9",
   "metadata": {},
   "outputs": [],
   "source": [
    "training_dataloader   = DataLoader(dataset=training_dataset,batch_size=16,shuffle=True,pin_memory=True)\n",
    "testing_dataloader = DataLoader(dataset=testing_dataset,batch_size=16,shuffle=True,pin_memory=True)"
   ]
  },
  {
   "cell_type": "code",
   "execution_count": 22,
   "id": "3d062d09",
   "metadata": {},
   "outputs": [
    {
     "name": "stdout",
     "output_type": "stream",
     "text": [
      "tensor([[ 0.9156, -1.0122,  2.3211,  1.5896, -0.4974,  1.3720, -0.1407],\n",
      "        [ 0.9869, -1.0122, -1.1417,  0.7595, -0.4974, -1.3291, -0.1139],\n",
      "        [ 0.0597,  0.9879,  0.0360,  2.4197, -0.4974, -0.4287, -0.4151],\n",
      "        [-1.5094, -1.0122,  1.5748, -0.9008, -0.4974, -1.3291, -0.9172],\n",
      "        [ 0.7016,  0.9879, -0.8359,  0.7595,  2.0106,  1.3720,  0.8638],\n",
      "        [ 0.4876, -1.0122,  2.8781,  0.7595, -0.4974, -1.3291, -0.3078],\n",
      "        [-0.3682,  0.9879,  1.8963,  0.7595, -0.4974,  0.4717, -0.6717],\n",
      "        [-0.0116, -1.0122,  0.5690,  1.5896, -0.4974,  1.3720, -0.4780],\n",
      "        [-1.2954, -1.0122,  0.4913,  0.7595, -0.4974, -0.4287, -0.8022],\n",
      "        [ 0.4876, -1.0122, -0.4309, -0.0707, -0.4974,  0.4717, -0.4092],\n",
      "        [ 0.0597,  0.9879, -0.9400,  0.7595, -0.4974,  0.4717, -0.5476],\n",
      "        [ 0.1310,  0.9879,  1.5872, -0.9008, -0.4974,  0.4717, -0.6223],\n",
      "        [ 1.5575, -1.0122,  0.4418,  2.4197, -0.4974,  0.4717,  1.9849],\n",
      "        [-0.0829,  0.9879, -2.2879,  0.7595, -0.4974, -1.3291, -0.5437],\n",
      "        [-1.3667, -1.0122,  1.0484,  3.2499, -0.4974,  1.3720, -0.6965],\n",
      "        [-1.0101, -1.0122, -1.6293, -0.0707, -0.4974,  1.3720, -0.8335]])\n",
      "tensor([0., 0., 0., 1., 1., 1., 0., 0., 0., 0., 0., 1., 0., 1., 0., 0.])\n"
     ]
    }
   ],
   "source": [
    "for feature,label in testing_dataloader:\n",
    "    print(feature)\n",
    "    print(label)\n",
    "    break"
   ]
  },
  {
   "cell_type": "code",
   "execution_count": 23,
   "id": "7b2e4af4",
   "metadata": {},
   "outputs": [
    {
     "name": "stdout",
     "output_type": "stream",
     "text": [
      "tensor([[ 6.3029e-01, -1.0122e+00,  9.7812e-01, -9.0080e-01, -4.9737e-01,\n",
      "         -4.2871e-01, -3.7217e-01],\n",
      "        [ 1.3104e-01,  9.8791e-01, -3.7227e-01, -7.0666e-02, -4.9737e-01,\n",
      "         -4.2871e-01, -5.4163e-01],\n",
      "        [-1.5094e+00, -1.0122e+00, -2.4665e-01, -9.0080e-01, -4.9737e-01,\n",
      "         -1.3291e+00, -4.8597e-01],\n",
      "        [ 1.4862e+00,  9.8791e-01,  3.5416e-01, -9.0080e-01,  2.0106e+00,\n",
      "          1.3720e+00,  3.3370e+00],\n",
      "        [ 7.0161e-01,  9.8791e-01,  1.0236e+00, -9.0080e-01, -4.9737e-01,\n",
      "          4.7167e-01, -4.1823e-01],\n",
      "        [-1.2241e+00,  9.8791e-01,  6.8473e-01,  1.5896e+00, -4.9737e-01,\n",
      "          1.3720e+00, -8.1371e-01],\n",
      "        [-5.1086e-01,  9.8791e-01,  7.5085e-01,  7.5947e-01, -4.9737e-01,\n",
      "          1.3720e+00, -7.1003e-01],\n",
      "        [ 4.8765e-01,  9.8791e-01, -8.0284e-01,  3.2499e+00, -4.9737e-01,\n",
      "          1.3720e+00, -2.5176e-01],\n",
      "        [ 1.7001e+00,  9.8791e-01, -1.4871e+00, -7.0666e-02, -4.9737e-01,\n",
      "         -4.2871e-01,  1.0742e-01],\n",
      "        [ 1.5575e+00, -1.0122e+00,  2.2054e+00, -9.0080e-01, -4.9737e-01,\n",
      "          1.3720e+00, -1.1900e-03],\n",
      "        [-1.3667e+00,  9.8791e-01, -4.5078e-01, -9.0080e-01, -4.9737e-01,\n",
      "         -1.3291e+00, -9.3837e-01],\n",
      "        [-1.4381e+00,  9.8791e-01, -1.0012e+00, -7.0666e-02, -4.9737e-01,\n",
      "          1.3720e+00, -9.4933e-01],\n",
      "        [ 1.2722e+00, -1.0122e+00,  6.0126e-01,  7.5947e-01, -4.9737e-01,\n",
      "         -1.3291e+00,  1.2337e-02],\n",
      "        [-1.5094e+00,  9.8791e-01,  5.1449e-01, -7.0666e-02, -4.9737e-01,\n",
      "          4.7167e-01, -9.5876e-01],\n",
      "        [ 1.0582e+00,  9.8791e-01,  1.4781e+00, -7.0666e-02, -4.9737e-01,\n",
      "          1.3720e+00, -2.2190e-01],\n",
      "        [-3.6822e-01,  9.8791e-01,  3.5416e-01, -7.0666e-02, -4.9737e-01,\n",
      "          1.3720e+00,  1.0813e-01]])\n",
      "tensor([1., 0., 1., 1., 1., 0., 0., 1., 0., 1., 1., 0., 0., 1., 1., 1.])\n"
     ]
    }
   ],
   "source": [
    "for feature,label in training_dataloader:\n",
    "    print(feature)\n",
    "    print(label)\n",
    "    break"
   ]
  },
  {
   "cell_type": "markdown",
   "id": "72effd74",
   "metadata": {},
   "source": [
    "### step:10 now defining deep neural network Architecture"
   ]
  },
  {
   "cell_type": "code",
   "execution_count": 24,
   "id": "46bb3928",
   "metadata": {},
   "outputs": [],
   "source": [
    "import torch.nn.init as init\n",
    "class SimpleNeuralNetworkArchitecture(nn.Module):\n",
    "    #defining the instance variable \n",
    "    def __init__(self,input_size,output_size):\n",
    "        \n",
    "        #using super method to all inherit property from parent class.\n",
    "        super().__init__()\n",
    "        \n",
    "        #defining linear and non linear layer in Hidden layer.\n",
    "        self.linear1 = nn.Linear(in_features=input_size,out_features=64)  #first hidden layer\n",
    "        self.relu1 =  nn.ReLU()\n",
    "        \n",
    "        self.linear2 = nn.Linear(in_features=64,out_features=32)          #second hidden layer\n",
    "        self.relu2 =  nn.ReLU()\n",
    "        \n",
    "        self.linear3 = nn.Linear(in_features=32,out_features=8)           #third hidden layer\n",
    "        self.relu3 =  nn.ReLU()\n",
    "        \n",
    "        self.linear4 = nn.Linear(in_features=8,out_features=output_size)  # output layer\n",
    "        \n",
    "        #calling the Initialize weights and biases method\n",
    "        self._init_weights()\n",
    "        \n",
    "        \n",
    "        \n",
    "    #now initializing the weight and bias before starting the training using xavier and glorat or he maining\n",
    "    #i will used relu in hidden layer or sigmoid output layer\n",
    "    \n",
    "    def _init_weights(self):\n",
    "        #Hidden layers → ReLU → He Normal.\n",
    "        init.kaiming_normal_(self.linear1.weight,nonlinearity=\"relu\") #inplace operation updating directly\n",
    "        init.zeros_(self.linear1.bias)\n",
    "        \n",
    "        #Hidden layers2 → ReLU → He Normal.\n",
    "        init.kaiming_normal_(self.linear2.weight,nonlinearity=\"relu\")\n",
    "        init.zeros_(self.linear2.bias)\n",
    "        \n",
    "        #Hidden layers3 → ReLU → He Normal.\n",
    "        init.kaiming_normal_(self.linear3.weight,nonlinearity=\"relu\")\n",
    "        init.zeros_(self.linear3.bias)\n",
    "        \n",
    "        #output layers → sigmoid → xavier or glorat uniform.\n",
    "        init.xavier_uniform_(self.linear4.weight)\n",
    "        init.zeros_(self.linear4.bias)\n",
    "        \n",
    "    #whenever we started training first algortithm work in neural network forward pass\n",
    "    def forward(self, x): #where x is input feature data\n",
    "        x = self.relu1(self.linear1(x))\n",
    "        x = self.relu2(self.linear2(x))\n",
    "        x = self.relu3(self.linear3(x))\n",
    "        x = torch.sigmoid(self.linear4(x))\n",
    "        return x"
   ]
  },
  {
   "cell_type": "code",
   "execution_count": 25,
   "id": "f42d8958",
   "metadata": {},
   "outputs": [
    {
     "data": {
      "text/plain": [
       "(torch.Size([1069, 7]), 7)"
      ]
     },
     "execution_count": 25,
     "metadata": {},
     "output_type": "execute_result"
    }
   ],
   "source": [
    "x_train_tensor.shape,x_train_tensor.shape[1]"
   ]
  },
  {
   "cell_type": "markdown",
   "id": "4041296a",
   "metadata": {},
   "source": [
    "### calling the neural network architecture class"
   ]
  },
  {
   "cell_type": "code",
   "execution_count": 26,
   "id": "a94833cb",
   "metadata": {},
   "outputs": [
    {
     "data": {
      "text/plain": [
       "SimpleNeuralNetworkArchitecture(\n",
       "  (linear1): Linear(in_features=7, out_features=64, bias=True)\n",
       "  (relu1): ReLU()\n",
       "  (linear2): Linear(in_features=64, out_features=32, bias=True)\n",
       "  (relu2): ReLU()\n",
       "  (linear3): Linear(in_features=32, out_features=8, bias=True)\n",
       "  (relu3): ReLU()\n",
       "  (linear4): Linear(in_features=8, out_features=1, bias=True)\n",
       ")"
      ]
     },
     "execution_count": 26,
     "metadata": {},
     "output_type": "execute_result"
    }
   ],
   "source": [
    "#now creating an object of Custom neural network class\n",
    "model = SimpleNeuralNetworkArchitecture(input_size=x_train_tensor.shape[1],output_size=1).to(device=device)\n",
    "model"
   ]
  },
  {
   "cell_type": "markdown",
   "id": "ad76123d",
   "metadata": {},
   "source": [
    "### to show the summary of model how many trainiable parameter need to be trained"
   ]
  },
  {
   "cell_type": "code",
   "execution_count": 27,
   "id": "35547793",
   "metadata": {},
   "outputs": [
    {
     "data": {
      "text/plain": [
       "=================================================================\n",
       "Layer (type:depth-idx)                   Param #\n",
       "=================================================================\n",
       "SimpleNeuralNetworkArchitecture          --\n",
       "├─Linear: 1-1                            512\n",
       "├─ReLU: 1-2                              --\n",
       "├─Linear: 1-3                            2,080\n",
       "├─ReLU: 1-4                              --\n",
       "├─Linear: 1-5                            264\n",
       "├─ReLU: 1-6                              --\n",
       "├─Linear: 1-7                            9\n",
       "=================================================================\n",
       "Total params: 2,865\n",
       "Trainable params: 2,865\n",
       "Non-trainable params: 0\n",
       "================================================================="
      ]
     },
     "execution_count": 27,
     "metadata": {},
     "output_type": "execute_result"
    }
   ],
   "source": [
    "#if i want to see how many trainable parameter need to be trained by this model\n",
    "from torchinfo import summary\n",
    "summary(model)"
   ]
  },
  {
   "cell_type": "markdown",
   "id": "136e3ad3",
   "metadata": {},
   "source": [
    "#### step:11) defining the loss function and type of optimizer will used at time of training"
   ]
  },
  {
   "cell_type": "code",
   "execution_count": 28,
   "id": "4f50907d",
   "metadata": {},
   "outputs": [],
   "source": [
    "#target are binary classifier so loss function binary cross entropy.\n",
    "loss_fxn = nn.BCELoss() #calculate loss value\n",
    "\n",
    "#optimizers i am using Adam they will updates the trainable parameter effectively in each layer.\n",
    "optimizer = torch.optim.Adam(params=model.parameters(),lr=0.0001)"
   ]
  },
  {
   "cell_type": "markdown",
   "id": "42775c26",
   "metadata": {},
   "source": [
    "### step:12) Now starting the models"
   ]
  },
  {
   "cell_type": "code",
   "execution_count": null,
   "id": "66a481d2",
   "metadata": {},
   "outputs": [
    {
     "name": "stdout",
     "output_type": "stream",
     "text": [
      "Epoch [1/50], Train Loss: 0.7458, Test Loss: 0.6991, \n",
      "Epoch [2/50], Train Loss: 0.6371, Test Loss: 0.6144, \n",
      "Epoch [3/50], Train Loss: 0.5683, Test Loss: 0.5618, \n",
      "Epoch [4/50], Train Loss: 0.5201, Test Loss: 0.5278, \n",
      "Epoch [5/50], Train Loss: 0.4851, Test Loss: 0.4981, \n",
      "Epoch [6/50], Train Loss: 0.4575, Test Loss: 0.4758, \n",
      "Epoch [7/50], Train Loss: 0.4355, Test Loss: 0.4601, \n",
      "Epoch [8/50], Train Loss: 0.4175, Test Loss: 0.4450, \n",
      "Epoch [9/50], Train Loss: 0.4036, Test Loss: 0.4381, \n",
      "Epoch [10/50], Train Loss: 0.3914, Test Loss: 0.4252, \n",
      "Epoch [11/50], Train Loss: 0.3802, Test Loss: 0.4159, \n",
      "Epoch [12/50], Train Loss: 0.3712, Test Loss: 0.4077, \n",
      "Epoch [13/50], Train Loss: 0.3624, Test Loss: 0.4032, \n",
      "Epoch [14/50], Train Loss: 0.3548, Test Loss: 0.4020, \n",
      "Epoch [15/50], Train Loss: 0.3484, Test Loss: 0.3895, \n",
      "Epoch [16/50], Train Loss: 0.3410, Test Loss: 0.3847, \n",
      "Epoch [17/50], Train Loss: 0.3345, Test Loss: 0.3791, \n",
      "Epoch [18/50], Train Loss: 0.3295, Test Loss: 0.3730, \n",
      "Epoch [19/50], Train Loss: 0.3244, Test Loss: 0.3794, \n",
      "Epoch [20/50], Train Loss: 0.3196, Test Loss: 0.3658, \n",
      "Epoch [21/50], Train Loss: 0.3146, Test Loss: 0.3620, \n",
      "Epoch [22/50], Train Loss: 0.3100, Test Loss: 0.3580, \n",
      "Epoch [23/50], Train Loss: 0.3060, Test Loss: 0.3574, \n",
      "Epoch [24/50], Train Loss: 0.3017, Test Loss: 0.3544, \n",
      "Epoch [25/50], Train Loss: 0.2983, Test Loss: 0.3486, \n",
      "Epoch [26/50], Train Loss: 0.2953, Test Loss: 0.3508, \n",
      "Epoch [27/50], Train Loss: 0.2918, Test Loss: 0.3398, \n",
      "Epoch [28/50], Train Loss: 0.2895, Test Loss: 0.3452, \n",
      "Epoch [29/50], Train Loss: 0.2858, Test Loss: 0.3429, \n",
      "Epoch [30/50], Train Loss: 0.2826, Test Loss: 0.3372, \n",
      "Epoch [31/50], Train Loss: 0.2808, Test Loss: 0.3306, \n",
      "Epoch [32/50], Train Loss: 0.2777, Test Loss: 0.3312, \n",
      "Epoch [33/50], Train Loss: 0.2760, Test Loss: 0.3275, \n",
      "Epoch [34/50], Train Loss: 0.2731, Test Loss: 0.3295, \n",
      "Epoch [35/50], Train Loss: 0.2709, Test Loss: 0.3256, \n",
      "Epoch [36/50], Train Loss: 0.2684, Test Loss: 0.3285, \n",
      "Epoch [37/50], Train Loss: 0.2662, Test Loss: 0.3237, \n",
      "Epoch [38/50], Train Loss: 0.2649, Test Loss: 0.3235, \n",
      "Epoch [39/50], Train Loss: 0.2622, Test Loss: 0.3190, \n",
      "Epoch [40/50], Train Loss: 0.2606, Test Loss: 0.3184, \n",
      "Epoch [41/50], Train Loss: 0.2588, Test Loss: 0.3177, \n",
      "Epoch [42/50], Train Loss: 0.2561, Test Loss: 0.3173, \n",
      "Epoch [43/50], Train Loss: 0.2554, Test Loss: 0.3192, \n",
      "Epoch [44/50], Train Loss: 0.2529, Test Loss: 0.3178, \n",
      "Epoch [45/50], Train Loss: 0.2517, Test Loss: 0.3126, \n",
      "Epoch [46/50], Train Loss: 0.2497, Test Loss: 0.3113, \n",
      "Epoch [47/50], Train Loss: 0.2480, Test Loss: 0.3120, \n",
      "Epoch [48/50], Train Loss: 0.2465, Test Loss: 0.3128, \n",
      "Epoch [49/50], Train Loss: 0.2451, Test Loss: 0.3097, \n",
      "Epoch [50/50], Train Loss: 0.2440, Test Loss: 0.3065, \n"
     ]
    }
   ],
   "source": [
    "epochs=50\n",
    "training_loss_lst = []\n",
    "testing_loss_lst = []\n",
    "for i in range(epochs):\n",
    "    #performing model training\n",
    "    model.train()\n",
    "    training_running_loss_count = 0\n",
    "    \n",
    "    #based on batchsize data record we are passing to neural network architecture.\n",
    "    for feature,label in training_dataloader:\n",
    "        feature = feature.to(device)\n",
    "        label   = label.to(device)\n",
    "        \n",
    "        #whenever we start training the model first algorithm work is forward propogation\n",
    "        pred_output = model.forward(feature)\n",
    "        #print(f\"actual output shape: {label.shape}\")\n",
    "        #print(f\"predicted output shape: {pred_output.shape}\")\n",
    "        \n",
    "        #calculating the loss value by using Loss fxns or evaluating the performance of model at time of training.\n",
    "        loss_value = loss_fxn(pred_output.squeeze(1),label)\n",
    "        \n",
    "        #now updating the training_running_loss_count variable\n",
    "        training_running_loss_count = training_running_loss_count+loss_value.item() \n",
    "        #this item method we used to get value from shape of tensor\n",
    "        \n",
    "        #before applying backpropogation to the loss value first we have to clear the gradient inside optimizers\n",
    "        optimizer.zero_grad()\n",
    "        \n",
    "        #reducing the loss value by using backpropogation algorithm and calcualting gradient of loss wrt to trainable parameter\n",
    "        loss_value.backward()\n",
    "        \n",
    "        #using optimizers updating the tainable parameters\n",
    "        optimizer.step()\n",
    "        \n",
    "    avg_training_loss = (training_running_loss_count)/(len(training_dataloader))\n",
    "    training_loss_lst.append(avg_training_loss)\n",
    "\n",
    "    \n",
    "    #performing model testing(on testing we dont apply any backpropogation,overfitting technique,early stopping)\n",
    "    model.eval()\n",
    "    testing_running_loss_count = 0\n",
    "    \n",
    "    with torch.no_grad(): #at time of testing or inferencing gradient tracking is off\n",
    "        #based on batchsize data record we are passing to neural network architecture.\n",
    "        for feature,label in testing_dataloader:\n",
    "            feature = feature.to(device)\n",
    "            label   = label.to(device)\n",
    "            \n",
    "            #whenever we start training the model first algorithm work is forward propogation\n",
    "            pred_output = model.forward(feature)\n",
    "            \n",
    "            #calculating the loss value by using Loss fxns or evaluating the performance of model at time of training.\n",
    "            loss_value = loss_fxn(pred_output.squeeze(1),label)\n",
    "            \n",
    "            #updating the count of loss in testing_running_loss_count\n",
    "            testing_running_loss_count = testing_running_loss_count+loss_value.item()\n",
    "            \n",
    "        avg_testing_loss = (testing_running_loss_count)/(len(testing_dataloader))\n",
    "        testing_loss_lst.append(avg_testing_loss)\n",
    "            \n",
    "    print(f\"Epoch [{i+1}/{epochs}], \"\n",
    "          f\"Train Loss: {avg_training_loss:.4f}, \"\n",
    "          f\"Test Loss: {avg_testing_loss:.4f}, \"\n",
    "          )\n",
    "\n",
    "\n",
    "        "
   ]
  },
  {
   "cell_type": "markdown",
   "id": "252f8e43",
   "metadata": {},
   "source": [
    "### to visualize the training and testing loss"
   ]
  },
  {
   "cell_type": "code",
   "execution_count": 30,
   "id": "71730e6b",
   "metadata": {},
   "outputs": [
    {
     "data": {
      "image/png": "[encoded data removed]",
      "text/plain": [
       "<Figure size 640x480 with 1 Axes>"
      ]
     },
     "metadata": {},
     "output_type": "display_data"
    }
   ],
   "source": [
    "import matplotlib.pyplot as plt\n",
    "plt.plot(training_loss_lst,label=\"Training_loss\")\n",
    "plt.plot(testing_loss_lst,label=\"Testing_loss\")\n",
    "plt.xlabel(\"epochs\")\n",
    "plt.ylabel(\"average losses per epochs\")\n",
    "plt.title('Training vs Test Loss')\n",
    "plt.legend()\n",
    "plt.show()"
   ]
  }
 ],
 "metadata": {
  "kernelspec": {
   "display_name": "hf-gpu",
   "language": "python",
   "name": "python3"
  },
  "language_info": {
   "codemirror_mode": {
    "name": "ipython",
    "version": 3
   },
   "file_extension": ".py",
   "mimetype": "text/x-python",
   "name": "python",
   "nbconvert_exporter": "python",
   "pygments_lexer": "ipython3",
   "version": "3.10.18"
  }
 },
 "nbformat": 4,
 "nbformat_minor": 5
}
