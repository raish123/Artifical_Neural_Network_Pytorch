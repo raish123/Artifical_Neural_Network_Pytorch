{
 "cells": [
  {
   "cell_type": "code",
   "execution_count": 1,
   "id": "65d27285",
   "metadata": {},
   "outputs": [],
   "source": [
    "import torch #main frame work we used to perform high dimension tensor calculation\n",
    "import torch.nn as nn #this class we used to define Custom Neural Network Architecture\n",
    "from torch.utils.data import Dataset,DataLoader #this Dataset class we used split the entire data into chunks based on Batch_sizes\n",
    "#where as DataLoader class we used to load data and perform action over it.\n",
    "\n",
    "from sklearn.model_selection import train_test_split #this class we used to split the data into train or test sets\n",
    "from sklearn.preprocessing import StandardScaler,MinMaxScaler \n",
    "#above this class used to do input scaling so that variance of all field would be same for models\n",
    "\n",
    "import pandas as pd\n",
    "from cloudpickle import pickle #this class we used to convert datastructure into bytes stream\n",
    "import seaborn as sb #to see the visualization.\n",
    "import optuna"
   ]
  },
  {
   "cell_type": "code",
   "execution_count": 2,
   "id": "51dd95b6",
   "metadata": {},
   "outputs": [
    {
     "data": {
      "text/plain": [
       "device(type='cuda')"
      ]
     },
     "execution_count": 2,
     "metadata": {},
     "output_type": "execute_result"
    }
   ],
   "source": [
    "#if i want to show gpu is avilable or not in system.\n",
    "device = torch.device(\"cuda\" if torch.cuda.is_available() else \"cpu\")\n",
    "device"
   ]
  },
  {
   "cell_type": "markdown",
   "id": "5fe3f295",
   "metadata": {},
   "source": [
    "### Now Loading Dataset and doing EDA over it"
   ]
  },
  {
   "cell_type": "code",
   "execution_count": 3,
   "id": "0344507e",
   "metadata": {},
   "outputs": [
    {
     "name": "stdout",
     "output_type": "stream",
     "text": [
      "<class 'pandas.core.frame.DataFrame'>\n",
      "RangeIndex: 99960 entries, 0 to 99959\n",
      "Data columns (total 21 columns):\n",
      " #   Column                    Non-Null Count  Dtype  \n",
      "---  ------                    --------------  -----  \n",
      " 0   Delay_from_due_date       99960 non-null  float64\n",
      " 1   Num_of_Delayed_Payment    99960 non-null  float64\n",
      " 2   Num_Credit_Inquiries      99960 non-null  float64\n",
      " 3   Credit_Utilization_Ratio  99960 non-null  float64\n",
      " 4   Credit_History_Age        99960 non-null  float64\n",
      " 5   Payment_of_Min_Amount     99960 non-null  object \n",
      " 6   Amount_invested_monthly   99960 non-null  float64\n",
      " 7   Monthly_Balance           99960 non-null  float64\n",
      " 8   Credit_Score              99960 non-null  object \n",
      " 9   Credit_Mix                99960 non-null  object \n",
      " 10  Payment_Behaviour         99960 non-null  object \n",
      " 11  Age                       99960 non-null  float64\n",
      " 12  Annual_Income             99960 non-null  float64\n",
      " 13  Num_Bank_Accounts         99960 non-null  float64\n",
      " 14  Num_Credit_Card           99960 non-null  float64\n",
      " 15  Interest_Rate             99960 non-null  float64\n",
      " 16  Num_of_Loan               99960 non-null  float64\n",
      " 17  Monthly_Inhand_Salary     99960 non-null  float64\n",
      " 18  Changed_Credit_Limit      99960 non-null  float64\n",
      " 19  Outstanding_Debt          99960 non-null  float64\n",
      " 20  Total_EMI_per_month       99960 non-null  float64\n",
      "dtypes: float64(17), object(4)\n",
      "memory usage: 39.0 MB\n"
     ]
    }
   ],
   "source": [
    "data = pd.read_csv(filepath_or_buffer=\"Score.csv\",encoding=\"utf-8\")\n",
    "data.info(memory_usage='deep')"
   ]
  },
  {
   "cell_type": "code",
   "execution_count": 4,
   "id": "65c13bac",
   "metadata": {},
   "outputs": [
    {
     "data": {
      "text/html": [
       "<div>\n",
       "<style scoped>\n",
       "    .dataframe tbody tr th:only-of-type {\n",
       "        vertical-align: middle;\n",
       "    }\n",
       "\n",
       "    .dataframe tbody tr th {\n",
       "        vertical-align: top;\n",
       "    }\n",
       "\n",
       "    .dataframe thead th {\n",
       "        text-align: right;\n",
       "    }\n",
       "</style>\n",
       "<table border=\"1\" class=\"dataframe\">\n",
       "  <thead>\n",
       "    <tr style=\"text-align: right;\">\n",
       "      <th></th>\n",
       "      <th>Delay_from_due_date</th>\n",
       "      <th>Num_of_Delayed_Payment</th>\n",
       "      <th>Num_Credit_Inquiries</th>\n",
       "      <th>Credit_Utilization_Ratio</th>\n",
       "      <th>Credit_History_Age</th>\n",
       "      <th>Payment_of_Min_Amount</th>\n",
       "      <th>Amount_invested_monthly</th>\n",
       "      <th>Monthly_Balance</th>\n",
       "      <th>Credit_Score</th>\n",
       "      <th>Credit_Mix</th>\n",
       "      <th>...</th>\n",
       "      <th>Age</th>\n",
       "      <th>Annual_Income</th>\n",
       "      <th>Num_Bank_Accounts</th>\n",
       "      <th>Num_Credit_Card</th>\n",
       "      <th>Interest_Rate</th>\n",
       "      <th>Num_of_Loan</th>\n",
       "      <th>Monthly_Inhand_Salary</th>\n",
       "      <th>Changed_Credit_Limit</th>\n",
       "      <th>Outstanding_Debt</th>\n",
       "      <th>Total_EMI_per_month</th>\n",
       "    </tr>\n",
       "  </thead>\n",
       "  <tbody>\n",
       "    <tr>\n",
       "      <th>49593</th>\n",
       "      <td>27.0</td>\n",
       "      <td>9.0</td>\n",
       "      <td>2.0</td>\n",
       "      <td>31.168125</td>\n",
       "      <td>328.0</td>\n",
       "      <td>NM</td>\n",
       "      <td>62.718594</td>\n",
       "      <td>338.778733</td>\n",
       "      <td>Standard</td>\n",
       "      <td>Standard</td>\n",
       "      <td>...</td>\n",
       "      <td>32.0</td>\n",
       "      <td>20908.12</td>\n",
       "      <td>6.0</td>\n",
       "      <td>4.0</td>\n",
       "      <td>14.0</td>\n",
       "      <td>4.0</td>\n",
       "      <td>1566.907682</td>\n",
       "      <td>4.17</td>\n",
       "      <td>1461.03</td>\n",
       "      <td>139.172658</td>\n",
       "    </tr>\n",
       "    <tr>\n",
       "      <th>746</th>\n",
       "      <td>12.0</td>\n",
       "      <td>17.0</td>\n",
       "      <td>5.0</td>\n",
       "      <td>27.580790</td>\n",
       "      <td>345.0</td>\n",
       "      <td>Yes</td>\n",
       "      <td>80.324761</td>\n",
       "      <td>379.615739</td>\n",
       "      <td>Standard</td>\n",
       "      <td>Standard</td>\n",
       "      <td>...</td>\n",
       "      <td>36.0</td>\n",
       "      <td>23404.86</td>\n",
       "      <td>6.0</td>\n",
       "      <td>5.0</td>\n",
       "      <td>7.0</td>\n",
       "      <td>0.0</td>\n",
       "      <td>1899.405000</td>\n",
       "      <td>15.82</td>\n",
       "      <td>35.54</td>\n",
       "      <td>0.000000</td>\n",
       "    </tr>\n",
       "    <tr>\n",
       "      <th>83523</th>\n",
       "      <td>28.0</td>\n",
       "      <td>10.0</td>\n",
       "      <td>2.0</td>\n",
       "      <td>27.923717</td>\n",
       "      <td>316.0</td>\n",
       "      <td>No</td>\n",
       "      <td>36.535968</td>\n",
       "      <td>413.934812</td>\n",
       "      <td>Standard</td>\n",
       "      <td>Standard</td>\n",
       "      <td>...</td>\n",
       "      <td>44.0</td>\n",
       "      <td>26683.75</td>\n",
       "      <td>7.0</td>\n",
       "      <td>5.0</td>\n",
       "      <td>16.0</td>\n",
       "      <td>1.0</td>\n",
       "      <td>2224.645833</td>\n",
       "      <td>10.85</td>\n",
       "      <td>1186.43</td>\n",
       "      <td>21.993804</td>\n",
       "    </tr>\n",
       "    <tr>\n",
       "      <th>33254</th>\n",
       "      <td>20.0</td>\n",
       "      <td>19.0</td>\n",
       "      <td>4.0</td>\n",
       "      <td>30.371896</td>\n",
       "      <td>339.0</td>\n",
       "      <td>Yes</td>\n",
       "      <td>458.552411</td>\n",
       "      <td>690.678474</td>\n",
       "      <td>Standard</td>\n",
       "      <td>Standard</td>\n",
       "      <td>...</td>\n",
       "      <td>38.0</td>\n",
       "      <td>135994.36</td>\n",
       "      <td>8.0</td>\n",
       "      <td>5.0</td>\n",
       "      <td>16.0</td>\n",
       "      <td>2.0</td>\n",
       "      <td>11191.863333</td>\n",
       "      <td>5.98</td>\n",
       "      <td>1280.06</td>\n",
       "      <td>219.955448</td>\n",
       "    </tr>\n",
       "    <tr>\n",
       "      <th>21904</th>\n",
       "      <td>15.0</td>\n",
       "      <td>6.0</td>\n",
       "      <td>2.0</td>\n",
       "      <td>39.486339</td>\n",
       "      <td>368.0</td>\n",
       "      <td>No</td>\n",
       "      <td>566.161100</td>\n",
       "      <td>393.627460</td>\n",
       "      <td>Poor</td>\n",
       "      <td>Good</td>\n",
       "      <td>...</td>\n",
       "      <td>47.0</td>\n",
       "      <td>98803.47</td>\n",
       "      <td>0.0</td>\n",
       "      <td>3.0</td>\n",
       "      <td>3.0</td>\n",
       "      <td>2.0</td>\n",
       "      <td>8099.622500</td>\n",
       "      <td>5.83</td>\n",
       "      <td>766.77</td>\n",
       "      <td>120.173690</td>\n",
       "    </tr>\n",
       "  </tbody>\n",
       "</table>\n",
       "<p>5 rows × 21 columns</p>\n",
       "</div>"
      ],
      "text/plain": [
       "       Delay_from_due_date  Num_of_Delayed_Payment  Num_Credit_Inquiries  \\\n",
       "49593                 27.0                     9.0                   2.0   \n",
       "746                   12.0                    17.0                   5.0   \n",
       "83523                 28.0                    10.0                   2.0   \n",
       "33254                 20.0                    19.0                   4.0   \n",
       "21904                 15.0                     6.0                   2.0   \n",
       "\n",
       "       Credit_Utilization_Ratio  Credit_History_Age Payment_of_Min_Amount  \\\n",
       "49593                 31.168125               328.0                    NM   \n",
       "746                   27.580790               345.0                   Yes   \n",
       "83523                 27.923717               316.0                    No   \n",
       "33254                 30.371896               339.0                   Yes   \n",
       "21904                 39.486339               368.0                    No   \n",
       "\n",
       "       Amount_invested_monthly  Monthly_Balance Credit_Score Credit_Mix  ...  \\\n",
       "49593                62.718594       338.778733     Standard   Standard  ...   \n",
       "746                  80.324761       379.615739     Standard   Standard  ...   \n",
       "83523                36.535968       413.934812     Standard   Standard  ...   \n",
       "33254               458.552411       690.678474     Standard   Standard  ...   \n",
       "21904               566.161100       393.627460         Poor       Good  ...   \n",
       "\n",
       "        Age  Annual_Income  Num_Bank_Accounts  Num_Credit_Card  Interest_Rate  \\\n",
       "49593  32.0       20908.12                6.0              4.0           14.0   \n",
       "746    36.0       23404.86                6.0              5.0            7.0   \n",
       "83523  44.0       26683.75                7.0              5.0           16.0   \n",
       "33254  38.0      135994.36                8.0              5.0           16.0   \n",
       "21904  47.0       98803.47                0.0              3.0            3.0   \n",
       "\n",
       "       Num_of_Loan  Monthly_Inhand_Salary  Changed_Credit_Limit  \\\n",
       "49593          4.0            1566.907682                  4.17   \n",
       "746            0.0            1899.405000                 15.82   \n",
       "83523          1.0            2224.645833                 10.85   \n",
       "33254          2.0           11191.863333                  5.98   \n",
       "21904          2.0            8099.622500                  5.83   \n",
       "\n",
       "       Outstanding_Debt  Total_EMI_per_month  \n",
       "49593           1461.03           139.172658  \n",
       "746               35.54             0.000000  \n",
       "83523           1186.43            21.993804  \n",
       "33254           1280.06           219.955448  \n",
       "21904            766.77           120.173690  \n",
       "\n",
       "[5 rows x 21 columns]"
      ]
     },
     "execution_count": 4,
     "metadata": {},
     "output_type": "execute_result"
    }
   ],
   "source": [
    "data.sample(5)"
   ]
  },
  {
   "cell_type": "code",
   "execution_count": 5,
   "id": "1436ccba",
   "metadata": {},
   "outputs": [],
   "source": [
    "data.drop(labels=['Credit_Mix','Payment_Behaviour'],axis=1,inplace=True)"
   ]
  },
  {
   "cell_type": "markdown",
   "id": "5689c879",
   "metadata": {},
   "source": [
    "### step:1 checking for Null value"
   ]
  },
  {
   "cell_type": "code",
   "execution_count": 6,
   "id": "e07b9ef3",
   "metadata": {},
   "outputs": [
    {
     "data": {
      "text/plain": [
       "Delay_from_due_date         0.0\n",
       "Num_of_Delayed_Payment      0.0\n",
       "Num_Credit_Inquiries        0.0\n",
       "Credit_Utilization_Ratio    0.0\n",
       "Credit_History_Age          0.0\n",
       "Payment_of_Min_Amount       0.0\n",
       "Amount_invested_monthly     0.0\n",
       "Monthly_Balance             0.0\n",
       "Credit_Score                0.0\n",
       "Age                         0.0\n",
       "Annual_Income               0.0\n",
       "Num_Bank_Accounts           0.0\n",
       "Num_Credit_Card             0.0\n",
       "Interest_Rate               0.0\n",
       "Num_of_Loan                 0.0\n",
       "Monthly_Inhand_Salary       0.0\n",
       "Changed_Credit_Limit        0.0\n",
       "Outstanding_Debt            0.0\n",
       "Total_EMI_per_month         0.0\n",
       "dtype: float64"
      ]
     },
     "execution_count": 6,
     "metadata": {},
     "output_type": "execute_result"
    }
   ],
   "source": [
    "data.isnull().sum()/data.shape[0] * 100"
   ]
  },
  {
   "cell_type": "code",
   "execution_count": 7,
   "id": "692f745c",
   "metadata": {},
   "outputs": [
    {
     "data": {
      "image/png": "[encoded data removed]",
      "text/plain": [
       "<Figure size 1000x600 with 1 Axes>"
      ]
     },
     "metadata": {},
     "output_type": "display_data"
    }
   ],
   "source": [
    "import matplotlib.pyplot as plt\n",
    "plt.figure(figsize=(10,6))   # optional — makes the plot bigger\n",
    "sb.heatmap(data.isnull(), cbar=False, cmap='viridis')  # use a color map for clarity\n",
    "plt.title(\"Missing Values Heatmap\")\n",
    "plt.show()\n"
   ]
  },
  {
   "cell_type": "markdown",
   "id": "9f926e40",
   "metadata": {},
   "source": [
    "### step:2) checking for duplicate records"
   ]
  },
  {
   "cell_type": "code",
   "execution_count": 8,
   "id": "47ee510e",
   "metadata": {},
   "outputs": [
    {
     "data": {
      "text/plain": [
       "0"
      ]
     },
     "execution_count": 8,
     "metadata": {},
     "output_type": "execute_result"
    }
   ],
   "source": [
    "data.duplicated(subset=data.columns).sum()"
   ]
  },
  {
   "cell_type": "markdown",
   "id": "dd15414f",
   "metadata": {},
   "source": [
    "### step:3) selecting object or numeric field"
   ]
  },
  {
   "cell_type": "code",
   "execution_count": 9,
   "id": "bbe39d96",
   "metadata": {},
   "outputs": [
    {
     "data": {
      "text/plain": [
       "['Payment_of_Min_Amount', 'Credit_Score']"
      ]
     },
     "execution_count": 9,
     "metadata": {},
     "output_type": "execute_result"
    }
   ],
   "source": [
    "cat_col = data.select_dtypes(include='object',exclude='number').columns.to_list()\n",
    "cat_col"
   ]
  },
  {
   "cell_type": "code",
   "execution_count": 10,
   "id": "fb0453cc",
   "metadata": {},
   "outputs": [
    {
     "data": {
      "text/plain": [
       "Payment_of_Min_Amount\n",
       "Yes    52326\n",
       "No     35628\n",
       "NM     12006\n",
       "Name: count, dtype: int64"
      ]
     },
     "execution_count": 10,
     "metadata": {},
     "output_type": "execute_result"
    }
   ],
   "source": [
    "data[cat_col]['Payment_of_Min_Amount'].value_counts()"
   ]
  },
  {
   "cell_type": "markdown",
   "id": "bfb7b5be",
   "metadata": {},
   "source": [
    "### step:4 Converting the object column to numeric"
   ]
  },
  {
   "cell_type": "code",
   "execution_count": 11,
   "id": "b1674b2a",
   "metadata": {},
   "outputs": [
    {
     "name": "stdout",
     "output_type": "stream",
     "text": [
      "<class 'pandas.core.frame.DataFrame'>\n",
      "RangeIndex: 99960 entries, 0 to 99959\n",
      "Data columns (total 19 columns):\n",
      " #   Column                    Non-Null Count  Dtype  \n",
      "---  ------                    --------------  -----  \n",
      " 0   Delay_from_due_date       99960 non-null  float64\n",
      " 1   Num_of_Delayed_Payment    99960 non-null  float64\n",
      " 2   Num_Credit_Inquiries      99960 non-null  float64\n",
      " 3   Credit_Utilization_Ratio  99960 non-null  float64\n",
      " 4   Credit_History_Age        99960 non-null  float64\n",
      " 5   Payment_of_Min_Amount     99960 non-null  int32  \n",
      " 6   Amount_invested_monthly   99960 non-null  float64\n",
      " 7   Monthly_Balance           99960 non-null  float64\n",
      " 8   Credit_Score              99960 non-null  int32  \n",
      " 9   Age                       99960 non-null  float64\n",
      " 10  Annual_Income             99960 non-null  float64\n",
      " 11  Num_Bank_Accounts         99960 non-null  float64\n",
      " 12  Num_Credit_Card           99960 non-null  float64\n",
      " 13  Interest_Rate             99960 non-null  float64\n",
      " 14  Num_of_Loan               99960 non-null  float64\n",
      " 15  Monthly_Inhand_Salary     99960 non-null  float64\n",
      " 16  Changed_Credit_Limit      99960 non-null  float64\n",
      " 17  Outstanding_Debt          99960 non-null  float64\n",
      " 18  Total_EMI_per_month       99960 non-null  float64\n",
      "dtypes: float64(17), int32(2)\n",
      "memory usage: 13.7 MB\n"
     ]
    }
   ],
   "source": [
    "from sklearn.preprocessing import LabelEncoder\n",
    "le = LabelEncoder()\n",
    "for col in cat_col:\n",
    "    data[col] = le.fit_transform(data[col])\n",
    "data.info(memory_usage='deep')"
   ]
  },
  {
   "cell_type": "code",
   "execution_count": 12,
   "id": "4e6762cd",
   "metadata": {},
   "outputs": [
    {
     "data": {
      "text/plain": [
       "<Axes: xlabel='Credit_Score'>"
      ]
     },
     "execution_count": 12,
     "metadata": {},
     "output_type": "execute_result"
    },
    {
     "data": {
      "image/png": "[encoded data removed]",
      "text/plain": [
       "<Figure size 640x480 with 1 Axes>"
      ]
     },
     "metadata": {},
     "output_type": "display_data"
    }
   ],
   "source": [
    "data['Credit_Score'].value_counts().plot(kind='bar')"
   ]
  },
  {
   "cell_type": "code",
   "execution_count": 13,
   "id": "b15797a9",
   "metadata": {},
   "outputs": [
    {
     "name": "stdout",
     "output_type": "stream",
     "text": [
      "Good → 0\n",
      "Poor → 1\n",
      "Standard → 2\n"
     ]
    }
   ],
   "source": [
    "#to show which integer Encoding represent which Value.\n",
    "for i, cls in enumerate(le.classes_):\n",
    "    print(f\"{cls} → {i}\")"
   ]
  },
  {
   "cell_type": "markdown",
   "id": "d6626667",
   "metadata": {},
   "source": [
    "### step:5) splitting the dataset into train test split"
   ]
  },
  {
   "cell_type": "code",
   "execution_count": 14,
   "id": "4d030982",
   "metadata": {},
   "outputs": [],
   "source": [
    "#selecting input and output variable.\n",
    "x = data.drop(labels='Credit_Score',axis=1)\n",
    "y = data['Credit_Score']"
   ]
  },
  {
   "cell_type": "code",
   "execution_count": 15,
   "id": "dbd5a57e",
   "metadata": {},
   "outputs": [],
   "source": [
    "from sklearn.model_selection import train_test_split\n",
    "x_train,x_test,y_train,y_test = train_test_split(x,y,test_size=0.2,stratify=y,random_state=42)"
   ]
  },
  {
   "cell_type": "code",
   "execution_count": 16,
   "id": "3fad03f8",
   "metadata": {},
   "outputs": [
    {
     "name": "stdout",
     "output_type": "stream",
     "text": [
      "X_train shape: (79968, 18)\n",
      "X_test shape : (19992, 18)\n",
      "y_train shape: (79968,)\n",
      "y_test shape : (19992,)\n",
      "\n",
      "X_train data type (precision): Delay_from_due_date         float64\n",
      "Num_of_Delayed_Payment      float64\n",
      "Num_Credit_Inquiries        float64\n",
      "Credit_Utilization_Ratio    float64\n",
      "Credit_History_Age          float64\n",
      "Payment_of_Min_Amount         int32\n",
      "Amount_invested_monthly     float64\n",
      "Monthly_Balance             float64\n",
      "Age                         float64\n",
      "Annual_Income               float64\n",
      "Num_Bank_Accounts           float64\n",
      "Num_Credit_Card             float64\n",
      "Interest_Rate               float64\n",
      "Num_of_Loan                 float64\n",
      "Monthly_Inhand_Salary       float64\n",
      "Changed_Credit_Limit        float64\n",
      "Outstanding_Debt            float64\n",
      "Total_EMI_per_month         float64\n",
      "dtype: object\n",
      "y_train data type (precision): int32\n",
      "\n",
      "Number of dimensions:\n",
      "X_train ndim: 2\n",
      "y_train ndim: 1\n"
     ]
    }
   ],
   "source": [
    "print(\"X_train shape:\", x_train.shape)\n",
    "print(\"X_test shape :\", x_test.shape)\n",
    "print(\"y_train shape:\", y_train.shape)\n",
    "print(\"y_test shape :\", y_test.shape)\n",
    "\n",
    "print(\"\\nX_train data type (precision):\", x_train.dtypes)\n",
    "print(\"y_train data type (precision):\", y_train.dtypes)\n",
    "\n",
    "print(\"\\nNumber of dimensions:\")\n",
    "print(\"X_train ndim:\", x_train.ndim)\n",
    "print(\"y_train ndim:\", y_train.ndim)"
   ]
  },
  {
   "cell_type": "markdown",
   "id": "1e6001f7",
   "metadata": {},
   "source": [
    "### step:6) Now applying Inputs scaling to data"
   ]
  },
  {
   "cell_type": "code",
   "execution_count": 17,
   "id": "45219e43",
   "metadata": {},
   "outputs": [],
   "source": [
    "from sklearn.preprocessing import StandardScaler\n",
    "ss = StandardScaler()\n",
    "x_train_ss = ss.fit_transform(x_train)\n",
    "x_test_ss  = ss.transform(x_test)"
   ]
  },
  {
   "cell_type": "code",
   "execution_count": 18,
   "id": "70160206",
   "metadata": {},
   "outputs": [
    {
     "name": "stdout",
     "output_type": "stream",
     "text": [
      "\n",
      "X_train data type (precision): float64\n",
      "y_train data type (precision): int32\n",
      "\n",
      "Number of dimensions:\n",
      "X_train ndim: 2\n",
      "y_train ndim: 1\n"
     ]
    }
   ],
   "source": [
    "print(\"\\nX_train data type (precision):\", x_train_ss.dtype)\n",
    "print(\"y_train data type (precision):\", y_train.dtypes)\n",
    "\n",
    "print(\"\\nNumber of dimensions:\")\n",
    "print(\"X_train ndim:\", x_train_ss.ndim)\n",
    "print(\"y_train ndim:\", y_train.ndim)"
   ]
  },
  {
   "cell_type": "markdown",
   "id": "9d1ce439",
   "metadata": {},
   "source": [
    "```\n",
    "| Task Type                                | Input dtype     | Target dtype    | Loss Function          |\n",
    "| ---------------------------------------- | --------------- | --------------- | ---------------------- |\n",
    "| **Binary Classification (Sigmoid)**      | `torch.float32` | `torch.float32` | `nn.BCEWithLogitsLoss` |\n",
    "| **Multi-class Classification (Softmax)** | `torch.float32` | `torch.long`    | `nn.CrossEntropyLoss`  |\n",
    "\n",
    "\n",
    "```"
   ]
  },
  {
   "cell_type": "markdown",
   "id": "29e71411",
   "metadata": {},
   "source": [
    "### step:7) changing target variable dataframe object to numpy"
   ]
  },
  {
   "cell_type": "code",
   "execution_count": 19,
   "id": "b43e15d4",
   "metadata": {},
   "outputs": [],
   "source": [
    "import numpy as np\n",
    "y_train_np = np.array(y_train,dtype=np.int64)\n",
    "y_test_np  = np.array(y_test,dtype=np.int64)"
   ]
  },
  {
   "cell_type": "markdown",
   "id": "fa208260",
   "metadata": {},
   "source": [
    "### step:8) converting n umpy array object to tensor object"
   ]
  },
  {
   "cell_type": "code",
   "execution_count": 20,
   "id": "2f8b61e2",
   "metadata": {},
   "outputs": [],
   "source": [
    "X_train_tensor = torch.tensor(x_train_ss, dtype=torch.float32)\n",
    "X_test_tensor  = torch.tensor(x_test_ss, dtype=torch.float32)\n",
    "\n",
    "# Convert target to long tensor (for classification)\n",
    "y_train_tensor = torch.tensor(y_train_np, dtype=torch.long)\n",
    "y_test_tensor  = torch.tensor(y_test_np, dtype=torch.long)"
   ]
  },
  {
   "cell_type": "code",
   "execution_count": 21,
   "id": "55fb35ce",
   "metadata": {},
   "outputs": [
    {
     "name": "stdout",
     "output_type": "stream",
     "text": [
      "🔹 X_train_tensor Info:\n",
      "Type: <class 'torch.Tensor'>\n",
      "Shape: torch.Size([79968, 18])\n",
      "Dtype: torch.float32\n",
      "Dimensions: 2\n",
      "\n",
      "🔹 y_train_tensor Info:\n",
      "Type: <class 'torch.Tensor'>\n",
      "Shape: torch.Size([79968])\n",
      "Dtype: torch.int64\n",
      "Dimensions: 1\n"
     ]
    }
   ],
   "source": [
    "# Check details\n",
    "print(\"🔹 X_train_tensor Info:\")\n",
    "print(\"Type:\", type(X_train_tensor))\n",
    "print(\"Shape:\", X_train_tensor.shape)\n",
    "print(\"Dtype:\", X_train_tensor.dtype)\n",
    "print(\"Dimensions:\", X_train_tensor.ndim)\n",
    "\n",
    "print(\"\\n🔹 y_train_tensor Info:\")\n",
    "print(\"Type:\", type(y_train_tensor))\n",
    "print(\"Shape:\", y_train_tensor.shape)\n",
    "print(\"Dtype:\", y_train_tensor.dtype)\n",
    "print(\"Dimensions:\", y_train_tensor.ndim)"
   ]
  },
  {
   "cell_type": "markdown",
   "id": "2f1134ab",
   "metadata": {},
   "source": [
    "### step:9) creating custom dataset class "
   ]
  },
  {
   "cell_type": "code",
   "execution_count": 22,
   "id": "8a093f94",
   "metadata": {},
   "outputs": [],
   "source": [
    "class CustomDataset(Dataset):\n",
    "    #using constructor method to define the instance variable that can load the data\n",
    "    def __init__(self,input,output):\n",
    "        self.input = input\n",
    "        self.output = output\n",
    "        \n",
    "    #using another magical method that show the shape of data\n",
    "    def __len__(self):\n",
    "        return len(self.input)\n",
    "    \n",
    "    #using another magical method that convert or load the data into batches.\n",
    "    def __getitem__(self, index):\n",
    "        return self.input[index],self.output[index]"
   ]
  },
  {
   "cell_type": "code",
   "execution_count": 23,
   "id": "df835eeb",
   "metadata": {},
   "outputs": [],
   "source": [
    "# creating an object of custom dataset class.\n",
    "train_dataset = CustomDataset(input=X_train_tensor,output=y_train_tensor)\n",
    "test_dataset  = CustomDataset(input=X_test_tensor,output=y_test_tensor)"
   ]
  },
  {
   "cell_type": "code",
   "execution_count": 24,
   "id": "3d8e94d5",
   "metadata": {},
   "outputs": [
    {
     "data": {
      "text/plain": [
       "(79968, 19992)"
      ]
     },
     "execution_count": 24,
     "metadata": {},
     "output_type": "execute_result"
    }
   ],
   "source": [
    "len(train_dataset),len(test_dataset)"
   ]
  },
  {
   "cell_type": "markdown",
   "id": "54c7a20f",
   "metadata": {},
   "source": [
    "### step:10) using Dataloader class that load the data into batch_size"
   ]
  },
  {
   "cell_type": "code",
   "execution_count": 25,
   "id": "b5581686",
   "metadata": {},
   "outputs": [],
   "source": [
    "train_dataloader = DataLoader(dataset=train_dataset,batch_size=8,shuffle=True,pin_memory=True)\n",
    "test_dataloader  = DataLoader(dataset=test_dataset,batch_size=8,shuffle=True,pin_memory=True)"
   ]
  },
  {
   "cell_type": "code",
   "execution_count": 26,
   "id": "99e58494",
   "metadata": {},
   "outputs": [],
   "source": [
    "import torch.nn.init as init"
   ]
  },
  {
   "cell_type": "code",
   "execution_count": 27,
   "id": "fdbc0974",
   "metadata": {},
   "outputs": [
    {
     "data": {
      "text/plain": [
       "torch.Size([79968, 18])"
      ]
     },
     "execution_count": 27,
     "metadata": {},
     "output_type": "execute_result"
    }
   ],
   "source": [
    "X_train_tensor.shape"
   ]
  },
  {
   "cell_type": "markdown",
   "id": "1e8a4e7c",
   "metadata": {},
   "source": [
    "### step:11) defining custom neural network architecture class"
   ]
  },
  {
   "cell_type": "code",
   "execution_count": 28,
   "id": "59d5ad15",
   "metadata": {},
   "outputs": [],
   "source": [
    "class CustomNeuralNetworkArchitecture(nn.Module):\n",
    "    #using constructor method defining neural architecture instance init.\n",
    "    def __init__(self,input_feature,output_feature):\n",
    "        \n",
    "        #using super method to inherit the instance property from parent class\n",
    "        super().__init__()\n",
    "        \n",
    "        #defining first hidden layer \n",
    "        #as we know that whatever nodes that we define in hidden & output that node will perform 2 operation.\n",
    "        self.fc1 = nn.Linear(in_features=input_feature,out_features=128)\n",
    "        #after performing linear mathematical operation now applying batch normalization.\n",
    "        self.batchnorm1 = nn.BatchNorm1d(num_features=128,)\n",
    "        \n",
    "        #2nd operation will non linear operation decision maker known as Activation function\n",
    "        self.relu1 = nn.ReLU()\n",
    "        \n",
    "        #to prevent the model from overfitting we used dropout layer\n",
    "        self.dropout1 = nn.Dropout(p=0.3)\n",
    "        \n",
    "        \n",
    "        #defining second hidden layer \n",
    "        #as we know that whatever nodes that we define in hidden & output that node will perform 2 operation.\n",
    "        self.fc2 = nn.Linear(in_features=128,out_features=64)\n",
    "        #after performing linear mathematical operation now applying batch normalization.\n",
    "        self.batchnorm2 = nn.BatchNorm1d(num_features=64,)\n",
    "        \n",
    "        #2nd operation will non linear operation decision maker known as Activation function\n",
    "        self.relu2 = nn.ReLU()\n",
    "        \n",
    "        #to prevent the model from overfitting we used dropout layer\n",
    "        self.dropout2 = nn.Dropout(p=0.3)\n",
    "        \n",
    "        #defining Output layer \n",
    "        #as we know that in Output layer we dont apply any overfitting technique or batch normalization technique\n",
    "        self.fc3 = nn.Linear(in_features=64,out_features=output_feature)\n",
    "        \n",
    "\n",
    "        #calling the init_weights_bias method\n",
    "        self._init_weights_bias()\n",
    "    \n",
    "    #creating another method to initialize the weight and Bias(trainable parameter) by xavier/glorat technique\n",
    "    def _init_weights_bias(self):\n",
    "        #initalizing trainable parameter for first hidden layer of architecture ReLU → He Normal.\n",
    "        init.kaiming_normal_(self.fc1.weight,nonlinearity='relu')\n",
    "        init.zeros_(self.fc1.bias)\n",
    "        \n",
    "        \n",
    "        #initalizing trainable parameter for second hidden layer of architecture ReLU → He Normal.\n",
    "        init.kaiming_normal_(self.fc2.weight,nonlinearity='relu')\n",
    "        init.zeros_(self.fc2.bias)\n",
    "        \n",
    "        #initalizing trainable parameter for Output layer of architecture Sigmoid → Xavier Uniform.\n",
    "        init.xavier_uniform_(self.fc3.weight)\n",
    "        init.zeros_(self.fc3.bias)\n",
    "        \n",
    "        \n",
    "    #whenever we pass batch_size record to neural network architecture first algorithm will work is forward propogation algorithm\n",
    "    def forward(self,input_batch_data):\n",
    "        #first hidden layer\n",
    "        x = self.fc1(input_batch_data)    #passing the batch input data to neural network \n",
    "        x = self.batchnorm1(x) #after getting linear out we do batch normalization so that variance will be comparable\n",
    "        x = self.relu1(x)      #applying nonlinearity by Activation function\n",
    "        x = self.dropout1(x)   #randomly selected node making deactivate at time of training\n",
    "        \n",
    "        #second hidden layer\n",
    "        x = self.fc2(x)        #passing the batch input data to neural network \n",
    "        x = self.batchnorm2(x) #after getting linear out we do batch normalization so that variance will be comparable\n",
    "        x = self.relu2(x)      #applying nonlinearity by Activation function\n",
    "        x = self.dropout2(x)   #randomly selected node making deactivate at time of training\n",
    "        \n",
    "        \n",
    "        #output layer\n",
    "        x = self.fc3(x)        # softmax not applied here (CrossEntropyLoss will handle it)\n",
    "        return x"
   ]
  },
  {
   "cell_type": "code",
   "execution_count": 29,
   "id": "b57ae2c8",
   "metadata": {},
   "outputs": [
    {
     "data": {
      "text/plain": [
       "CustomNeuralNetworkArchitecture(\n",
       "  (fc1): Linear(in_features=18, out_features=128, bias=True)\n",
       "  (batchnorm1): BatchNorm1d(128, eps=1e-05, momentum=0.1, affine=True, track_running_stats=True)\n",
       "  (relu1): ReLU()\n",
       "  (dropout1): Dropout(p=0.3, inplace=False)\n",
       "  (fc2): Linear(in_features=128, out_features=64, bias=True)\n",
       "  (batchnorm2): BatchNorm1d(64, eps=1e-05, momentum=0.1, affine=True, track_running_stats=True)\n",
       "  (relu2): ReLU()\n",
       "  (dropout2): Dropout(p=0.3, inplace=False)\n",
       "  (fc3): Linear(in_features=64, out_features=3, bias=True)\n",
       ")"
      ]
     },
     "execution_count": 29,
     "metadata": {},
     "output_type": "execute_result"
    }
   ],
   "source": [
    "#creating an object of CustomNeuralNetworkArchitecture class\n",
    "input_feature = X_train_tensor.shape[1]\n",
    "output = len(torch.unique(y_train_tensor))\n",
    "model = CustomNeuralNetworkArchitecture(input_feature=input_feature,output_feature=output)\n",
    "model"
   ]
  },
  {
   "cell_type": "markdown",
   "id": "9e266d0b",
   "metadata": {},
   "source": [
    "### if i want to show how many nos of trainable parameter need to be trained by model"
   ]
  },
  {
   "cell_type": "code",
   "execution_count": 30,
   "id": "bfe99a74",
   "metadata": {},
   "outputs": [
    {
     "data": {
      "text/plain": [
       "=================================================================\n",
       "Layer (type:depth-idx)                   Param #\n",
       "=================================================================\n",
       "CustomNeuralNetworkArchitecture          --\n",
       "├─Linear: 1-1                            2,432\n",
       "├─BatchNorm1d: 1-2                       256\n",
       "├─ReLU: 1-3                              --\n",
       "├─Dropout: 1-4                           --\n",
       "├─Linear: 1-5                            8,256\n",
       "├─BatchNorm1d: 1-6                       128\n",
       "├─ReLU: 1-7                              --\n",
       "├─Dropout: 1-8                           --\n",
       "├─Linear: 1-9                            195\n",
       "=================================================================\n",
       "Total params: 11,267\n",
       "Trainable params: 11,267\n",
       "Non-trainable params: 0\n",
       "================================================================="
      ]
     },
     "execution_count": 30,
     "metadata": {},
     "output_type": "execute_result"
    }
   ],
   "source": [
    "from  torchinfo import summary\n",
    "summary(model)"
   ]
  },
  {
   "cell_type": "markdown",
   "id": "8bba6a5b",
   "metadata": {},
   "source": [
    "### step:13) doing hyperparameter tuning finding out the best or relevant parameter to improve the performance of model"
   ]
  },
  {
   "cell_type": "code",
   "execution_count": 31,
   "id": "1ac8334d",
   "metadata": {},
   "outputs": [],
   "source": [
    "import optuna"
   ]
  },
  {
   "cell_type": "markdown",
   "id": "91ee1c6b",
   "metadata": {},
   "source": [
    "#### defining objective function passing first input as trials"
   ]
  },
  {
   "cell_type": "code",
   "execution_count": 32,
   "id": "3918e6df",
   "metadata": {},
   "outputs": [],
   "source": [
    "class CustomNeuralNetworkArchitectureForHyperparameter(nn.Module):\n",
    "    #using constructor method defining neural architecture instance init.\n",
    "    def __init__(self,input_feature,output_feature,num_hidden_layer,neurons_per_hidden_layer,dropout_rate):\n",
    "        \n",
    "        #using super method to inherit the instance property from parent class\n",
    "        super().__init__()\n",
    "        \n",
    "        #defining layer list object\n",
    "        layers = []\n",
    "        \n",
    "        for i in range(num_hidden_layer):\n",
    "            layers.append(nn.Linear(in_features=input_feature,out_features=neurons_per_hidden_layer))\n",
    "            \n",
    "            #batch normalization\n",
    "            layers.append(nn.BatchNorm1d(num_features=neurons_per_hidden_layer))\n",
    "            \n",
    "            #activation function\n",
    "            layers.append(nn.ReLU())\n",
    "            \n",
    "            \n",
    "            # Dropout\n",
    "            layers.append(nn.Dropout(p=dropout_rate))\n",
    "            \n",
    "            \n",
    "            # updating input feature or dimension for the next layer\n",
    "            input_feature = neurons_per_hidden_layer\n",
    "        \n",
    "        \n",
    "        #finally connecting the output layers.\n",
    "        layers.append(nn.Linear(in_features=input_feature,out_features=output_feature))\n",
    "        \n",
    "        \n",
    "        # Combine all layers into a Sequential block\n",
    "        self.model = nn.Sequential(*layers)\n",
    "        \n",
    "        \n",
    "        #calling the weight initialization method.\n",
    "        self._init_weights()\n",
    "        \n",
    "        \n",
    "    # Weight initialization\n",
    "    def _init_weights(self):\n",
    "        for m in self.modules():\n",
    "            # self.modules() returns all submodules (like fc1, fc2, fc3, etc.) from ANN architecture.\n",
    "            if isinstance(m, nn.Linear):\n",
    "                # ReLU ke liye He Initialization\n",
    "                if m != list(self.modules())[-1]:  \n",
    "                    # Agar ye last layer nahi hai (hidden layer hai)\n",
    "                    init.kaiming_normal_(m.weight, nonlinearity='relu')\n",
    "                else:\n",
    "                    # Output layer ke liye Xavier Initialization\n",
    "                    init.xavier_uniform_(m.weight)\n",
    "\n",
    "                # Bias ko zero se initialize karna best practice hai\n",
    "                init.zeros_(m.bias)\n",
    "                \n",
    "                \n",
    "    #defining another method to do forward pass\n",
    "    def forward(self,input_batch_data):\n",
    "        x = self.model(input_batch_data)  # Sequential block handles all hidden layers\n",
    "        return x  # logits, ready for CrossEntropyLoss"
   ]
  },
  {
   "cell_type": "code",
   "execution_count": 33,
   "id": "73458a46",
   "metadata": {},
   "outputs": [],
   "source": [
    "def objective(trial):\n",
    "    # Defining the search space for Optuna (Incase ANN defining Hyperparmaeter like nos of hidden layer,neuron per layer..soon)\n",
    "    #(Optuna uses a Bayesian optimization technique to efficiently explore the defined parameter space)\n",
    "    num_hidden_layer = trial.suggest_int(\"num_hidden_layer\", 1, 10)\n",
    "    neurons_per_hidden_layer = trial.suggest_int(\"neurons_per_hidden_layer\", 16, 512, step=16)\n",
    "    lr = trial.suggest_float(\"lr\", 1e-5, 1e-2, log=True)\n",
    "    weight_decay = trial.suggest_float(\"weight_decay\", 1e-5, 1e-2, log=True)\n",
    "    dropout_rate = trial.suggest_float(\"dropout_rate\", 0.1, 0.5)\n",
    "    batch_size = trial.suggest_categorical(\"batch_size\", [16, 32, 64])\n",
    "    epochs = trial.suggest_int(\"epochs\", 10, 60,step=10)\n",
    "    optimizer_name = trial.suggest_categorical(\"optimizer\", [\"Adam\", \"RMSprop\", \"SGD\"])\n",
    "    \n",
    "    \n",
    "    #defining the model and its all parameter\n",
    "    input_feature = X_train_tensor.shape[1]\n",
    "    output = len(torch.unique(y_train_tensor))\n",
    "    \n",
    "    #creating an object of CustomNeuralNetworkArchitectureForHyperparameter class\n",
    "    model = CustomNeuralNetworkArchitectureForHyperparameter(\n",
    "        input_feature=input_feature,\n",
    "        output_feature=output,\n",
    "        num_hidden_layer=num_hidden_layer,\n",
    "        neurons_per_hidden_layer=neurons_per_hidden_layer,\n",
    "        dropout_rate = dropout_rate\n",
    "         \n",
    "         ).to(device=device)\n",
    "    \n",
    "    \n",
    "    #now initializing the remaining model parameter like epoch optimizer ...so on\n",
    "    #target are multiclass classifier(&its integer encoded) so loss function sparse categorical cross entropy.\n",
    "    loss_fxn = nn.CrossEntropyLoss()   #calculate loss value\n",
    "    \n",
    "    if optimizer_name == \"Adam\":\n",
    "        #optimizers i am using Adam they will updates the trainable parameter effectively in each layer.\n",
    "        optimizer = torch.optim.Adam(params=model.parameters(),lr=lr,weight_decay=weight_decay) \n",
    "    \n",
    "    elif optimizer_name == \"RMSprop\":\n",
    "        #optimizers i am using Adam they will updates the trainable parameter effectively in each layer.\n",
    "        optimizer = torch.optim.RMSprop(params=model.parameters(),lr=lr,weight_decay=weight_decay) \n",
    "      \n",
    "    \n",
    "    elif optimizer_name == \"SGD\":\n",
    "        #optimizers i am using Adam they will updates the trainable parameter effectively in each layer.\n",
    "        optimizer = torch.optim.SGD(params=model.parameters(),lr=lr,weight_decay=weight_decay) \n",
    "    \n",
    "    \n",
    "    \n",
    "    # EarlyStopping variables\n",
    "    best_loss = np.inf         # abhi tak ka sabse best (minimum) test loss\n",
    "    patience_counter = 0       # kitne epochs ho gaye bina improvement ke\n",
    "    patience = 5               # agar 5 epoch tak test loss improve nahi hota to stop\n",
    "    \n",
    "    \n",
    "    train_dataloader = DataLoader(dataset=train_dataset,batch_size=batch_size,shuffle=True,pin_memory=True)\n",
    "    test_dataloader  = DataLoader(dataset=test_dataset,batch_size=batch_size,shuffle=True,pin_memory=True)\n",
    "    \n",
    "    #Now training and evaluating the performance of model\n",
    "    epochs = epochs\n",
    "    training_loss_lst = []\n",
    "    testing_loss_lst = []\n",
    "    for i in range(epochs):\n",
    "        #performing model training\n",
    "        model.train()\n",
    "        training_running_loss_count = 0\n",
    "        \n",
    "        #based on batchsize data record we are passing to neural network architecture.\n",
    "        for feature,label in train_dataloader:\n",
    "            feature = feature.to(device)\n",
    "            label   = label.to(device)\n",
    "            \n",
    "            #whenever we start training the model first algorithm work is forward propogation\n",
    "            pred_output = model.forward(feature)\n",
    "            #print(f\"actual output shape: {label.shape}\")\n",
    "            #print(f\"predicted output shape: {pred_output.shape}\")\n",
    "            \n",
    "            #calculating the loss value by using Loss fxns or evaluating the performance of model at time of training.\n",
    "            loss_value = loss_fxn(pred_output,label)\n",
    "            \n",
    "            #now updating the training_running_loss_count variable\n",
    "            training_running_loss_count = training_running_loss_count+loss_value.item() \n",
    "            #this item method we used to get value from shape of tensor\n",
    "            \n",
    "            #before applying backpropogation to the loss value first we have to clear the gradient inside optimizers\n",
    "            optimizer.zero_grad()\n",
    "            \n",
    "            #reducing the loss value by using backpropogation algorithm and calcualting gradient of loss wrt to trainable parameter\n",
    "            loss_value.backward()\n",
    "            \n",
    "            #using optimizers updating the tainable parameters\n",
    "            optimizer.step()\n",
    "            \n",
    "        avg_training_loss = (training_running_loss_count)/(len(train_dataloader))\n",
    "        training_loss_lst.append(avg_training_loss)\n",
    "\n",
    "        \n",
    "        #performing model testing(on testing we dont apply any backpropogation,overfitting technique,early stopping)\n",
    "        model.eval()\n",
    "        testing_running_loss_count = 0\n",
    "        \n",
    "        with torch.no_grad(): #at time of testing or inferencing gradient tracking is off not applying overfitting technique too\n",
    "            #based on batchsize data record we are passing to neural network architecture.\n",
    "            for feature,label in test_dataloader:\n",
    "                feature = feature.to(device)\n",
    "                label   = label.to(device)\n",
    "                \n",
    "                #whenever we start training the model first algorithm work is forward propogation\n",
    "                pred_output = model.forward(feature)\n",
    "                \n",
    "                #calculating the loss value by using Loss fxns or evaluating the performance of model at time of training.\n",
    "                loss_value = loss_fxn(pred_output,label)\n",
    "                \n",
    "                #updating the count of loss in testing_running_loss_count\n",
    "                testing_running_loss_count = testing_running_loss_count+loss_value.item()\n",
    "                \n",
    "            avg_testing_loss = (testing_running_loss_count)/(len(test_dataloader))\n",
    "            testing_loss_lst.append(avg_testing_loss)\n",
    "                \n",
    "        print(f\"Epoch [{i+1}/{epochs}], \"\n",
    "            f\"Train Loss: {avg_training_loss:.4f}, \"\n",
    "            f\"Test Loss: {avg_testing_loss:.4f}, \"\n",
    "            )\n",
    "        \n",
    "        \n",
    "        # ---------------- EARLY STOPPING + CHECKPOINT ----------------\n",
    "        if avg_testing_loss < best_loss:\n",
    "            # Agar test loss improve ho gaya hai\n",
    "            best_loss = avg_testing_loss\n",
    "            patience_counter = 0  # reset patience\n",
    "            torch.save(model.state_dict(), \"best_model_multi.pth\")  # ModelCheckpoint\n",
    "            print(f\"✅ Model improved. Saved at epoch {i+1} with Test Loss {best_loss:.4f}\")\n",
    "            \n",
    "        else:\n",
    "            # Agar test loss improve nahi hua\n",
    "            patience_counter += 1\n",
    "            print(f\"⚠️ No improvement. Patience counter = {patience_counter}/{patience}\")\n",
    "\n",
    "            if patience_counter >= patience:\n",
    "                print(f\"⏹ Early stopping at epoch {i+1} (best loss = {best_loss:.4f})\")\n",
    "                break\n",
    "            \n",
    "    \n",
    "    print(\"Training Finished ✅\")   \n",
    "    return best_loss  # <-- Very important for Optuna \n",
    "        \n"
   ]
  },
  {
   "cell_type": "markdown",
   "id": "8a8cb198",
   "metadata": {},
   "source": [
    "### Creating a study object"
   ]
  },
  {
   "cell_type": "code",
   "execution_count": 34,
   "id": "32cc9f68",
   "metadata": {},
   "outputs": [
    {
     "name": "stderr",
     "output_type": "stream",
     "text": [
      "[I 2025-10-16 23:30:49,730] A new study created in memory with name: no-name-1e9f0b1d-32e7-40de-9197-87d844b98adf\n"
     ]
    },
    {
     "data": {
      "text/plain": [
       "<optuna.study.study.Study at 0x1e3fdbdbcd0>"
      ]
     },
     "execution_count": 34,
     "metadata": {},
     "output_type": "execute_result"
    }
   ],
   "source": [
    "study = optuna.create_study(direction='minimize')\n",
    "study"
   ]
  },
  {
   "cell_type": "code",
   "execution_count": null,
   "id": "c9219fc9",
   "metadata": {},
   "outputs": [
    {
     "name": "stdout",
     "output_type": "stream",
     "text": [
      "Epoch [1/60], Train Loss: 1.2376, Test Loss: 1.0066, \n",
      "✅ Model improved. Saved at epoch 1 with Test Loss 1.0066\n",
      "Epoch [2/60], Train Loss: 1.1864, Test Loss: 0.9950, \n",
      "✅ Model improved. Saved at epoch 2 with Test Loss 0.9950\n",
      "Epoch [3/60], Train Loss: 1.1580, Test Loss: 0.9905, \n",
      "✅ Model improved. Saved at epoch 3 with Test Loss 0.9905\n",
      "Epoch [4/60], Train Loss: 1.1388, Test Loss: 0.9796, \n",
      "✅ Model improved. Saved at epoch 4 with Test Loss 0.9796\n",
      "Epoch [5/60], Train Loss: 1.1156, Test Loss: 0.9649, \n",
      "✅ Model improved. Saved at epoch 5 with Test Loss 0.9649\n",
      "Epoch [6/60], Train Loss: 1.1011, Test Loss: 0.9619, \n",
      "✅ Model improved. Saved at epoch 6 with Test Loss 0.9619\n",
      "Epoch [7/60], Train Loss: 1.0862, Test Loss: 0.9494, \n",
      "✅ Model improved. Saved at epoch 7 with Test Loss 0.9494\n",
      "Epoch [8/60], Train Loss: 1.0750, Test Loss: 0.9443, \n",
      "✅ Model improved. Saved at epoch 8 with Test Loss 0.9443\n",
      "Epoch [9/60], Train Loss: 1.0588, Test Loss: 0.9333, \n",
      "✅ Model improved. Saved at epoch 9 with Test Loss 0.9333\n",
      "Epoch [10/60], Train Loss: 1.0501, Test Loss: 0.9379, \n",
      "⚠️ No improvement. Patience counter = 1/5\n",
      "Epoch [11/60], Train Loss: 1.0419, Test Loss: 0.9314, \n",
      "✅ Model improved. Saved at epoch 11 with Test Loss 0.9314\n",
      "Epoch [12/60], Train Loss: 1.0298, Test Loss: 0.9156, \n",
      "✅ Model improved. Saved at epoch 12 with Test Loss 0.9156\n",
      "Epoch [13/60], Train Loss: 1.0209, Test Loss: 0.9069, \n",
      "✅ Model improved. Saved at epoch 13 with Test Loss 0.9069\n",
      "Epoch [14/60], Train Loss: 1.0140, Test Loss: 0.9097, \n",
      "⚠️ No improvement. Patience counter = 1/5\n",
      "Epoch [15/60], Train Loss: 1.0064, Test Loss: 0.9091, \n",
      "⚠️ No improvement. Patience counter = 2/5\n",
      "Epoch [16/60], Train Loss: 1.0020, Test Loss: 0.8979, \n",
      "✅ Model improved. Saved at epoch 16 with Test Loss 0.8979\n",
      "Epoch [17/60], Train Loss: 0.9932, Test Loss: 0.8915, \n",
      "✅ Model improved. Saved at epoch 17 with Test Loss 0.8915\n",
      "Epoch [18/60], Train Loss: 0.9882, Test Loss: 0.8949, \n",
      "⚠️ No improvement. Patience counter = 1/5\n",
      "Epoch [19/60], Train Loss: 0.9820, Test Loss: 0.8814, \n",
      "✅ Model improved. Saved at epoch 19 with Test Loss 0.8814\n",
      "Epoch [20/60], Train Loss: 0.9751, Test Loss: 0.8845, \n",
      "⚠️ No improvement. Patience counter = 1/5\n",
      "Epoch [21/60], Train Loss: 0.9707, Test Loss: 0.8703, \n",
      "✅ Model improved. Saved at epoch 21 with Test Loss 0.8703\n",
      "Epoch [22/60], Train Loss: 0.9632, Test Loss: 0.8692, \n",
      "✅ Model improved. Saved at epoch 22 with Test Loss 0.8692\n",
      "Epoch [23/60], Train Loss: 0.9584, Test Loss: 0.8672, \n",
      "✅ Model improved. Saved at epoch 23 with Test Loss 0.8672\n",
      "Epoch [24/60], Train Loss: 0.9570, Test Loss: 0.8658, \n",
      "✅ Model improved. Saved at epoch 24 with Test Loss 0.8658\n",
      "Epoch [25/60], Train Loss: 0.9511, Test Loss: 0.8527, \n",
      "✅ Model improved. Saved at epoch 25 with Test Loss 0.8527\n",
      "Epoch [26/60], Train Loss: 0.9496, Test Loss: 0.8611, \n",
      "⚠️ No improvement. Patience counter = 1/5\n",
      "Epoch [27/60], Train Loss: 0.9442, Test Loss: 0.8532, \n",
      "⚠️ No improvement. Patience counter = 2/5\n",
      "Epoch [28/60], Train Loss: 0.9389, Test Loss: 0.8538, \n",
      "⚠️ No improvement. Patience counter = 3/5\n",
      "Epoch [29/60], Train Loss: 0.9371, Test Loss: 0.8449, \n",
      "✅ Model improved. Saved at epoch 29 with Test Loss 0.8449\n",
      "Epoch [30/60], Train Loss: 0.9307, Test Loss: 0.8474, \n",
      "⚠️ No improvement. Patience counter = 1/5\n",
      "Epoch [31/60], Train Loss: 0.9278, Test Loss: 0.8384, \n",
      "✅ Model improved. Saved at epoch 31 with Test Loss 0.8384\n",
      "Epoch [32/60], Train Loss: 0.9254, Test Loss: 0.8410, \n",
      "⚠️ No improvement. Patience counter = 1/5\n",
      "Epoch [33/60], Train Loss: 0.9207, Test Loss: 0.8391, \n",
      "⚠️ No improvement. Patience counter = 2/5\n",
      "Epoch [34/60], Train Loss: 0.9202, Test Loss: 0.8334, \n",
      "✅ Model improved. Saved at epoch 34 with Test Loss 0.8334\n",
      "Epoch [35/60], Train Loss: 0.9162, Test Loss: 0.8319, \n",
      "✅ Model improved. Saved at epoch 35 with Test Loss 0.8319\n",
      "Epoch [36/60], Train Loss: 0.9162, Test Loss: 0.8273, \n",
      "✅ Model improved. Saved at epoch 36 with Test Loss 0.8273\n",
      "Epoch [37/60], Train Loss: 0.9122, Test Loss: 0.8322, \n",
      "⚠️ No improvement. Patience counter = 1/5\n",
      "Epoch [38/60], Train Loss: 0.9079, Test Loss: 0.8276, \n",
      "⚠️ No improvement. Patience counter = 2/5\n",
      "Epoch [39/60], Train Loss: 0.9081, Test Loss: 0.8243, \n",
      "✅ Model improved. Saved at epoch 39 with Test Loss 0.8243\n",
      "Epoch [40/60], Train Loss: 0.9035, Test Loss: 0.8228, \n",
      "✅ Model improved. Saved at epoch 40 with Test Loss 0.8228\n",
      "Epoch [41/60], Train Loss: 0.9023, Test Loss: 0.8244, \n",
      "⚠️ No improvement. Patience counter = 1/5\n",
      "Epoch [42/60], Train Loss: 0.8987, Test Loss: 0.8212, \n",
      "✅ Model improved. Saved at epoch 42 with Test Loss 0.8212\n",
      "Epoch [43/60], Train Loss: 0.8978, Test Loss: 0.8164, \n",
      "✅ Model improved. Saved at epoch 43 with Test Loss 0.8164\n",
      "Epoch [44/60], Train Loss: 0.8946, Test Loss: 0.8174, \n",
      "⚠️ No improvement. Patience counter = 1/5\n",
      "Epoch [45/60], Train Loss: 0.8923, Test Loss: 0.8100, \n",
      "✅ Model improved. Saved at epoch 45 with Test Loss 0.8100\n",
      "Epoch [46/60], Train Loss: 0.8921, Test Loss: 0.8153, \n",
      "⚠️ No improvement. Patience counter = 1/5\n",
      "Epoch [47/60], Train Loss: 0.8907, Test Loss: 0.8135, \n",
      "⚠️ No improvement. Patience counter = 2/5\n",
      "Epoch [48/60], Train Loss: 0.8921, Test Loss: 0.8121, \n",
      "⚠️ No improvement. Patience counter = 3/5\n",
      "Epoch [49/60], Train Loss: 0.8870, Test Loss: 0.8081, \n",
      "✅ Model improved. Saved at epoch 49 with Test Loss 0.8081\n",
      "Epoch [50/60], Train Loss: 0.8864, Test Loss: 0.8077, \n",
      "✅ Model improved. Saved at epoch 50 with Test Loss 0.8077\n",
      "Epoch [51/60], Train Loss: 0.8830, Test Loss: 0.8109, \n",
      "⚠️ No improvement. Patience counter = 1/5\n",
      "Epoch [52/60], Train Loss: 0.8839, Test Loss: 0.8129, \n",
      "⚠️ No improvement. Patience counter = 2/5\n",
      "Epoch [53/60], Train Loss: 0.8814, Test Loss: 0.8055, \n",
      "✅ Model improved. Saved at epoch 53 with Test Loss 0.8055\n",
      "Epoch [54/60], Train Loss: 0.8770, Test Loss: 0.8024, \n",
      "✅ Model improved. Saved at epoch 54 with Test Loss 0.8024\n",
      "Epoch [55/60], Train Loss: 0.8766, Test Loss: 0.8029, \n",
      "⚠️ No improvement. Patience counter = 1/5\n",
      "Epoch [56/60], Train Loss: 0.8766, Test Loss: 0.8042, \n",
      "⚠️ No improvement. Patience counter = 2/5\n",
      "Epoch [57/60], Train Loss: 0.8764, Test Loss: 0.8005, \n",
      "✅ Model improved. Saved at epoch 57 with Test Loss 0.8005\n",
      "Epoch [58/60], Train Loss: 0.8745, Test Loss: 0.7996, \n",
      "✅ Model improved. Saved at epoch 58 with Test Loss 0.7996\n",
      "Epoch [59/60], Train Loss: 0.8715, Test Loss: 0.8005, \n",
      "⚠️ No improvement. Patience counter = 1/5\n"
     ]
    },
    {
     "name": "stderr",
     "output_type": "stream",
     "text": [
      "[I 2025-10-16 23:45:16,556] Trial 0 finished with value: 0.7995936025619507 and parameters: {'num_hidden_layer': 7, 'neurons_per_hidden_layer': 160, 'lr': 8.305660192212626e-05, 'weight_decay': 0.0006684433993811055, 'dropout_rate': 0.22347935224960988, 'batch_size': 32, 'epochs': 60, 'optimizer': 'SGD'}. Best is trial 0 with value: 0.7995936025619507.\n"
     ]
    },
    {
     "name": "stdout",
     "output_type": "stream",
     "text": [
      "Epoch [60/60], Train Loss: 0.8709, Test Loss: 0.8000, \n",
      "⚠️ No improvement. Patience counter = 2/5\n",
      "Training Finished ✅\n",
      "Epoch [1/10], Train Loss: 0.8593, Test Loss: 0.7349, \n",
      "✅ Model improved. Saved at epoch 1 with Test Loss 0.7349\n",
      "Epoch [2/10], Train Loss: 0.7865, Test Loss: 0.7155, \n",
      "✅ Model improved. Saved at epoch 2 with Test Loss 0.7155\n",
      "Epoch [3/10], Train Loss: 0.7583, Test Loss: 0.7079, \n",
      "✅ Model improved. Saved at epoch 3 with Test Loss 0.7079\n",
      "Epoch [4/10], Train Loss: 0.7438, Test Loss: 0.7003, \n",
      "✅ Model improved. Saved at epoch 4 with Test Loss 0.7003\n",
      "Epoch [5/10], Train Loss: 0.7344, Test Loss: 0.7006, \n",
      "⚠️ No improvement. Patience counter = 1/5\n",
      "Epoch [6/10], Train Loss: 0.7270, Test Loss: 0.6953, \n",
      "✅ Model improved. Saved at epoch 6 with Test Loss 0.6953\n",
      "Epoch [7/10], Train Loss: 0.7217, Test Loss: 0.6922, \n",
      "✅ Model improved. Saved at epoch 7 with Test Loss 0.6922\n",
      "Epoch [8/10], Train Loss: 0.7143, Test Loss: 0.6876, \n",
      "✅ Model improved. Saved at epoch 8 with Test Loss 0.6876\n",
      "Epoch [9/10], Train Loss: 0.7138, Test Loss: 0.6905, \n",
      "⚠️ No improvement. Patience counter = 1/5\n"
     ]
    },
    {
     "name": "stderr",
     "output_type": "stream",
     "text": [
      "[I 2025-10-16 23:47:09,807] Trial 1 finished with value: 0.6875817305088043 and parameters: {'num_hidden_layer': 7, 'neurons_per_hidden_layer': 432, 'lr': 7.237155970945903e-05, 'weight_decay': 0.0002339652612526213, 'dropout_rate': 0.11656900908614665, 'batch_size': 32, 'epochs': 10, 'optimizer': 'RMSprop'}. Best is trial 1 with value: 0.6875817305088043.\n"
     ]
    },
    {
     "name": "stdout",
     "output_type": "stream",
     "text": [
      "Epoch [10/10], Train Loss: 0.7096, Test Loss: 0.6892, \n",
      "⚠️ No improvement. Patience counter = 2/5\n",
      "Training Finished ✅\n",
      "Epoch [1/20], Train Loss: 0.9712, Test Loss: 0.9434, \n",
      "✅ Model improved. Saved at epoch 1 with Test Loss 0.9434\n",
      "Epoch [2/20], Train Loss: 0.8904, Test Loss: 0.8752, \n",
      "✅ Model improved. Saved at epoch 2 with Test Loss 0.8752\n",
      "Epoch [3/20], Train Loss: 0.8735, Test Loss: 0.8533, \n",
      "✅ Model improved. Saved at epoch 3 with Test Loss 0.8533\n",
      "Epoch [4/20], Train Loss: 0.8560, Test Loss: 0.8255, \n",
      "✅ Model improved. Saved at epoch 4 with Test Loss 0.8255\n",
      "Epoch [5/20], Train Loss: 0.8443, Test Loss: 0.8113, \n",
      "✅ Model improved. Saved at epoch 5 with Test Loss 0.8113\n",
      "Epoch [6/20], Train Loss: 0.8380, Test Loss: 0.7940, \n",
      "✅ Model improved. Saved at epoch 6 with Test Loss 0.7940\n",
      "Epoch [7/20], Train Loss: 0.8342, Test Loss: 0.7909, \n",
      "✅ Model improved. Saved at epoch 7 with Test Loss 0.7909\n",
      "Epoch [8/20], Train Loss: 0.8304, Test Loss: 0.7857, \n",
      "✅ Model improved. Saved at epoch 8 with Test Loss 0.7857\n",
      "Epoch [9/20], Train Loss: 0.8294, Test Loss: 0.7862, \n",
      "⚠️ No improvement. Patience counter = 1/5\n",
      "Epoch [10/20], Train Loss: 0.8229, Test Loss: 0.7738, \n",
      "✅ Model improved. Saved at epoch 10 with Test Loss 0.7738\n",
      "Epoch [11/20], Train Loss: 0.8253, Test Loss: 0.7752, \n",
      "⚠️ No improvement. Patience counter = 1/5\n",
      "Epoch [12/20], Train Loss: 0.8231, Test Loss: 0.7625, \n",
      "✅ Model improved. Saved at epoch 12 with Test Loss 0.7625\n",
      "Epoch [13/20], Train Loss: 0.8208, Test Loss: 0.7753, \n",
      "⚠️ No improvement. Patience counter = 1/5\n",
      "Epoch [14/20], Train Loss: 0.8195, Test Loss: 0.7644, \n",
      "⚠️ No improvement. Patience counter = 2/5\n",
      "Epoch [15/20], Train Loss: 0.8162, Test Loss: 0.7666, \n",
      "⚠️ No improvement. Patience counter = 3/5\n",
      "Epoch [16/20], Train Loss: 0.8148, Test Loss: 0.7624, \n",
      "✅ Model improved. Saved at epoch 16 with Test Loss 0.7624\n",
      "Epoch [17/20], Train Loss: 0.8118, Test Loss: 0.7588, \n",
      "✅ Model improved. Saved at epoch 17 with Test Loss 0.7588\n",
      "Epoch [18/20], Train Loss: 0.8108, Test Loss: 0.7628, \n",
      "⚠️ No improvement. Patience counter = 1/5\n",
      "Epoch [19/20], Train Loss: 0.8148, Test Loss: 0.7685, \n",
      "⚠️ No improvement. Patience counter = 2/5\n"
     ]
    },
    {
     "name": "stderr",
     "output_type": "stream",
     "text": [
      "[I 2025-10-16 23:54:24,918] Trial 2 finished with value: 0.7587691581487656 and parameters: {'num_hidden_layer': 7, 'neurons_per_hidden_layer': 16, 'lr': 0.0004199864497763129, 'weight_decay': 0.0023183401076277547, 'dropout_rate': 0.2568209997687377, 'batch_size': 16, 'epochs': 20, 'optimizer': 'RMSprop'}. Best is trial 1 with value: 0.6875817305088043.\n"
     ]
    },
    {
     "name": "stdout",
     "output_type": "stream",
     "text": [
      "Epoch [20/20], Train Loss: 0.8119, Test Loss: 0.7598, \n",
      "⚠️ No improvement. Patience counter = 3/5\n",
      "Training Finished ✅\n",
      "Epoch [1/20], Train Loss: 0.8673, Test Loss: 0.7318, \n",
      "✅ Model improved. Saved at epoch 1 with Test Loss 0.7318\n",
      "Epoch [2/20], Train Loss: 0.7621, Test Loss: 0.7184, \n",
      "✅ Model improved. Saved at epoch 2 with Test Loss 0.7184\n",
      "Epoch [3/20], Train Loss: 0.7417, Test Loss: 0.7093, \n",
      "✅ Model improved. Saved at epoch 3 with Test Loss 0.7093\n",
      "Epoch [4/20], Train Loss: 0.7339, Test Loss: 0.7072, \n",
      "✅ Model improved. Saved at epoch 4 with Test Loss 0.7072\n",
      "Epoch [5/20], Train Loss: 0.7263, Test Loss: 0.7060, \n",
      "✅ Model improved. Saved at epoch 5 with Test Loss 0.7060\n",
      "Epoch [6/20], Train Loss: 0.7254, Test Loss: 0.7037, \n",
      "✅ Model improved. Saved at epoch 6 with Test Loss 0.7037\n",
      "Epoch [7/20], Train Loss: 0.7244, Test Loss: 0.7008, \n",
      "✅ Model improved. Saved at epoch 7 with Test Loss 0.7008\n",
      "Epoch [8/20], Train Loss: 0.7230, Test Loss: 0.7064, \n",
      "⚠️ No improvement. Patience counter = 1/5\n",
      "Epoch [9/20], Train Loss: 0.7192, Test Loss: 0.7038, \n",
      "⚠️ No improvement. Patience counter = 2/5\n",
      "Epoch [10/20], Train Loss: 0.7191, Test Loss: 0.6962, \n",
      "✅ Model improved. Saved at epoch 10 with Test Loss 0.6962\n",
      "Epoch [11/20], Train Loss: 0.7190, Test Loss: 0.6976, \n",
      "⚠️ No improvement. Patience counter = 1/5\n",
      "Epoch [12/20], Train Loss: 0.7188, Test Loss: 0.6987, \n",
      "⚠️ No improvement. Patience counter = 2/5\n",
      "Epoch [13/20], Train Loss: 0.7175, Test Loss: 0.7044, \n",
      "⚠️ No improvement. Patience counter = 3/5\n",
      "Epoch [14/20], Train Loss: 0.7172, Test Loss: 0.6990, \n",
      "⚠️ No improvement. Patience counter = 4/5\n"
     ]
    },
    {
     "name": "stderr",
     "output_type": "stream",
     "text": [
      "[I 2025-10-16 23:55:33,044] Trial 3 finished with value: 0.6962215304374695 and parameters: {'num_hidden_layer': 4, 'neurons_per_hidden_layer': 480, 'lr': 0.0005114538167198631, 'weight_decay': 0.0006685999531986146, 'dropout_rate': 0.4842381750699488, 'batch_size': 64, 'epochs': 20, 'optimizer': 'Adam'}. Best is trial 1 with value: 0.6875817305088043.\n"
     ]
    },
    {
     "name": "stdout",
     "output_type": "stream",
     "text": [
      "Epoch [15/20], Train Loss: 0.7160, Test Loss: 0.6979, \n",
      "⚠️ No improvement. Patience counter = 5/5\n",
      "⏹ Early stopping at epoch 15 (best loss = 0.6962)\n",
      "Training Finished ✅\n",
      "Epoch [1/60], Train Loss: 0.7627, Test Loss: 0.7155, \n",
      "✅ Model improved. Saved at epoch 1 with Test Loss 0.7155\n",
      "Epoch [2/60], Train Loss: 0.7262, Test Loss: 0.7048, \n",
      "✅ Model improved. Saved at epoch 2 with Test Loss 0.7048\n",
      "Epoch [3/60], Train Loss: 0.7158, Test Loss: 0.7054, \n",
      "⚠️ No improvement. Patience counter = 1/5\n",
      "Epoch [4/60], Train Loss: 0.7099, Test Loss: 0.7015, \n",
      "✅ Model improved. Saved at epoch 4 with Test Loss 0.7015\n",
      "Epoch [5/60], Train Loss: 0.7068, Test Loss: 0.6968, \n",
      "✅ Model improved. Saved at epoch 5 with Test Loss 0.6968\n",
      "Epoch [6/60], Train Loss: 0.7045, Test Loss: 0.6945, \n",
      "✅ Model improved. Saved at epoch 6 with Test Loss 0.6945\n",
      "Epoch [7/60], Train Loss: 0.7010, Test Loss: 0.6929, \n",
      "✅ Model improved. Saved at epoch 7 with Test Loss 0.6929\n",
      "Epoch [8/60], Train Loss: 0.6999, Test Loss: 0.6982, \n",
      "⚠️ No improvement. Patience counter = 1/5\n",
      "Epoch [9/60], Train Loss: 0.6974, Test Loss: 0.6893, \n",
      "✅ Model improved. Saved at epoch 9 with Test Loss 0.6893\n",
      "Epoch [10/60], Train Loss: 0.6948, Test Loss: 0.6890, \n",
      "✅ Model improved. Saved at epoch 10 with Test Loss 0.6890\n",
      "Epoch [11/60], Train Loss: 0.6944, Test Loss: 0.6868, \n",
      "✅ Model improved. Saved at epoch 11 with Test Loss 0.6868\n",
      "Epoch [12/60], Train Loss: 0.6920, Test Loss: 0.6872, \n",
      "⚠️ No improvement. Patience counter = 1/5\n",
      "Epoch [13/60], Train Loss: 0.6901, Test Loss: 0.6855, \n",
      "✅ Model improved. Saved at epoch 13 with Test Loss 0.6855\n",
      "Epoch [14/60], Train Loss: 0.6886, Test Loss: 0.6841, \n",
      "✅ Model improved. Saved at epoch 14 with Test Loss 0.6841\n",
      "Epoch [15/60], Train Loss: 0.6868, Test Loss: 0.6912, \n",
      "⚠️ No improvement. Patience counter = 1/5\n",
      "Epoch [16/60], Train Loss: 0.6855, Test Loss: 0.6809, \n",
      "✅ Model improved. Saved at epoch 16 with Test Loss 0.6809\n",
      "Epoch [17/60], Train Loss: 0.6842, Test Loss: 0.6793, \n",
      "✅ Model improved. Saved at epoch 17 with Test Loss 0.6793\n",
      "Epoch [18/60], Train Loss: 0.6838, Test Loss: 0.6778, \n",
      "✅ Model improved. Saved at epoch 18 with Test Loss 0.6778\n",
      "Epoch [19/60], Train Loss: 0.6819, Test Loss: 0.6753, \n",
      "✅ Model improved. Saved at epoch 19 with Test Loss 0.6753\n",
      "Epoch [20/60], Train Loss: 0.6820, Test Loss: 0.6744, \n",
      "✅ Model improved. Saved at epoch 20 with Test Loss 0.6744\n",
      "Epoch [21/60], Train Loss: 0.6807, Test Loss: 0.6741, \n",
      "✅ Model improved. Saved at epoch 21 with Test Loss 0.6741\n",
      "Epoch [22/60], Train Loss: 0.6787, Test Loss: 0.6713, \n",
      "✅ Model improved. Saved at epoch 22 with Test Loss 0.6713\n",
      "Epoch [23/60], Train Loss: 0.6784, Test Loss: 0.6725, \n",
      "⚠️ No improvement. Patience counter = 1/5\n",
      "Epoch [24/60], Train Loss: 0.6775, Test Loss: 0.6733, \n",
      "⚠️ No improvement. Patience counter = 2/5\n",
      "Epoch [25/60], Train Loss: 0.6760, Test Loss: 0.6731, \n",
      "⚠️ No improvement. Patience counter = 3/5\n",
      "Epoch [26/60], Train Loss: 0.6757, Test Loss: 0.6719, \n",
      "⚠️ No improvement. Patience counter = 4/5\n",
      "Epoch [27/60], Train Loss: 0.6752, Test Loss: 0.6699, \n",
      "✅ Model improved. Saved at epoch 27 with Test Loss 0.6699\n",
      "Epoch [28/60], Train Loss: 0.6730, Test Loss: 0.6703, \n",
      "⚠️ No improvement. Patience counter = 1/5\n",
      "Epoch [29/60], Train Loss: 0.6731, Test Loss: 0.6670, \n",
      "✅ Model improved. Saved at epoch 29 with Test Loss 0.6670\n",
      "Epoch [30/60], Train Loss: 0.6723, Test Loss: 0.6686, \n",
      "⚠️ No improvement. Patience counter = 1/5\n",
      "Epoch [31/60], Train Loss: 0.6714, Test Loss: 0.6676, \n",
      "⚠️ No improvement. Patience counter = 2/5\n",
      "Epoch [32/60], Train Loss: 0.6715, Test Loss: 0.6688, \n",
      "⚠️ No improvement. Patience counter = 3/5\n",
      "Epoch [33/60], Train Loss: 0.6698, Test Loss: 0.6642, \n",
      "✅ Model improved. Saved at epoch 33 with Test Loss 0.6642\n",
      "Epoch [34/60], Train Loss: 0.6682, Test Loss: 0.6650, \n",
      "⚠️ No improvement. Patience counter = 1/5\n",
      "Epoch [35/60], Train Loss: 0.6674, Test Loss: 0.6641, \n",
      "✅ Model improved. Saved at epoch 35 with Test Loss 0.6641\n",
      "Epoch [36/60], Train Loss: 0.6672, Test Loss: 0.6633, \n",
      "✅ Model improved. Saved at epoch 36 with Test Loss 0.6633\n",
      "Epoch [37/60], Train Loss: 0.6657, Test Loss: 0.6661, \n",
      "⚠️ No improvement. Patience counter = 1/5\n",
      "Epoch [38/60], Train Loss: 0.6652, Test Loss: 0.6659, \n",
      "⚠️ No improvement. Patience counter = 2/5\n",
      "Epoch [39/60], Train Loss: 0.6633, Test Loss: 0.6635, \n",
      "⚠️ No improvement. Patience counter = 3/5\n",
      "Epoch [40/60], Train Loss: 0.6623, Test Loss: 0.6592, \n",
      "✅ Model improved. Saved at epoch 40 with Test Loss 0.6592\n",
      "Epoch [41/60], Train Loss: 0.6621, Test Loss: 0.6618, \n",
      "⚠️ No improvement. Patience counter = 1/5\n",
      "Epoch [42/60], Train Loss: 0.6616, Test Loss: 0.6565, \n",
      "✅ Model improved. Saved at epoch 42 with Test Loss 0.6565\n",
      "Epoch [43/60], Train Loss: 0.6591, Test Loss: 0.6562, \n",
      "✅ Model improved. Saved at epoch 43 with Test Loss 0.6562\n",
      "Epoch [44/60], Train Loss: 0.6607, Test Loss: 0.6543, \n",
      "✅ Model improved. Saved at epoch 44 with Test Loss 0.6543\n",
      "Epoch [45/60], Train Loss: 0.6595, Test Loss: 0.6563, \n",
      "⚠️ No improvement. Patience counter = 1/5\n",
      "Epoch [46/60], Train Loss: 0.6587, Test Loss: 0.6556, \n",
      "⚠️ No improvement. Patience counter = 2/5\n",
      "Epoch [47/60], Train Loss: 0.6583, Test Loss: 0.6512, \n",
      "✅ Model improved. Saved at epoch 47 with Test Loss 0.6512\n",
      "Epoch [48/60], Train Loss: 0.6587, Test Loss: 0.6518, \n",
      "⚠️ No improvement. Patience counter = 1/5\n",
      "Epoch [49/60], Train Loss: 0.6564, Test Loss: 0.6539, \n",
      "⚠️ No improvement. Patience counter = 2/5\n",
      "Epoch [50/60], Train Loss: 0.6553, Test Loss: 0.6539, \n",
      "⚠️ No improvement. Patience counter = 3/5\n",
      "Epoch [51/60], Train Loss: 0.6564, Test Loss: 0.6531, \n",
      "⚠️ No improvement. Patience counter = 4/5\n"
     ]
    },
    {
     "name": "stderr",
     "output_type": "stream",
     "text": [
      "[I 2025-10-16 23:58:21,089] Trial 4 finished with value: 0.6512440925779434 and parameters: {'num_hidden_layer': 2, 'neurons_per_hidden_layer': 400, 'lr': 0.0009829004029540628, 'weight_decay': 7.981003789131865e-05, 'dropout_rate': 0.174176319939639, 'batch_size': 64, 'epochs': 60, 'optimizer': 'RMSprop'}. Best is trial 4 with value: 0.6512440925779434.\n"
     ]
    },
    {
     "name": "stdout",
     "output_type": "stream",
     "text": [
      "Epoch [52/60], Train Loss: 0.6570, Test Loss: 0.6550, \n",
      "⚠️ No improvement. Patience counter = 5/5\n",
      "⏹ Early stopping at epoch 52 (best loss = 0.6512)\n",
      "Training Finished ✅\n",
      "Epoch [1/30], Train Loss: 0.8209, Test Loss: 0.7403, \n",
      "✅ Model improved. Saved at epoch 1 with Test Loss 0.7403\n",
      "Epoch [2/30], Train Loss: 0.7719, Test Loss: 0.7249, \n",
      "✅ Model improved. Saved at epoch 2 with Test Loss 0.7249\n",
      "Epoch [3/30], Train Loss: 0.7662, Test Loss: 0.7214, \n",
      "✅ Model improved. Saved at epoch 3 with Test Loss 0.7214\n",
      "Epoch [4/30], Train Loss: 0.7640, Test Loss: 0.7211, \n",
      "✅ Model improved. Saved at epoch 4 with Test Loss 0.7211\n",
      "Epoch [5/30], Train Loss: 0.7615, Test Loss: 0.7141, \n",
      "✅ Model improved. Saved at epoch 5 with Test Loss 0.7141\n",
      "Epoch [6/30], Train Loss: 0.7598, Test Loss: 0.7235, \n",
      "⚠️ No improvement. Patience counter = 1/5\n",
      "Epoch [7/30], Train Loss: 0.7580, Test Loss: 0.7184, \n",
      "⚠️ No improvement. Patience counter = 2/5\n",
      "Epoch [8/30], Train Loss: 0.7581, Test Loss: 0.7146, \n",
      "⚠️ No improvement. Patience counter = 3/5\n",
      "Epoch [9/30], Train Loss: 0.7572, Test Loss: 0.7174, \n",
      "⚠️ No improvement. Patience counter = 4/5\n",
      "Epoch [10/30], Train Loss: 0.7555, Test Loss: 0.7116, \n",
      "✅ Model improved. Saved at epoch 10 with Test Loss 0.7116\n",
      "Epoch [11/30], Train Loss: 0.7554, Test Loss: 0.7152, \n",
      "⚠️ No improvement. Patience counter = 1/5\n",
      "Epoch [12/30], Train Loss: 0.7563, Test Loss: 0.7173, \n",
      "⚠️ No improvement. Patience counter = 2/5\n",
      "Epoch [13/30], Train Loss: 0.7540, Test Loss: 0.7178, \n",
      "⚠️ No improvement. Patience counter = 3/5\n",
      "Epoch [14/30], Train Loss: 0.7561, Test Loss: 0.7152, \n",
      "⚠️ No improvement. Patience counter = 4/5\n"
     ]
    },
    {
     "name": "stderr",
     "output_type": "stream",
     "text": [
      "[I 2025-10-17 00:03:48,909] Trial 5 finished with value: 0.711631095290184 and parameters: {'num_hidden_layer': 6, 'neurons_per_hidden_layer': 352, 'lr': 0.0009703425185676139, 'weight_decay': 0.0001905362513110782, 'dropout_rate': 0.3289793301656501, 'batch_size': 16, 'epochs': 30, 'optimizer': 'Adam'}. Best is trial 4 with value: 0.6512440925779434.\n"
     ]
    },
    {
     "name": "stdout",
     "output_type": "stream",
     "text": [
      "Epoch [15/30], Train Loss: 0.7569, Test Loss: 0.7152, \n",
      "⚠️ No improvement. Patience counter = 5/5\n",
      "⏹ Early stopping at epoch 15 (best loss = 0.7116)\n",
      "Training Finished ✅\n",
      "Epoch [1/20], Train Loss: 0.8132, Test Loss: 0.7552, \n",
      "✅ Model improved. Saved at epoch 1 with Test Loss 0.7552\n",
      "Epoch [2/20], Train Loss: 0.7828, Test Loss: 0.7565, \n",
      "⚠️ No improvement. Patience counter = 1/5\n",
      "Epoch [3/20], Train Loss: 0.7806, Test Loss: 0.7418, \n",
      "✅ Model improved. Saved at epoch 3 with Test Loss 0.7418\n",
      "Epoch [4/20], Train Loss: 0.7819, Test Loss: 0.7493, \n",
      "⚠️ No improvement. Patience counter = 1/5\n",
      "Epoch [5/20], Train Loss: 0.7816, Test Loss: 0.7409, \n",
      "✅ Model improved. Saved at epoch 5 with Test Loss 0.7409\n",
      "Epoch [6/20], Train Loss: 0.7826, Test Loss: 0.7414, \n",
      "⚠️ No improvement. Patience counter = 1/5\n",
      "Epoch [7/20], Train Loss: 0.7840, Test Loss: 0.7473, \n",
      "⚠️ No improvement. Patience counter = 2/5\n",
      "Epoch [8/20], Train Loss: 0.7860, Test Loss: 0.7394, \n",
      "✅ Model improved. Saved at epoch 8 with Test Loss 0.7394\n",
      "Epoch [9/20], Train Loss: 0.7849, Test Loss: 0.7442, \n",
      "⚠️ No improvement. Patience counter = 1/5\n",
      "Epoch [10/20], Train Loss: 0.7882, Test Loss: 0.7406, \n",
      "⚠️ No improvement. Patience counter = 2/5\n",
      "Epoch [11/20], Train Loss: 0.7863, Test Loss: 0.7455, \n",
      "⚠️ No improvement. Patience counter = 3/5\n",
      "Epoch [12/20], Train Loss: 0.7850, Test Loss: 0.7447, \n",
      "⚠️ No improvement. Patience counter = 4/5\n"
     ]
    },
    {
     "name": "stderr",
     "output_type": "stream",
     "text": [
      "[I 2025-10-17 00:05:25,520] Trial 6 finished with value: 0.7394327913610318 and parameters: {'num_hidden_layer': 9, 'neurons_per_hidden_layer': 352, 'lr': 0.0015030290486481484, 'weight_decay': 0.004272906634286534, 'dropout_rate': 0.4014622137892655, 'batch_size': 64, 'epochs': 20, 'optimizer': 'RMSprop'}. Best is trial 4 with value: 0.6512440925779434.\n"
     ]
    },
    {
     "name": "stdout",
     "output_type": "stream",
     "text": [
      "Epoch [13/20], Train Loss: 0.7873, Test Loss: 0.7509, \n",
      "⚠️ No improvement. Patience counter = 5/5\n",
      "⏹ Early stopping at epoch 13 (best loss = 0.7394)\n",
      "Training Finished ✅\n",
      "Epoch [1/30], Train Loss: 0.8058, Test Loss: 0.7316, \n",
      "✅ Model improved. Saved at epoch 1 with Test Loss 0.7316\n",
      "Epoch [2/30], Train Loss: 0.7860, Test Loss: 0.7300, \n",
      "✅ Model improved. Saved at epoch 2 with Test Loss 0.7300\n",
      "Epoch [3/30], Train Loss: 0.7864, Test Loss: 0.7312, \n",
      "⚠️ No improvement. Patience counter = 1/5\n",
      "Epoch [4/30], Train Loss: 0.7864, Test Loss: 0.7335, \n",
      "⚠️ No improvement. Patience counter = 2/5\n",
      "Epoch [5/30], Train Loss: 0.7839, Test Loss: 0.7332, \n",
      "⚠️ No improvement. Patience counter = 3/5\n",
      "Epoch [6/30], Train Loss: 0.7838, Test Loss: 0.7361, \n",
      "⚠️ No improvement. Patience counter = 4/5\n"
     ]
    },
    {
     "name": "stderr",
     "output_type": "stream",
     "text": [
      "[I 2025-10-17 00:07:18,769] Trial 7 finished with value: 0.7300019882917405 and parameters: {'num_hidden_layer': 4, 'neurons_per_hidden_layer': 304, 'lr': 0.0051660410584279575, 'weight_decay': 7.072666905874787e-05, 'dropout_rate': 0.38778218888480487, 'batch_size': 16, 'epochs': 30, 'optimizer': 'Adam'}. Best is trial 4 with value: 0.6512440925779434.\n"
     ]
    },
    {
     "name": "stdout",
     "output_type": "stream",
     "text": [
      "Epoch [7/30], Train Loss: 0.7833, Test Loss: 0.7320, \n",
      "⚠️ No improvement. Patience counter = 5/5\n",
      "⏹ Early stopping at epoch 7 (best loss = 0.7300)\n",
      "Training Finished ✅\n",
      "Epoch [1/40], Train Loss: 0.9368, Test Loss: 0.7614, \n",
      "✅ Model improved. Saved at epoch 1 with Test Loss 0.7614\n",
      "Epoch [2/40], Train Loss: 0.8065, Test Loss: 0.7468, \n",
      "✅ Model improved. Saved at epoch 2 with Test Loss 0.7468\n",
      "Epoch [3/40], Train Loss: 0.7844, Test Loss: 0.7335, \n",
      "✅ Model improved. Saved at epoch 3 with Test Loss 0.7335\n",
      "Epoch [4/40], Train Loss: 0.7696, Test Loss: 0.7255, \n",
      "✅ Model improved. Saved at epoch 4 with Test Loss 0.7255\n",
      "Epoch [5/40], Train Loss: 0.7642, Test Loss: 0.7207, \n",
      "✅ Model improved. Saved at epoch 5 with Test Loss 0.7207\n",
      "Epoch [6/40], Train Loss: 0.7630, Test Loss: 0.7222, \n",
      "⚠️ No improvement. Patience counter = 1/5\n",
      "Epoch [7/40], Train Loss: 0.7592, Test Loss: 0.7116, \n",
      "✅ Model improved. Saved at epoch 7 with Test Loss 0.7116\n",
      "Epoch [8/40], Train Loss: 0.7546, Test Loss: 0.7169, \n",
      "⚠️ No improvement. Patience counter = 1/5\n",
      "Epoch [9/40], Train Loss: 0.7528, Test Loss: 0.7128, \n",
      "⚠️ No improvement. Patience counter = 2/5\n",
      "Epoch [10/40], Train Loss: 0.7503, Test Loss: 0.7122, \n",
      "⚠️ No improvement. Patience counter = 3/5\n",
      "Epoch [11/40], Train Loss: 0.7469, Test Loss: 0.7104, \n",
      "✅ Model improved. Saved at epoch 11 with Test Loss 0.7104\n",
      "Epoch [12/40], Train Loss: 0.7469, Test Loss: 0.7099, \n",
      "✅ Model improved. Saved at epoch 12 with Test Loss 0.7099\n",
      "Epoch [13/40], Train Loss: 0.7470, Test Loss: 0.7123, \n",
      "⚠️ No improvement. Patience counter = 1/5\n",
      "Epoch [14/40], Train Loss: 0.7471, Test Loss: 0.7091, \n",
      "✅ Model improved. Saved at epoch 14 with Test Loss 0.7091\n",
      "Epoch [15/40], Train Loss: 0.7434, Test Loss: 0.7053, \n",
      "✅ Model improved. Saved at epoch 15 with Test Loss 0.7053\n",
      "Epoch [16/40], Train Loss: 0.7443, Test Loss: 0.7055, \n",
      "⚠️ No improvement. Patience counter = 1/5\n",
      "Epoch [17/40], Train Loss: 0.7437, Test Loss: 0.7060, \n",
      "⚠️ No improvement. Patience counter = 2/5\n",
      "Epoch [18/40], Train Loss: 0.7422, Test Loss: 0.7063, \n",
      "⚠️ No improvement. Patience counter = 3/5\n",
      "Epoch [19/40], Train Loss: 0.7425, Test Loss: 0.7042, \n",
      "✅ Model improved. Saved at epoch 19 with Test Loss 0.7042\n",
      "Epoch [20/40], Train Loss: 0.7432, Test Loss: 0.7095, \n",
      "⚠️ No improvement. Patience counter = 1/5\n",
      "Epoch [21/40], Train Loss: 0.7413, Test Loss: 0.7088, \n",
      "⚠️ No improvement. Patience counter = 2/5\n"
     ]
    }
   ],
   "source": [
    "#now we will run the study object.\n",
    "study.optimize(func=objective,n_trials=10)"
   ]
  },
  {
   "cell_type": "code",
   "execution_count": null,
   "id": "0b9eabe9",
   "metadata": {},
   "outputs": [],
   "source": []
  },
  {
   "cell_type": "code",
   "execution_count": null,
   "id": "533b8edd",
   "metadata": {},
   "outputs": [],
   "source": []
  }
 ],
 "metadata": {
  "kernelspec": {
   "display_name": "hf-gpu",
   "language": "python",
   "name": "python3"
  },
  "language_info": {
   "codemirror_mode": {
    "name": "ipython",
    "version": 3
   },
   "file_extension": ".py",
   "mimetype": "text/x-python",
   "name": "python",
   "nbconvert_exporter": "python",
   "pygments_lexer": "ipython3",
   "version": "3.10.18"
  }
 },
 "nbformat": 4,
 "nbformat_minor": 5
}
